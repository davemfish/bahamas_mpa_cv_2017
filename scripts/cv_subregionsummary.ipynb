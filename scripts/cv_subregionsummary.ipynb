{
 "cells": [
  {
   "cell_type": "markdown",
   "metadata": {},
   "source": [
    "Summarize Coastal Vulnerability results by subregions.\n",
    "For example, plot the average 'coastal_exposure' or 'habitat_role' value for all points within an area.\n",
    "\n",
    "Intersect points with subregion polygons, make boxplots."
   ]
  },
  {
   "cell_type": "code",
   "execution_count": 1,
   "metadata": {},
   "outputs": [],
   "source": [
    "import pandas as pd\n",
    "import os\n",
    "import geopandas as gpd\n",
    "import matplotlib.pyplot as plt\n",
    "import seaborn as sns\n",
    "%matplotlib inline"
   ]
  },
  {
   "cell_type": "code",
   "execution_count": 2,
   "metadata": {
    "collapsed": true
   },
   "outputs": [],
   "source": [
    "# workspace = '../mpa-removeall-habitat/cv-output-invest3.3.0/'"
   ]
  },
  {
   "cell_type": "code",
   "execution_count": 2,
   "metadata": {},
   "outputs": [],
   "source": [
    "ce_pts = gpd.read_file('../mpa-removeall-habitat/scenario_data/national_cv_3scenarios.shp')"
   ]
  },
  {
   "cell_type": "code",
   "execution_count": 20,
   "metadata": {
    "collapsed": true
   },
   "outputs": [],
   "source": [
    "# ce_data = pd.read_csv(os.path.join(workspace, 'outputs/coastal_exposure/coastal_exposure.csv'))"
   ]
  },
  {
   "cell_type": "code",
   "execution_count": 3,
   "metadata": {
    "collapsed": true
   },
   "outputs": [],
   "source": [
    "subregions = gpd.read_file('/home/dmf/bahamas-mpa/cv/cv-fromjess/Bahamas_regionalCV_Inputs/LandPoly_Bahamas_subregions.shp')"
   ]
  },
  {
   "cell_type": "code",
   "execution_count": 14,
   "metadata": {
    "collapsed": true
   },
   "outputs": [],
   "source": [
    "subregions['geometry'] = subregions.buffer(400)"
   ]
  },
  {
   "cell_type": "code",
   "execution_count": 21,
   "metadata": {},
   "outputs": [],
   "source": [
    "pts_in_region = gpd.sjoin(ce_pts, subregions, how='inner', op='intersects')"
   ]
  },
  {
   "cell_type": "code",
   "execution_count": 19,
   "metadata": {},
   "outputs": [
    {
     "data": {
      "text/html": [
       "<div>\n",
       "<table border=\"1\" class=\"dataframe\">\n",
       "  <thead>\n",
       "    <tr style=\"text-align: right;\">\n",
       "      <th></th>\n",
       "      <th>FID</th>\n",
       "      <th>geometry</th>\n",
       "    </tr>\n",
       "  </thead>\n",
       "  <tbody>\n",
       "    <tr>\n",
       "      <th>0</th>\n",
       "      <td>0.0</td>\n",
       "      <td>POINT (162996.410662489 3019659.244384566)</td>\n",
       "    </tr>\n",
       "    <tr>\n",
       "      <th>1</th>\n",
       "      <td>1.0</td>\n",
       "      <td>POINT (162746.410662489 3019409.244384566)</td>\n",
       "    </tr>\n",
       "    <tr>\n",
       "      <th>2</th>\n",
       "      <td>2.0</td>\n",
       "      <td>POINT (163246.410662489 3019409.244384566)</td>\n",
       "    </tr>\n",
       "    <tr>\n",
       "      <th>3</th>\n",
       "      <td>3.0</td>\n",
       "      <td>POINT (163496.410662489 3019409.244384566)</td>\n",
       "    </tr>\n",
       "    <tr>\n",
       "      <th>4</th>\n",
       "      <td>4.0</td>\n",
       "      <td>POINT (162746.410662489 3019159.244384566)</td>\n",
       "    </tr>\n",
       "  </tbody>\n",
       "</table>\n",
       "</div>"
      ],
      "text/plain": [
       "   FID                                    geometry\n",
       "0  0.0  POINT (162996.410662489 3019659.244384566)\n",
       "1  1.0  POINT (162746.410662489 3019409.244384566)\n",
       "2  2.0  POINT (163246.410662489 3019409.244384566)\n",
       "3  3.0  POINT (163496.410662489 3019409.244384566)\n",
       "4  4.0  POINT (162746.410662489 3019159.244384566)"
      ]
     },
     "execution_count": 19,
     "metadata": {},
     "output_type": "execute_result"
    }
   ],
   "source": [
    "pts_in_region.head()"
   ]
  },
  {
   "cell_type": "code",
   "execution_count": 12,
   "metadata": {},
   "outputs": [
    {
     "data": {
      "text/plain": [
       "245448"
      ]
     },
     "execution_count": 12,
     "metadata": {},
     "output_type": "execute_result"
    }
   ],
   "source": [
    "pts_in_region.size"
   ]
  },
  {
   "cell_type": "code",
   "execution_count": 13,
   "metadata": {
    "collapsed": true
   },
   "outputs": [],
   "source": [
    "dat = pts_in_region"
   ]
  },
  {
   "cell_type": "code",
   "execution_count": 22,
   "metadata": {},
   "outputs": [],
   "source": [
    "dat2 = dat.join(ce_data, on='FID', how='left')"
   ]
  },
  {
   "cell_type": "code",
   "execution_count": 23,
   "metadata": {},
   "outputs": [
    {
     "data": {
      "text/html": [
       "<div>\n",
       "<table border=\"1\" class=\"dataframe\">\n",
       "  <thead>\n",
       "    <tr style=\"text-align: right;\">\n",
       "      <th></th>\n",
       "      <th>FID</th>\n",
       "      <th>geometry</th>\n",
       "      <th>index_right</th>\n",
       "      <th>CROSS_SHLF</th>\n",
       "      <th>Name</th>\n",
       "      <th>ORIG_FID</th>\n",
       "      <th>Subregion</th>\n",
       "      <th>sq_meter</th>\n",
       "      <th>sqmeter_2</th>\n",
       "      <th>x</th>\n",
       "      <th>...</th>\n",
       "      <th>array row</th>\n",
       "      <th>array col</th>\n",
       "      <th>shore_exposure</th>\n",
       "      <th>relief</th>\n",
       "      <th>natural_habitats</th>\n",
       "      <th>wave_exposure</th>\n",
       "      <th>surge_potential</th>\n",
       "      <th>coastal_exposure</th>\n",
       "      <th>coastal_exposure_no_habitats</th>\n",
       "      <th>habitat_role</th>\n",
       "    </tr>\n",
       "  </thead>\n",
       "  <tbody>\n",
       "    <tr>\n",
       "      <th>0</th>\n",
       "      <td>0.0</td>\n",
       "      <td>POINT (162996.410662489 3019659.244384566)</td>\n",
       "      <td>16</td>\n",
       "      <td>None</td>\n",
       "      <td>Abaco</td>\n",
       "      <td>2326</td>\n",
       "      <td>North/Northwestern</td>\n",
       "      <td>633851</td>\n",
       "      <td>633851</td>\n",
       "      <td>162996.410662</td>\n",
       "      <td>...</td>\n",
       "      <td>363</td>\n",
       "      <td>979</td>\n",
       "      <td>1.0</td>\n",
       "      <td>1</td>\n",
       "      <td>1.75862</td>\n",
       "      <td>5</td>\n",
       "      <td>4</td>\n",
       "      <td>2.43529</td>\n",
       "      <td>3.16228</td>\n",
       "      <td>0.726989</td>\n",
       "    </tr>\n",
       "    <tr>\n",
       "      <th>1</th>\n",
       "      <td>1.0</td>\n",
       "      <td>POINT (162746.410662489 3019409.244384566)</td>\n",
       "      <td>16</td>\n",
       "      <td>None</td>\n",
       "      <td>Abaco</td>\n",
       "      <td>2326</td>\n",
       "      <td>North/Northwestern</td>\n",
       "      <td>633851</td>\n",
       "      <td>633851</td>\n",
       "      <td>162746.410662</td>\n",
       "      <td>...</td>\n",
       "      <td>364</td>\n",
       "      <td>978</td>\n",
       "      <td>1.0</td>\n",
       "      <td>1</td>\n",
       "      <td>1.75862</td>\n",
       "      <td>5</td>\n",
       "      <td>4</td>\n",
       "      <td>2.43529</td>\n",
       "      <td>3.16228</td>\n",
       "      <td>0.726989</td>\n",
       "    </tr>\n",
       "    <tr>\n",
       "      <th>2</th>\n",
       "      <td>2.0</td>\n",
       "      <td>POINT (163246.410662489 3019409.244384566)</td>\n",
       "      <td>16</td>\n",
       "      <td>None</td>\n",
       "      <td>Abaco</td>\n",
       "      <td>2326</td>\n",
       "      <td>North/Northwestern</td>\n",
       "      <td>633851</td>\n",
       "      <td>633851</td>\n",
       "      <td>163246.410662</td>\n",
       "      <td>...</td>\n",
       "      <td>364</td>\n",
       "      <td>980</td>\n",
       "      <td>1.0</td>\n",
       "      <td>1</td>\n",
       "      <td>1.75862</td>\n",
       "      <td>5</td>\n",
       "      <td>4</td>\n",
       "      <td>2.43529</td>\n",
       "      <td>3.16228</td>\n",
       "      <td>0.726989</td>\n",
       "    </tr>\n",
       "    <tr>\n",
       "      <th>3</th>\n",
       "      <td>3.0</td>\n",
       "      <td>POINT (163496.410662489 3019409.244384566)</td>\n",
       "      <td>16</td>\n",
       "      <td>None</td>\n",
       "      <td>Abaco</td>\n",
       "      <td>2326</td>\n",
       "      <td>North/Northwestern</td>\n",
       "      <td>633851</td>\n",
       "      <td>633851</td>\n",
       "      <td>163496.410662</td>\n",
       "      <td>...</td>\n",
       "      <td>364</td>\n",
       "      <td>981</td>\n",
       "      <td>1.0</td>\n",
       "      <td>1</td>\n",
       "      <td>1.75862</td>\n",
       "      <td>5</td>\n",
       "      <td>4</td>\n",
       "      <td>2.43529</td>\n",
       "      <td>3.16228</td>\n",
       "      <td>0.726989</td>\n",
       "    </tr>\n",
       "    <tr>\n",
       "      <th>4</th>\n",
       "      <td>4.0</td>\n",
       "      <td>POINT (162746.410662489 3019159.244384566)</td>\n",
       "      <td>16</td>\n",
       "      <td>None</td>\n",
       "      <td>Abaco</td>\n",
       "      <td>2326</td>\n",
       "      <td>North/Northwestern</td>\n",
       "      <td>633851</td>\n",
       "      <td>633851</td>\n",
       "      <td>162746.410662</td>\n",
       "      <td>...</td>\n",
       "      <td>365</td>\n",
       "      <td>978</td>\n",
       "      <td>1.0</td>\n",
       "      <td>1</td>\n",
       "      <td>1.75862</td>\n",
       "      <td>5</td>\n",
       "      <td>4</td>\n",
       "      <td>2.43529</td>\n",
       "      <td>3.16228</td>\n",
       "      <td>0.726989</td>\n",
       "    </tr>\n",
       "  </tbody>\n",
       "</table>\n",
       "<p>5 rows × 21 columns</p>\n",
       "</div>"
      ],
      "text/plain": [
       "   FID                                    geometry  index_right CROSS_SHLF  \\\n",
       "0  0.0  POINT (162996.410662489 3019659.244384566)           16       None   \n",
       "1  1.0  POINT (162746.410662489 3019409.244384566)           16       None   \n",
       "2  2.0  POINT (163246.410662489 3019409.244384566)           16       None   \n",
       "3  3.0  POINT (163496.410662489 3019409.244384566)           16       None   \n",
       "4  4.0  POINT (162746.410662489 3019159.244384566)           16       None   \n",
       "\n",
       "    Name  ORIG_FID           Subregion  sq_meter  sqmeter_2              x  \\\n",
       "0  Abaco      2326  North/Northwestern    633851     633851  162996.410662   \n",
       "1  Abaco      2326  North/Northwestern    633851     633851  162746.410662   \n",
       "2  Abaco      2326  North/Northwestern    633851     633851  163246.410662   \n",
       "3  Abaco      2326  North/Northwestern    633851     633851  163496.410662   \n",
       "4  Abaco      2326  North/Northwestern    633851     633851  162746.410662   \n",
       "\n",
       "       ...       array row  array col  shore_exposure  relief  \\\n",
       "0      ...             363        979             1.0       1   \n",
       "1      ...             364        978             1.0       1   \n",
       "2      ...             364        980             1.0       1   \n",
       "3      ...             364        981             1.0       1   \n",
       "4      ...             365        978             1.0       1   \n",
       "\n",
       "   natural_habitats  wave_exposure  surge_potential  coastal_exposure  \\\n",
       "0           1.75862              5                4           2.43529   \n",
       "1           1.75862              5                4           2.43529   \n",
       "2           1.75862              5                4           2.43529   \n",
       "3           1.75862              5                4           2.43529   \n",
       "4           1.75862              5                4           2.43529   \n",
       "\n",
       "   coastal_exposure_no_habitats  habitat_role  \n",
       "0                       3.16228      0.726989  \n",
       "1                       3.16228      0.726989  \n",
       "2                       3.16228      0.726989  \n",
       "3                       3.16228      0.726989  \n",
       "4                       3.16228      0.726989  \n",
       "\n",
       "[5 rows x 21 columns]"
      ]
     },
     "execution_count": 23,
     "metadata": {},
     "output_type": "execute_result"
    }
   ],
   "source": [
    "dat2.head()"
   ]
  },
  {
   "cell_type": "code",
   "execution_count": 24,
   "metadata": {},
   "outputs": [
    {
     "data": {
      "text/plain": [
       "<matplotlib.axes.AxesSubplot at 0x7f31fc53b810>"
      ]
     },
     "execution_count": 24,
     "metadata": {},
     "output_type": "execute_result"
    },
    {
     "data": {
      "image/png": "[encoded data removed]",
      "text/plain": [
       "<matplotlib.figure.Figure at 0x7f31fc928f10>"
      ]
     },
     "metadata": {},
     "output_type": "display_data"
    }
   ],
   "source": [
    "sns.boxplot(x=\"habitat_role\", y=\"Name\", data=dat2)"
   ]
  },
  {
   "cell_type": "code",
   "execution_count": 25,
   "metadata": {},
   "outputs": [
    {
     "data": {
      "text/plain": [
       "<matplotlib.axes.AxesSubplot at 0x7f31fc7a5fd0>"
      ]
     },
     "execution_count": 25,
     "metadata": {},
     "output_type": "execute_result"
    },
    {
     "data": {
      "image/png": "[encoded data removed]",
      "text/plain": [
       "<matplotlib.figure.Figure at 0x7f31fc72ea50>"
      ]
     },
     "metadata": {},
     "output_type": "display_data"
    }
   ],
   "source": [
    "sns.boxplot(x=\"coastal_exposure\", y=\"Name\", data=dat2)"
   ]
  },
  {
   "cell_type": "code",
   "execution_count": null,
   "metadata": {
    "collapsed": true
   },
   "outputs": [],
   "source": []
  },
  {
   "cell_type": "code",
   "execution_count": null,
   "metadata": {
    "collapsed": true
   },
   "outputs": [],
   "source": []
  },
  {
   "cell_type": "code",
   "execution_count": null,
   "metadata": {
    "collapsed": true
   },
   "outputs": [],
   "source": []
  },
  {
   "cell_type": "code",
   "execution_count": null,
   "metadata": {
    "collapsed": true
   },
   "outputs": [],
   "source": []
  },
  {
   "cell_type": "code",
   "execution_count": null,
   "metadata": {
    "collapsed": true
   },
   "outputs": [],
   "source": []
  },
  {
   "cell_type": "code",
   "execution_count": null,
   "metadata": {
    "collapsed": true
   },
   "outputs": [],
   "source": []
  },
  {
   "cell_type": "code",
   "execution_count": null,
   "metadata": {
    "collapsed": true
   },
   "outputs": [],
   "source": []
  }
 ],
 "metadata": {
  "kernelspec": {
   "display_name": "Python 3",
   "language": "python",
   "name": "python3"
  },
  "language_info": {
   "codemirror_mode": {
    "name": "ipython",
    "version": 3
   },
   "file_extension": ".py",
   "mimetype": "text/x-python",
   "name": "python",
   "nbconvert_exporter": "python",
   "pygments_lexer": "ipython3",
   "version": "3.7.3"
  }
 },
 "nbformat": 4,
 "nbformat_minor": 1
}
