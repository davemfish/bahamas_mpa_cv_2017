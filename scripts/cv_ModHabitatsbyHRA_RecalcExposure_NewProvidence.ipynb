{
 "cells": [
  {
   "cell_type": "code",
   "execution_count": 55,
   "metadata": {},
   "outputs": [],
   "source": [
    "import pandas as pd\n",
    "import numpy as np\n",
    "import os\n",
    "import geopandas as gpd\n",
    "import logging\n",
    "logging.basicConfig(level=logging.ERROR) # to avoid the logging bug in natcap.invest\n",
    "import natcap.invest.coastal_vulnerability.coastal_vulnerability_core as cv\n",
    "import matplotlib.pyplot as plt\n",
    "import seaborn as sns\n",
    "%matplotlib inline\n",
    "from matplotlib import rcParams\n",
    "rcParams.update({'figure.autolayout': True})\n",
    "sns.set(font_scale=1.3)"
   ]
  },
  {
   "cell_type": "code",
   "execution_count": null,
   "metadata": {
    "collapsed": true
   },
   "outputs": [],
   "source": [
    "# workspace = '../mpa-removeall-habitat/scenario_data/'"
   ]
  },
  {
   "cell_type": "markdown",
   "metadata": {},
   "source": [
    "### load baseline habitat ranks"
   ]
  },
  {
   "cell_type": "code",
   "execution_count": 56,
   "metadata": {},
   "outputs": [],
   "source": [
    "# these data built by Jess in GIS - selecting points within the 'protective distance' of each habitat, and assigning rank\n",
    "# then maybe some manual selection/deselection of points to account for the 'skinny island' effect \n",
    "# When building this shapefile, MUST start with 'coastal_exposure.shp' returned by invest\n",
    "# so that later on habitats ranks can be merged with other exposure indices, by simply binding columns together\n",
    "allhabitats = gpd.read_file('../mpa-removeall-habitat/habitat_ranks_baseline.shp')\n",
    "\n",
    "# baseline habitat ranks could also come from CV outputs - coastal_exposure.cv"
   ]
  },
  {
   "cell_type": "code",
   "execution_count": null,
   "metadata": {},
   "outputs": [],
   "source": [
    "allhabitats.head()"
   ]
  },
  {
   "cell_type": "markdown",
   "metadata": {},
   "source": [
    "### adjust ranks based on HRA scenarios that reduce habitat functionality based on risk\n",
    "#### find points within protective distance of each habitat, by each habitat risk category, assign new habitat ranks  "
   ]
  },
  {
   "cell_type": "code",
   "execution_count": null,
   "metadata": {},
   "outputs": [],
   "source": [
    "# Load Protective Distances\n",
    "protection = pd.read_csv('../mpa-removeall-habitat/NaturalHabitat_Bahamaswide.csv')\n",
    "protection"
   ]
  },
  {
   "cell_type": "code",
   "execution_count": null,
   "metadata": {
    "collapsed": true
   },
   "outputs": [],
   "source": [
    "# Define habitat rank changes\n",
    "seagrass_adjust_dict = {'low':4, 'med':4.5, 'high':4.75}\n",
    "coral_adjust_dict = {'low':1, 'med':2, 'high':3}\n",
    "pine_adjust_dict = {'low':3, 'med':4, 'high':4.75}\n",
    "coppice_adjust_dict = {'low':1, 'med':2, 'high':3}\n",
    "mangrove_adjust_dict = {'low':3, 'med':4, 'high':4.75}"
   ]
  },
  {
   "cell_type": "code",
   "execution_count": null,
   "metadata": {
    "collapsed": true
   },
   "outputs": [],
   "source": [
    "def subset_buffer_intersect(hra_hab_geodf, base_hab_geodf, buffdist, risk):\n",
    "    # risk is one of 'LOW' 'MED' or 'HIGH'\n",
    "    hra_subset = hra_hab_geodf[hra_hab_geodf.CLASSIFY == risk]\n",
    "#     print(buffdist)\n",
    "    hra_buf = hra_subset.buffer(buffdist)\n",
    "    \n",
    "    inter = base_hab_geodf.intersects(hra_buf.unary_union)\n",
    "    print(inter.value_counts()) # quick check on how many intersecting points\n",
    "    \n",
    "    return(inter)"
   ]
  },
  {
   "cell_type": "code",
   "execution_count": null,
   "metadata": {
    "collapsed": true
   },
   "outputs": [],
   "source": [
    "def join_hra_risk(hra_risk_shp, protection_distance_df, protection_habstr, baseline_habstr):\n",
    "    print('joining:  ' + hra_risk_shp)\n",
    "    hra = gpd.read_file(hra_risk_shp)\n",
    "    buffdist = protection_distance_df[protection_distance_df.HABITAT == protection_habstr]['PROTECTION DISTANCE (m)']\n",
    "    \n",
    "    base_hab = allhabitats[['geometry', baseline_habstr]]\n",
    "    \n",
    "    low_inter = subset_buffer_intersect(hra, base_hab, buffdist, 'LOW')\n",
    "    base_hab['low'] = low_inter\n",
    "    med_inter = subset_buffer_intersect(hra, base_hab, buffdist, 'MED')\n",
    "    base_hab['med'] = med_inter\n",
    "    high_inter = subset_buffer_intersect(hra, base_hab, buffdist, 'HIGH')\n",
    "    base_hab['high'] = high_inter\n",
    "    \n",
    "    return(base_hab)\n",
    "    "
   ]
  },
  {
   "cell_type": "code",
   "execution_count": null,
   "metadata": {
    "collapsed": true
   },
   "outputs": [],
   "source": [
    "def adjust_rank(x, baseline_habstr, adjust_dict):\n",
    "# x : dataframe with baseline habitat rank column and hra risk categories\n",
    "\n",
    "# can't use this first clause because coral restoration is in the scenario,\n",
    "# but shouldn't need it anyhow if not dealing with the 'skinny island' problem\n",
    "#     if x[baseline_habstr] == 0:\n",
    "#         return(0)\n",
    "#     else:\n",
    "\n",
    "# low trumps med trumps high, just so that 'low' risk coral spots in the restoration scenario \n",
    "# have an effect\n",
    "    if x.low:\n",
    "        return(adjust_dict['low'])\n",
    "    if x.med:\n",
    "        return(adjust_dict['med'])\n",
    "    if x.high:\n",
    "        return(adjust_dict['high'])\n",
    "    return(x[baseline_habstr])"
   ]
  },
  {
   "cell_type": "code",
   "execution_count": null,
   "metadata": {
    "collapsed": true
   },
   "outputs": [],
   "source": [
    "# pick a scenario workspace:\n",
    "workspace = '../../hra/SWMMA/_250m_3max/output/Maps/'\n",
    "scenario_str = 'swmma_current'\n",
    "# workspace = '../../hra/SWMMA/_restoration/'\n",
    "# scenario_str = 'swmma_restore'"
   ]
  },
  {
   "cell_type": "code",
   "execution_count": null,
   "metadata": {},
   "outputs": [],
   "source": [
    "seagrass = join_hra_risk(os.path.join(workspace, '[seagrass]_RISK.shp'),\n",
    "          protection, 'Seagrass', 'sgr_rank')\n",
    "seagrass['new_rank'] = seagrass.apply(axis=1, func=adjust_rank, args=('sgr_rank', seagrass_adjust_dict))\n",
    "\n",
    "coral = join_hra_risk(os.path.join(workspace, '[coral]_RISK.shp'),\n",
    "          protection, 'ShallowCoral', 'cor_rank')\n",
    "coral['new_rank'] = coral.apply(axis=1, func=adjust_rank, args=('cor_rank', coral_adjust_dict))\n",
    "                      \n",
    "pine = join_hra_risk(os.path.join(workspace, '[pineland]_RISK.shp'),\n",
    "          protection, 'Pine', 'pine_rank')\n",
    "pine['new_rank'] = pine.apply(axis=1, func=adjust_rank, args=('pine_rank', pine_adjust_dict))\n",
    "                     \n",
    "coppice = join_hra_risk(os.path.join(workspace, '[coppice]_RISK.shp'),\n",
    "          protection, 'DenseMangroveandCoppice', 'copp_rank')\n",
    "coppice['new_rank'] = coppice.apply(axis=1, func=adjust_rank, args=('copp_rank', coppice_adjust_dict))\n",
    "                        \n",
    "mangrove = join_hra_risk(os.path.join(workspace, '[mangrove]_RISK.shp'),\n",
    "          protection, 'SwampSparseMangrove', 'mang_rank')\n",
    "mangrove['new_rank'] = mangrove.apply(axis=1, func=adjust_rank, args=('mang_rank', mangrove_adjust_dict))\n",
    "                         \n",
    "seagrass.shape[0] == coral.shape[0] == pine.shape[0] == coppice.shape[0] == mangrove.shape[0]\n",
    "                         \n",
    "new_habranks = pd.concat(\n",
    "    [seagrass.new_rank, coral.new_rank, pine.new_rank, coppice.new_rank, mangrove.new_rank], axis=1)\n",
    "new_habranks.columns = ['sgr_rank', 'cor_rank', 'pine_rank', 'copp_rank', 'mang_rank']\n",
    "\n",
    "new_habranks.to_csv(os.path.join('../swmma-scenarios', scenario_str+'_habitat_ranks.csv'), index=False)"
   ]
  },
  {
   "cell_type": "code",
   "execution_count": null,
   "metadata": {
    "collapsed": true
   },
   "outputs": [],
   "source": [
    "qaqc_newhab_shp = gpd.GeoDataFrame(new_habranks, geometry=allhabitats.geometry, crs=allhabitats.crs)"
   ]
  },
  {
   "cell_type": "code",
   "execution_count": null,
   "metadata": {
    "collapsed": true
   },
   "outputs": [],
   "source": [
    "qaqc_newhab_shp.to_file(os.path.join('../swmma-scenarios', scenario_str+'_habitat_ranks.shp'))"
   ]
  },
  {
   "cell_type": "code",
   "execution_count": null,
   "metadata": {
    "collapsed": true
   },
   "outputs": [],
   "source": [
    "# qaqc\n",
    "# new_habranks.drop_duplicates()"
   ]
  },
  {
   "cell_type": "markdown",
   "metadata": {},
   "source": [
    "### compute coastal forest score for baseline and 2 scenario habitat ranks\n",
    "CF rank for a point is the 'best' rank among the coppice, mangrove, pine habitat ranks present at that point"
   ]
  },
  {
   "cell_type": "code",
   "execution_count": null,
   "metadata": {
    "collapsed": true
   },
   "outputs": [],
   "source": [
    "# x : dataframe with habitat rank column for each habitat considered for coastal forest\n",
    "def coastal_forest_rank(x):\n",
    "    if sum(x) == 0:\n",
    "        return 0\n",
    "    else:\n",
    "        return min(x[x>0])"
   ]
  },
  {
   "cell_type": "code",
   "execution_count": null,
   "metadata": {
    "collapsed": true
   },
   "outputs": [],
   "source": [
    "base_habitats = gpd.read_file('../mpa-removeall-habitat/habitat_ranks_baseline.shp')\n",
    "current_habitats = gpd.read_file('../swmma-scenarios/swmma_current_habitat_ranks.shp')\n",
    "restore_habitats = gpd.read_file('../swmma-scenarios/swmma_restore_habitat_ranks.shp')"
   ]
  },
  {
   "cell_type": "code",
   "execution_count": null,
   "metadata": {
    "collapsed": true
   },
   "outputs": [],
   "source": [
    "base_habitats['cf_rank'] = \\\n",
    "base_habitats[['copp_rank', 'mang_rank', 'pine_rank']].apply(axis=1, func=coastal_forest_rank)"
   ]
  },
  {
   "cell_type": "code",
   "execution_count": null,
   "metadata": {
    "collapsed": true
   },
   "outputs": [],
   "source": [
    "current_habitats['cf_rank'] = \\\n",
    "current_habitats[['copp_rank', 'mang_rank', 'pine_rank']].apply(axis=1, func=coastal_forest_rank)"
   ]
  },
  {
   "cell_type": "code",
   "execution_count": null,
   "metadata": {
    "collapsed": true
   },
   "outputs": [],
   "source": [
    "restore_habitats['cf_rank'] = \\\n",
    "restore_habitats[['copp_rank', 'mang_rank', 'pine_rank']].apply(axis=1, func=coastal_forest_rank)"
   ]
  },
  {
   "cell_type": "code",
   "execution_count": null,
   "metadata": {},
   "outputs": [],
   "source": [
    "# QAQC: results of coastal_forest rank\n",
    "current_habitats[['copp_rank', 'mang_rank', 'pine_rank', 'cf_rank']].drop_duplicates()"
   ]
  },
  {
   "cell_type": "markdown",
   "metadata": {},
   "source": [
    "### compute natural_habitats rank"
   ]
  },
  {
   "cell_type": "code",
   "execution_count": null,
   "metadata": {
    "collapsed": true
   },
   "outputs": [],
   "source": [
    "# x : dataframe with habitat rank column for only the habitats considered\n",
    "# func follows logic in invest cv model\n",
    "def recalc_habindex(x):\n",
    "    if sum(x) == 0:\n",
    "        return 5\n",
    "    else:\n",
    "        x = x[x != 0]\n",
    "        return cv.combined_rank(x) # imported from invest\n"
   ]
  },
  {
   "cell_type": "code",
   "execution_count": null,
   "metadata": {
    "collapsed": true
   },
   "outputs": [],
   "source": [
    "base_habitats['natural_habitats'] = \\\n",
    "base_habitats[['cf_rank', 'sgr_rank', 'cor_rank']].apply(axis=1, func=recalc_habindex)"
   ]
  },
  {
   "cell_type": "code",
   "execution_count": null,
   "metadata": {
    "collapsed": true
   },
   "outputs": [],
   "source": [
    "current_habitats['natural_habitats'] = \\\n",
    "current_habitats[['cf_rank', 'sgr_rank', 'cor_rank']].apply(axis=1, func=recalc_habindex)"
   ]
  },
  {
   "cell_type": "code",
   "execution_count": null,
   "metadata": {
    "collapsed": true
   },
   "outputs": [],
   "source": [
    "restore_habitats['natural_habitats'] = \\\n",
    "restore_habitats[['cf_rank', 'sgr_rank', 'cor_rank']].apply(axis=1, func=recalc_habindex)"
   ]
  },
  {
   "cell_type": "code",
   "execution_count": null,
   "metadata": {},
   "outputs": [],
   "source": [
    "# QAQC: distributions of natural_habitats rank for each scenario\n",
    "# sns.distplot(base_habitats['natural_habitats'], kde=False, color='blue', bins=40)\n",
    "# sns.distplot(current_habitats['natural_habitats'], kde=False, color='orange', bins=40)\n",
    "sns.distplot(restore_habitats['natural_habitats'], kde=False, color='green', bins=40)"
   ]
  },
  {
   "cell_type": "code",
   "execution_count": null,
   "metadata": {
    "collapsed": true
   },
   "outputs": [],
   "source": [
    "# habitat_shore_update[['x', 'y']] = habitat_shore[['x', 'y']]"
   ]
  },
  {
   "cell_type": "code",
   "execution_count": null,
   "metadata": {
    "collapsed": true
   },
   "outputs": [],
   "source": [
    "base_habitats.to_csv('../swmma-scenarios/naturalhabitats_baseline.csv', index=False)"
   ]
  },
  {
   "cell_type": "code",
   "execution_count": null,
   "metadata": {
    "collapsed": true
   },
   "outputs": [],
   "source": [
    "current_habitats.to_csv('../swmma-scenarios/naturalhabitats_current.csv', index=False)"
   ]
  },
  {
   "cell_type": "code",
   "execution_count": null,
   "metadata": {
    "collapsed": true
   },
   "outputs": [],
   "source": [
    "restore_habitats.to_csv('../swmma-scenarios/naturalhabitats_restore.csv', index=False)"
   ]
  },
  {
   "cell_type": "markdown",
   "metadata": {},
   "source": [
    "### compute exposure for all scenarios\n",
    "All scenarios will use all the same indices returned by invest (wave exp, shore exp, sea-level rise, geomorph, etc)  \n",
    "but will use different natural_habitat indices"
   ]
  },
  {
   "cell_type": "code",
   "execution_count": null,
   "metadata": {
    "collapsed": true
   },
   "outputs": [],
   "source": [
    "# load invest outputs\n",
    "invest_exp = pd.read_csv('../mpa-removeall-habitat/cv-output-invest3.3.0/outputs/coastal_exposure/coastal_exposure.csv')\n",
    "# national_shp.drop(axis=1, labels='hab_rank', inplace=True)"
   ]
  },
  {
   "cell_type": "code",
   "execution_count": null,
   "metadata": {
    "collapsed": true
   },
   "outputs": [],
   "source": [
    "# drop variables that we'll replace\n",
    "invest_exp.drop(axis=1, \\\n",
    "                labels=['natural_habitats', 'coastal_exposure', 'coastal_exposure_no_habitats', 'habitat_role'], \\\n",
    "                inplace=True)"
   ]
  },
  {
   "cell_type": "code",
   "execution_count": null,
   "metadata": {
    "collapsed": true
   },
   "outputs": [],
   "source": [
    "# load habitat scenario data\n",
    "base_habitats = pd.read_csv('../swmma-scenarios/naturalhabitats_baseline.csv')\n",
    "current_habitats = pd.read_csv('../swmma-scenarios/naturalhabitats_current.csv')\n",
    "restore_habitats = pd.read_csv('../swmma-scenarios/naturalhabitats_restore.csv')"
   ]
  },
  {
   "cell_type": "code",
   "execution_count": null,
   "metadata": {
    "collapsed": true
   },
   "outputs": [],
   "source": [
    "# combine invest variables with habitat variables\n",
    "# coastal_exposure.csv from invest has no row index, \n",
    "# so be sure that the habitat rank points started as the 'coastal_exposure.shp' returned by invest\n",
    "if len(invest_exp) == len(base_habitats) == len(current_habitats) == len(restore_habitats):\n",
    "\n",
    "    base_exp = invest_exp.copy()\n",
    "    base_exp['natural_habitats'] = base_habitats.natural_habitats\n",
    "\n",
    "    current_exp = invest_exp.copy()\n",
    "    current_exp['natural_habitats'] = current_habitats.natural_habitats\n",
    "    \n",
    "    restore_exp = invest_exp.copy()\n",
    "    restore_exp['natural_habitats'] = restore_habitats.natural_habitats\n",
    "    \n",
    "else:\n",
    "    print('STOP!')"
   ]
  },
  {
   "cell_type": "code",
   "execution_count": null,
   "metadata": {
    "collapsed": true
   },
   "outputs": [],
   "source": [
    "# specify variables to include in the exposure index\n",
    "# refer to invest code, not all vars in the output table contribute to \n",
    "# final coastal_exposure index, some are intermediate\n",
    "indexvars = ['geomorphology', 'relief', 'wave_exposure', 'surge_potential', 'natural_habitats']"
   ]
  },
  {
   "cell_type": "code",
   "execution_count": null,
   "metadata": {
    "collapsed": true
   },
   "outputs": [],
   "source": [
    "# equation taken from\n",
    "# natcap.invest.coastal_vulnerability_core.coastal_exposure_index()\n",
    "def recalculate_exposure(indexvars, data):\n",
    "    exposure = data[indexvars].apply(axis=1, func=lambda x: np.power(np.prod(x), 1./(x.size)))\n",
    "    return exposure"
   ]
  },
  {
   "cell_type": "code",
   "execution_count": null,
   "metadata": {
    "collapsed": true
   },
   "outputs": [],
   "source": [
    "base_exp['coast_exp'] = recalculate_exposure(indexvars, base_exp)"
   ]
  },
  {
   "cell_type": "code",
   "execution_count": null,
   "metadata": {
    "collapsed": true
   },
   "outputs": [],
   "source": [
    "current_exp['coast_exp'] = recalculate_exposure(indexvars, current_exp)"
   ]
  },
  {
   "cell_type": "code",
   "execution_count": null,
   "metadata": {
    "collapsed": true
   },
   "outputs": [],
   "source": [
    "restore_exp['coast_exp'] = recalculate_exposure(indexvars, restore_exp)"
   ]
  },
  {
   "cell_type": "code",
   "execution_count": null,
   "metadata": {},
   "outputs": [],
   "source": [
    "# QAQC: distributions of coastal exposure rank for each scenario\n",
    "sns.distplot(base_exp['coast_exp'], kde=False, color='blue', bins=40)\n",
    "sns.distplot(current_exp['coast_exp'], kde=False, color='orange', bins=40)\n",
    "sns.distplot(restore_exp['coast_exp'], kde=False, color='green', bins=40)"
   ]
  },
  {
   "cell_type": "code",
   "execution_count": null,
   "metadata": {
    "collapsed": true
   },
   "outputs": [],
   "source": [
    "# write outputs\n",
    "base_exp.to_csv('../swmma-scenarios/coastal_exposure_baseline.csv', index=False)\n",
    "current_exp.to_csv('../swmma-scenarios/coastal_exposure_current.csv', index=False)\n",
    "restore_exp.to_csv('../swmma-scenarios/coastal_exposure_restore.csv', index=False)"
   ]
  },
  {
   "cell_type": "markdown",
   "metadata": {},
   "source": [
    "### combine scenario results in prep for categorizing exposure "
   ]
  },
  {
   "cell_type": "code",
   "execution_count": 13,
   "metadata": {
    "collapsed": true
   },
   "outputs": [],
   "source": [
    "base_exp = pd.read_csv('../swmma-scenarios/coastal_exposure_baseline.csv')\n",
    "current_exp = pd.read_csv('../swmma-scenarios/coastal_exposure_current.csv')\n",
    "restore_exp = pd.read_csv('../swmma-scenarios/coastal_exposure_restore.csv')"
   ]
  },
  {
   "cell_type": "code",
   "execution_count": 14,
   "metadata": {
    "collapsed": true
   },
   "outputs": [],
   "source": [
    "## put all scenarios in a table \n",
    "scenarios = pd.DataFrame()\n",
    "scenarios['ce_base'] = base_exp['coast_exp']\n",
    "scenarios['ce_curr'] = current_exp['coast_exp']\n",
    "scenarios['ce_rest'] = restore_exp['coast_exp']\n",
    "# scenarios['geometry'] = national_shp['geometry']\n",
    "# scenarios['x'] = national_shp['x']\n",
    "# scenarios['y'] = national_shp['y']"
   ]
  },
  {
   "cell_type": "code",
   "execution_count": 15,
   "metadata": {},
   "outputs": [
    {
     "name": "stderr",
     "output_type": "stream",
     "text": [
      "/usr/local/lib/python2.7/dist-packages/seaborn/categorical.py:2171: UserWarning: The boxplot API has been changed. Attempting to adjust your arguments for the new API (which might not work). Please update your code. See the version 0.6 release notes for more info.\n",
      "  warnings.warn(msg, UserWarning)\n"
     ]
    },
    {
     "data": {
      "text/plain": [
       "<matplotlib.axes.AxesSubplot at 0x7f6f24772090>"
      ]
     },
     "execution_count": 15,
     "metadata": {},
     "output_type": "execute_result"
    },
    {
     "data": {
      "image/png": "[encoded data removed]",
      "text/plain": [
       "<matplotlib.figure.Figure at 0x7f6f22f8ac10>"
      ]
     },
     "metadata": {},
     "output_type": "display_data"
    }
   ],
   "source": [
    "sns.boxplot(scenarios, orient='h')"
   ]
  },
  {
   "cell_type": "markdown",
   "metadata": {},
   "source": [
    "### assign subregions to points:"
   ]
  },
  {
   "cell_type": "code",
   "execution_count": 23,
   "metadata": {},
   "outputs": [],
   "source": [
    "subregions = gpd.read_file('/home/dmf/bahamas-mpa/cv/cv-fromjess/Bahamas_regionalCV_Inputs/LandPoly_Bahamas_subregions_v2.shp')"
   ]
  },
  {
   "cell_type": "code",
   "execution_count": 24,
   "metadata": {
    "collapsed": true
   },
   "outputs": [],
   "source": [
    "# buffer ensures the land polygons enclose the coastal points, which are a bit offshore\n",
    "# for subregions as discontiguous islands, this is no big deal\n",
    "# if subregions were contiguous areas whose buffers overlapped, that would be problematic\n",
    "subregions['geometry'] = subregions.buffer(300) # native resolution of CV shorepoint raster is 250m "
   ]
  },
  {
   "cell_type": "code",
   "execution_count": 25,
   "metadata": {},
   "outputs": [
    {
     "data": {
      "text/plain": [
       "[u'CROSS_SHLF',\n",
       " u'Name',\n",
       " u'ORIG_FID',\n",
       " u'Subregion',\n",
       " 'geometry',\n",
       " u'sq_meter',\n",
       " u'sqmeter_2']"
      ]
     },
     "execution_count": 25,
     "metadata": {},
     "output_type": "execute_result"
    }
   ],
   "source": [
    "list(subregions)"
   ]
  },
  {
   "cell_type": "code",
   "execution_count": 26,
   "metadata": {
    "collapsed": true
   },
   "outputs": [],
   "source": [
    "# cleanup the subregions table a bit before joining it's attributes to points\n",
    "subregions.drop(axis=1, labels=['CROSS_SHLF', 'ORIG_FID', 'Subregion', 'sq_meter', 'sqmeter_2'], inplace=True)"
   ]
  },
  {
   "cell_type": "markdown",
   "metadata": {},
   "source": [
    "#### prep scenarios exposure table for spatial join with subregions"
   ]
  },
  {
   "cell_type": "code",
   "execution_count": 27,
   "metadata": {},
   "outputs": [
    {
     "data": {
      "text/plain": [
       "{'init': u'epsg:32618'}"
      ]
     },
     "execution_count": 27,
     "metadata": {},
     "output_type": "execute_result"
    }
   ],
   "source": [
    "# we'll borrow point geometry from the original coastal_exposure.shp\n",
    "pts_shp = gpd.read_file('../mpa-removeall-habitat/cv-output-invest3.3.0/outputs/coastal_exposure/coastal_exposure.shp')\n",
    "pts_shp.crs"
   ]
  },
  {
   "cell_type": "code",
   "execution_count": 28,
   "metadata": {
    "collapsed": true
   },
   "outputs": [],
   "source": [
    "scenarios['fid'] = scenarios.index\n",
    "scenarios_shp = gpd.GeoDataFrame(scenarios, crs=pts_shp.crs, geometry=pts_shp.geometry)"
   ]
  },
  {
   "cell_type": "code",
   "execution_count": 29,
   "metadata": {},
   "outputs": [],
   "source": [
    "pts_in_region = gpd.sjoin(scenarios_shp, subregions, how='inner', op='intersects')"
   ]
  },
  {
   "cell_type": "code",
   "execution_count": 30,
   "metadata": {},
   "outputs": [
    {
     "data": {
      "text/plain": [
       "True"
      ]
     },
     "execution_count": 30,
     "metadata": {},
     "output_type": "execute_result"
    }
   ],
   "source": [
    "# QAQC: did all points get 1 and only 1 subregion assignment?\n",
    "len(pts_in_region) == len(scenarios)"
   ]
  },
  {
   "cell_type": "code",
   "execution_count": 31,
   "metadata": {},
   "outputs": [
    {
     "data": {
      "text/html": [
       "<div>\n",
       "<table border=\"1\" class=\"dataframe\">\n",
       "  <thead>\n",
       "    <tr style=\"text-align: right;\">\n",
       "      <th></th>\n",
       "      <th>ce_base</th>\n",
       "      <th>ce_curr</th>\n",
       "      <th>ce_rest</th>\n",
       "      <th>fid</th>\n",
       "      <th>geometry</th>\n",
       "      <th>index_right</th>\n",
       "      <th>Name</th>\n",
       "    </tr>\n",
       "  </thead>\n",
       "  <tbody>\n",
       "  </tbody>\n",
       "</table>\n",
       "</div>"
      ],
      "text/plain": [
       "Empty GeoDataFrame\n",
       "Columns: [ce_base, ce_curr, ce_rest, fid, geometry, index_right, Name]\n",
       "Index: []"
      ]
     },
     "execution_count": 31,
     "metadata": {},
     "output_type": "execute_result"
    }
   ],
   "source": [
    "# QAQC: if above was False, which points were assigned multiple regions?\n",
    "# if above was True, this should return empty output\n",
    "dups = pts_in_region.fid[pts_in_region.duplicated('fid')]\n",
    "pts_in_region.loc[pts_in_region.fid.isin(dups)]\n",
    "\n",
    "# if there are duplicated points\n",
    "# either make assignments manually by dropping rows, or edit subregion shapefile/buffer in GIS \n",
    "# and repeat spatial join. I opted for latter."
   ]
  },
  {
   "cell_type": "code",
   "execution_count": 32,
   "metadata": {},
   "outputs": [
    {
     "data": {
      "text/html": [
       "<div>\n",
       "<table border=\"1\" class=\"dataframe\">\n",
       "  <thead>\n",
       "    <tr style=\"text-align: right;\">\n",
       "      <th></th>\n",
       "      <th>ce_base</th>\n",
       "      <th>ce_curr</th>\n",
       "      <th>ce_rest</th>\n",
       "      <th>fid</th>\n",
       "      <th>geometry</th>\n",
       "      <th>index_right</th>\n",
       "      <th>Name</th>\n",
       "    </tr>\n",
       "  </thead>\n",
       "  <tbody>\n",
       "    <tr>\n",
       "      <th>0</th>\n",
       "      <td>2.336241</td>\n",
       "      <td>2.336241</td>\n",
       "      <td>2.336241</td>\n",
       "      <td>0</td>\n",
       "      <td>POINT (162996.410662489 3019659.244384566)</td>\n",
       "      <td>16</td>\n",
       "      <td>Abaco</td>\n",
       "    </tr>\n",
       "    <tr>\n",
       "      <th>1</th>\n",
       "      <td>0.000000</td>\n",
       "      <td>0.000000</td>\n",
       "      <td>0.000000</td>\n",
       "      <td>1</td>\n",
       "      <td>POINT (162746.410662489 3019409.244384566)</td>\n",
       "      <td>16</td>\n",
       "      <td>Abaco</td>\n",
       "    </tr>\n",
       "    <tr>\n",
       "      <th>2</th>\n",
       "      <td>2.336241</td>\n",
       "      <td>2.336241</td>\n",
       "      <td>2.336241</td>\n",
       "      <td>2</td>\n",
       "      <td>POINT (163246.410662489 3019409.244384566)</td>\n",
       "      <td>16</td>\n",
       "      <td>Abaco</td>\n",
       "    </tr>\n",
       "    <tr>\n",
       "      <th>3</th>\n",
       "      <td>2.336241</td>\n",
       "      <td>2.336241</td>\n",
       "      <td>2.336241</td>\n",
       "      <td>3</td>\n",
       "      <td>POINT (163496.410662489 3019409.244384566)</td>\n",
       "      <td>16</td>\n",
       "      <td>Abaco</td>\n",
       "    </tr>\n",
       "    <tr>\n",
       "      <th>4</th>\n",
       "      <td>2.336241</td>\n",
       "      <td>2.336241</td>\n",
       "      <td>2.336241</td>\n",
       "      <td>4</td>\n",
       "      <td>POINT (162746.410662489 3019159.244384566)</td>\n",
       "      <td>16</td>\n",
       "      <td>Abaco</td>\n",
       "    </tr>\n",
       "  </tbody>\n",
       "</table>\n",
       "</div>"
      ],
      "text/plain": [
       "    ce_base   ce_curr   ce_rest  fid  \\\n",
       "0  2.336241  2.336241  2.336241    0   \n",
       "1  0.000000  0.000000  0.000000    1   \n",
       "2  2.336241  2.336241  2.336241    2   \n",
       "3  2.336241  2.336241  2.336241    3   \n",
       "4  2.336241  2.336241  2.336241    4   \n",
       "\n",
       "                                     geometry  index_right   Name  \n",
       "0  POINT (162996.410662489 3019659.244384566)           16  Abaco  \n",
       "1  POINT (162746.410662489 3019409.244384566)           16  Abaco  \n",
       "2  POINT (163246.410662489 3019409.244384566)           16  Abaco  \n",
       "3  POINT (163496.410662489 3019409.244384566)           16  Abaco  \n",
       "4  POINT (162746.410662489 3019159.244384566)           16  Abaco  "
      ]
     },
     "execution_count": 32,
     "metadata": {},
     "output_type": "execute_result"
    }
   ],
   "source": [
    "pts_in_region.head()"
   ]
  },
  {
   "cell_type": "code",
   "execution_count": 33,
   "metadata": {
    "collapsed": true
   },
   "outputs": [],
   "source": [
    "pts_in_region.drop(axis=1, labels='index_right', inplace=True)"
   ]
  },
  {
   "cell_type": "code",
   "execution_count": null,
   "metadata": {
    "collapsed": true
   },
   "outputs": [],
   "source": [
    "# pts_in_region['habrole'] = pts_in_region.ce_allhab - pts_in_region.ce_nompa"
   ]
  },
  {
   "cell_type": "code",
   "execution_count": 34,
   "metadata": {},
   "outputs": [],
   "source": [
    "pts_in_region.to_file('../swmma-scenarios/ce_3scenarios_byisland.shp')"
   ]
  },
  {
   "cell_type": "markdown",
   "metadata": {},
   "source": [
    "### Categorize exposure indices into high-med-low\n",
    "using distribution of combined exposure values from multiple scenarios"
   ]
  },
  {
   "cell_type": "code",
   "execution_count": 35,
   "metadata": {},
   "outputs": [],
   "source": [
    "pts_in_region = gpd.read_file('../swmma-scenarios/ce_3scenarios_byisland.shp')"
   ]
  },
  {
   "cell_type": "code",
   "execution_count": 36,
   "metadata": {},
   "outputs": [
    {
     "data": {
      "text/plain": [
       "(27263, 6)"
      ]
     },
     "execution_count": 36,
     "metadata": {},
     "output_type": "execute_result"
    }
   ],
   "source": [
    "pts_in_region.shape"
   ]
  },
  {
   "cell_type": "code",
   "execution_count": 37,
   "metadata": {
    "collapsed": true
   },
   "outputs": [],
   "source": [
    "# drop all subregions except New Providence, to analyze these SWMMA scenarios\n",
    "pts_newprov = pts_in_region[pts_in_region.Name == 'New Providence']"
   ]
  },
  {
   "cell_type": "code",
   "execution_count": 38,
   "metadata": {},
   "outputs": [
    {
     "data": {
      "text/html": [
       "<div>\n",
       "<table border=\"1\" class=\"dataframe\">\n",
       "  <thead>\n",
       "    <tr style=\"text-align: right;\">\n",
       "      <th></th>\n",
       "      <th>Name</th>\n",
       "      <th>ce_base</th>\n",
       "      <th>ce_curr</th>\n",
       "      <th>ce_rest</th>\n",
       "      <th>fid</th>\n",
       "      <th>geometry</th>\n",
       "    </tr>\n",
       "  </thead>\n",
       "  <tbody>\n",
       "    <tr>\n",
       "      <th>16628</th>\n",
       "      <td>New Providence</td>\n",
       "      <td>2.448095</td>\n",
       "      <td>2.634081</td>\n",
       "      <td>2.634081</td>\n",
       "      <td>10868</td>\n",
       "      <td>POINT (271246.410662489 2778159.244384566)</td>\n",
       "    </tr>\n",
       "    <tr>\n",
       "      <th>16629</th>\n",
       "      <td>New Providence</td>\n",
       "      <td>2.448095</td>\n",
       "      <td>2.634081</td>\n",
       "      <td>2.634081</td>\n",
       "      <td>10869</td>\n",
       "      <td>POINT (271496.410662489 2778159.244384566)</td>\n",
       "    </tr>\n",
       "    <tr>\n",
       "      <th>16630</th>\n",
       "      <td>New Providence</td>\n",
       "      <td>2.352158</td>\n",
       "      <td>2.519110</td>\n",
       "      <td>2.519110</td>\n",
       "      <td>10882</td>\n",
       "      <td>POINT (270746.410662489 2777909.244384566)</td>\n",
       "    </tr>\n",
       "    <tr>\n",
       "      <th>16631</th>\n",
       "      <td>New Providence</td>\n",
       "      <td>2.352158</td>\n",
       "      <td>2.519110</td>\n",
       "      <td>2.519110</td>\n",
       "      <td>10883</td>\n",
       "      <td>POINT (270996.410662489 2777909.244384566)</td>\n",
       "    </tr>\n",
       "    <tr>\n",
       "      <th>16632</th>\n",
       "      <td>New Providence</td>\n",
       "      <td>2.210337</td>\n",
       "      <td>2.378260</td>\n",
       "      <td>2.378260</td>\n",
       "      <td>10884</td>\n",
       "      <td>POINT (271746.410662489 2777909.244384566)</td>\n",
       "    </tr>\n",
       "  </tbody>\n",
       "</table>\n",
       "</div>"
      ],
      "text/plain": [
       "                 Name   ce_base   ce_curr   ce_rest    fid  \\\n",
       "16628  New Providence  2.448095  2.634081  2.634081  10868   \n",
       "16629  New Providence  2.448095  2.634081  2.634081  10869   \n",
       "16630  New Providence  2.352158  2.519110  2.519110  10882   \n",
       "16631  New Providence  2.352158  2.519110  2.519110  10883   \n",
       "16632  New Providence  2.210337  2.378260  2.378260  10884   \n",
       "\n",
       "                                         geometry  \n",
       "16628  POINT (271246.410662489 2778159.244384566)  \n",
       "16629  POINT (271496.410662489 2778159.244384566)  \n",
       "16630  POINT (270746.410662489 2777909.244384566)  \n",
       "16631  POINT (270996.410662489 2777909.244384566)  \n",
       "16632  POINT (271746.410662489 2777909.244384566)  "
      ]
     },
     "execution_count": 38,
     "metadata": {},
     "output_type": "execute_result"
    }
   ],
   "source": [
    "pts_newprov.head()"
   ]
  },
  {
   "cell_type": "code",
   "execution_count": 39,
   "metadata": {
    "collapsed": true
   },
   "outputs": [],
   "source": [
    "# drop habrole because we don't want it's values in the distribution of exposure values\n",
    "longdf = pd.melt(frame=pts_newprov, id_vars=['geometry', 'fid', 'Name'])\n",
    "longdf.rename(columns={'value': 'coast_exp'}, inplace=True)"
   ]
  },
  {
   "cell_type": "code",
   "execution_count": 40,
   "metadata": {},
   "outputs": [
    {
     "data": {
      "text/html": [
       "<div>\n",
       "<table border=\"1\" class=\"dataframe\">\n",
       "  <thead>\n",
       "    <tr style=\"text-align: right;\">\n",
       "      <th></th>\n",
       "      <th>geometry</th>\n",
       "      <th>fid</th>\n",
       "      <th>Name</th>\n",
       "      <th>variable</th>\n",
       "      <th>coast_exp</th>\n",
       "    </tr>\n",
       "  </thead>\n",
       "  <tbody>\n",
       "    <tr>\n",
       "      <th>0</th>\n",
       "      <td>POINT (271246.410662489 2778159.244384566)</td>\n",
       "      <td>10868</td>\n",
       "      <td>New Providence</td>\n",
       "      <td>ce_base</td>\n",
       "      <td>2.448095</td>\n",
       "    </tr>\n",
       "    <tr>\n",
       "      <th>1</th>\n",
       "      <td>POINT (271496.410662489 2778159.244384566)</td>\n",
       "      <td>10869</td>\n",
       "      <td>New Providence</td>\n",
       "      <td>ce_base</td>\n",
       "      <td>2.448095</td>\n",
       "    </tr>\n",
       "    <tr>\n",
       "      <th>2</th>\n",
       "      <td>POINT (270746.410662489 2777909.244384566)</td>\n",
       "      <td>10882</td>\n",
       "      <td>New Providence</td>\n",
       "      <td>ce_base</td>\n",
       "      <td>2.352158</td>\n",
       "    </tr>\n",
       "    <tr>\n",
       "      <th>3</th>\n",
       "      <td>POINT (270996.410662489 2777909.244384566)</td>\n",
       "      <td>10883</td>\n",
       "      <td>New Providence</td>\n",
       "      <td>ce_base</td>\n",
       "      <td>2.352158</td>\n",
       "    </tr>\n",
       "    <tr>\n",
       "      <th>4</th>\n",
       "      <td>POINT (271746.410662489 2777909.244384566)</td>\n",
       "      <td>10884</td>\n",
       "      <td>New Providence</td>\n",
       "      <td>ce_base</td>\n",
       "      <td>2.210337</td>\n",
       "    </tr>\n",
       "  </tbody>\n",
       "</table>\n",
       "</div>"
      ],
      "text/plain": [
       "                                     geometry    fid            Name variable  \\\n",
       "0  POINT (271246.410662489 2778159.244384566)  10868  New Providence  ce_base   \n",
       "1  POINT (271496.410662489 2778159.244384566)  10869  New Providence  ce_base   \n",
       "2  POINT (270746.410662489 2777909.244384566)  10882  New Providence  ce_base   \n",
       "3  POINT (270996.410662489 2777909.244384566)  10883  New Providence  ce_base   \n",
       "4  POINT (271746.410662489 2777909.244384566)  10884  New Providence  ce_base   \n",
       "\n",
       "   coast_exp  \n",
       "0   2.448095  \n",
       "1   2.448095  \n",
       "2   2.352158  \n",
       "3   2.352158  \n",
       "4   2.210337  "
      ]
     },
     "execution_count": 40,
     "metadata": {},
     "output_type": "execute_result"
    }
   ],
   "source": [
    "longdf.head()"
   ]
  },
  {
   "cell_type": "code",
   "execution_count": 45,
   "metadata": {},
   "outputs": [
    {
     "data": {
      "text/plain": [
       "<seaborn.axisgrid.FacetGrid at 0x7f6f221a55d0>"
      ]
     },
     "execution_count": 45,
     "metadata": {},
     "output_type": "execute_result"
    },
    {
     "data": {
      "image/png": "[encoded data removed]",
      "text/plain": [
       "<matplotlib.figure.Figure at 0x7f6f232695d0>"
      ]
     },
     "metadata": {},
     "output_type": "display_data"
    }
   ],
   "source": [
    "# combined coastal exposure distribution\n",
    "# sns.distplot(longdf.coast_exp, kde=False, color='orange')\n",
    "# sns.distplot(longdf.coast_exp, kde=False, color=longdf.variable)\n",
    "g = sns.FacetGrid(longdf, col=\"variable\", margin_titles=True)\n",
    "g.map(plt.hist, \"coast_exp\", color=\"steelblue\", lw=0)"
   ]
  },
  {
   "cell_type": "markdown",
   "metadata": {},
   "source": [
    "#### choose cuts for high medium and low categories\n",
    "low = bottom 25% of exposure values  \n",
    "med = middle 50%  \n",
    "high = top 25%  "
   ]
  },
  {
   "cell_type": "code",
   "execution_count": 46,
   "metadata": {},
   "outputs": [
    {
     "name": "stdout",
     "output_type": "stream",
     "text": [
      "0.25    2.072352\n",
      "0.75    3.024871\n",
      "Name: coast_exp, dtype: float64\n"
     ]
    }
   ],
   "source": [
    "quants = longdf.coast_exp.quantile([.25, .75])\n",
    "print(quants)"
   ]
  },
  {
   "cell_type": "code",
   "execution_count": 47,
   "metadata": {
    "collapsed": true
   },
   "outputs": [],
   "source": [
    "def categorize_exposure(x):\n",
    "    if x <= quants.iloc[0]:\n",
    "        return 'low'\n",
    "    if quants.iloc[0] < x < quants.iloc[1]:\n",
    "        return 'med'\n",
    "    if x >= quants.iloc[1]:\n",
    "        return 'high'"
   ]
  },
  {
   "cell_type": "code",
   "execution_count": 48,
   "metadata": {
    "collapsed": true
   },
   "outputs": [],
   "source": [
    "longdf['category'] = longdf['coast_exp'].apply(func=categorize_exposure)"
   ]
  },
  {
   "cell_type": "code",
   "execution_count": 49,
   "metadata": {},
   "outputs": [
    {
     "data": {
      "text/html": [
       "<div>\n",
       "<table border=\"1\" class=\"dataframe\">\n",
       "  <thead>\n",
       "    <tr style=\"text-align: right;\">\n",
       "      <th></th>\n",
       "      <th>geometry</th>\n",
       "      <th>fid</th>\n",
       "      <th>Name</th>\n",
       "      <th>variable</th>\n",
       "      <th>coast_exp</th>\n",
       "      <th>category</th>\n",
       "    </tr>\n",
       "  </thead>\n",
       "  <tbody>\n",
       "    <tr>\n",
       "      <th>0</th>\n",
       "      <td>POINT (271246.410662489 2778159.244384566)</td>\n",
       "      <td>10868</td>\n",
       "      <td>New Providence</td>\n",
       "      <td>ce_base</td>\n",
       "      <td>2.448095</td>\n",
       "      <td>med</td>\n",
       "    </tr>\n",
       "    <tr>\n",
       "      <th>1</th>\n",
       "      <td>POINT (271496.410662489 2778159.244384566)</td>\n",
       "      <td>10869</td>\n",
       "      <td>New Providence</td>\n",
       "      <td>ce_base</td>\n",
       "      <td>2.448095</td>\n",
       "      <td>med</td>\n",
       "    </tr>\n",
       "    <tr>\n",
       "      <th>2</th>\n",
       "      <td>POINT (270746.410662489 2777909.244384566)</td>\n",
       "      <td>10882</td>\n",
       "      <td>New Providence</td>\n",
       "      <td>ce_base</td>\n",
       "      <td>2.352158</td>\n",
       "      <td>med</td>\n",
       "    </tr>\n",
       "    <tr>\n",
       "      <th>3</th>\n",
       "      <td>POINT (270996.410662489 2777909.244384566)</td>\n",
       "      <td>10883</td>\n",
       "      <td>New Providence</td>\n",
       "      <td>ce_base</td>\n",
       "      <td>2.352158</td>\n",
       "      <td>med</td>\n",
       "    </tr>\n",
       "    <tr>\n",
       "      <th>4</th>\n",
       "      <td>POINT (271746.410662489 2777909.244384566)</td>\n",
       "      <td>10884</td>\n",
       "      <td>New Providence</td>\n",
       "      <td>ce_base</td>\n",
       "      <td>2.210337</td>\n",
       "      <td>med</td>\n",
       "    </tr>\n",
       "  </tbody>\n",
       "</table>\n",
       "</div>"
      ],
      "text/plain": [
       "                                     geometry    fid            Name variable  \\\n",
       "0  POINT (271246.410662489 2778159.244384566)  10868  New Providence  ce_base   \n",
       "1  POINT (271496.410662489 2778159.244384566)  10869  New Providence  ce_base   \n",
       "2  POINT (270746.410662489 2777909.244384566)  10882  New Providence  ce_base   \n",
       "3  POINT (270996.410662489 2777909.244384566)  10883  New Providence  ce_base   \n",
       "4  POINT (271746.410662489 2777909.244384566)  10884  New Providence  ce_base   \n",
       "\n",
       "   coast_exp category  \n",
       "0   2.448095      med  \n",
       "1   2.448095      med  \n",
       "2   2.352158      med  \n",
       "3   2.352158      med  \n",
       "4   2.210337      med  "
      ]
     },
     "execution_count": 49,
     "metadata": {},
     "output_type": "execute_result"
    }
   ],
   "source": [
    "longdf.head()"
   ]
  },
  {
   "cell_type": "code",
   "execution_count": 51,
   "metadata": {},
   "outputs": [
    {
     "data": {
      "image/png": "[encoded data removed]",
      "text/plain": [
       "<matplotlib.figure.Figure at 0x7f6f22064f50>"
      ]
     },
     "metadata": {},
     "output_type": "display_data"
    }
   ],
   "source": [
    "sns.set_style('ticks')\n",
    "fig, ax = plt.subplots()\n",
    "fig.set_size_inches(8, 5)\n",
    "sns.boxplot(x=\"coast_exp\", y=\"Name\", hue='variable', data=longdf)\n",
    "fig.savefig('../swmma-scenarios/figs/cv_scenarios_boxplot_exposure.png')\n",
    "fig.savefig('../swmma-scenarios/figs/cv_scenarios_boxplot_exposure.svg')"
   ]
  },
  {
   "cell_type": "code",
   "execution_count": 52,
   "metadata": {
    "collapsed": true
   },
   "outputs": [],
   "source": [
    "longdf.to_csv('../swmma-scenarios/cv_3scenarios_newprov_category.csv', index=False)"
   ]
  },
  {
   "cell_type": "code",
   "execution_count": 53,
   "metadata": {
    "collapsed": true
   },
   "outputs": [],
   "source": [
    "scenario_geo = gpd.GeoDataFrame(longdf, crs=pts_in_region.crs, geometry=longdf['geometry'])"
   ]
  },
  {
   "cell_type": "code",
   "execution_count": 54,
   "metadata": {
    "collapsed": true
   },
   "outputs": [],
   "source": [
    "scenario_geo.to_file('../swmma-scenarios/cv_3scenarios_newprov_category.shp')"
   ]
  },
  {
   "cell_type": "markdown",
   "metadata": {},
   "source": [
    "### Metric 1: Length of coastline in each category, for each island  "
   ]
  },
  {
   "cell_type": "code",
   "execution_count": null,
   "metadata": {
    "collapsed": true
   },
   "outputs": [],
   "source": [
    "scenario_cat = pd.read_csv('../mpa-removeall-habitat/scenario_data/cv_2scenarios_byisland_category.csv')"
   ]
  },
  {
   "cell_type": "code",
   "execution_count": null,
   "metadata": {
    "collapsed": true
   },
   "outputs": [],
   "source": [
    "scenario_cat.head()"
   ]
  },
  {
   "cell_type": "code",
   "execution_count": null,
   "metadata": {
    "collapsed": true
   },
   "outputs": [],
   "source": [
    "grouped_df = pd.DataFrame(scenario_cat.groupby(['Name', 'category', 'variable']).size().rename('npoints'))"
   ]
  },
  {
   "cell_type": "code",
   "execution_count": null,
   "metadata": {
    "collapsed": true
   },
   "outputs": [],
   "source": [
    "grouped_df.tail(15)"
   ]
  },
  {
   "cell_type": "code",
   "execution_count": null,
   "metadata": {
    "collapsed": true
   },
   "outputs": [],
   "source": [
    "coastlength = pd.DataFrame(grouped_df.to_records())"
   ]
  },
  {
   "cell_type": "code",
   "execution_count": null,
   "metadata": {
    "collapsed": true
   },
   "outputs": [],
   "source": [
    "coastlength.head(10)"
   ]
  },
  {
   "cell_type": "code",
   "execution_count": null,
   "metadata": {
    "collapsed": true
   },
   "outputs": [],
   "source": [
    "coastlength['km_shore'] = coastlength['npoints']*(0.25) # cv resolution was 250m"
   ]
  },
  {
   "cell_type": "code",
   "execution_count": null,
   "metadata": {
    "collapsed": true
   },
   "outputs": [],
   "source": [
    "coastlength.head()"
   ]
  },
  {
   "cell_type": "code",
   "execution_count": null,
   "metadata": {
    "collapsed": true
   },
   "outputs": [],
   "source": [
    "coastlength.to_csv('../mpa-removeall-habitat/scenario_data/cv_2scenarios_byisland_category_kmshore.csv', index=False)"
   ]
  },
  {
   "cell_type": "code",
   "execution_count": null,
   "metadata": {
    "collapsed": true
   },
   "outputs": [],
   "source": [
    "# plot this scenario:\n",
    "plotvar = 'ce_allhab'\n",
    "\n",
    "sns.set_style('ticks')\n",
    "fig, ax = plt.subplots()\n",
    "fig.set_size_inches(8, 8)\n",
    "cmap = sns.color_palette(['#f44141', '#f4ee41', '#4286f4'])\n",
    "\n",
    "sns.barplot(y='Name', x='km_shore', \n",
    "            hue='category', palette=cmap, hue_order=['high', 'med', 'low'], \n",
    "            data=coastlength[coastlength.variable == plotvar])\n",
    "\n",
    "\n",
    "fig.savefig('../figs/cv_shorelength_' + plotvar + '.png')\n",
    "fig.savefig('../figs/cv_shorelength_' + plotvar + '.svg')"
   ]
  },
  {
   "cell_type": "code",
   "execution_count": null,
   "metadata": {
    "collapsed": true
   },
   "outputs": [],
   "source": [
    "# plot this scenario:\n",
    "plotvar = 'ce_nompa'\n",
    "\n",
    "sns.set_style('ticks')\n",
    "fig, ax = plt.subplots()\n",
    "fig.set_size_inches(8, 8)\n",
    "cmap = sns.color_palette(['#f44141', '#f4ee41', '#4286f4'])\n",
    "\n",
    "sns.barplot(y='Name', x='km_shore', \n",
    "            hue='category', palette=cmap, hue_order=['high', 'med', 'low'], \n",
    "            data=coastlength[coastlength.variable == plotvar])\n",
    "\n",
    "\n",
    "fig.savefig('../figs/cv_shorelength_' + plotvar + '.png')\n",
    "fig.savefig('../figs/cv_shorelength_' + plotvar + '.svg')"
   ]
  },
  {
   "cell_type": "markdown",
   "metadata": {},
   "source": [
    "#### difference in km_shore between allhab and nompa scenarios"
   ]
  },
  {
   "cell_type": "code",
   "execution_count": null,
   "metadata": {
    "collapsed": true
   },
   "outputs": [],
   "source": [
    "coastlength = pd.read_csv('../mpa-removeall-habitat/scenario_data/cv_2scenarios_byisland_category_kmshore.csv')"
   ]
  },
  {
   "cell_type": "code",
   "execution_count": null,
   "metadata": {
    "collapsed": true
   },
   "outputs": [],
   "source": [
    "# coastlength.head()\n",
    "coastlength[coastlength.category == 'high']"
   ]
  },
  {
   "cell_type": "code",
   "execution_count": null,
   "metadata": {
    "collapsed": true
   },
   "outputs": [],
   "source": [
    "coastlength.drop(axis=1, labels='npoints', inplace=True)"
   ]
  },
  {
   "cell_type": "code",
   "execution_count": null,
   "metadata": {
    "collapsed": true
   },
   "outputs": [],
   "source": [
    "widecoast = coastlength.pivot_table(index=['Name', 'category'], columns='variable', values='km_shore')\n",
    "widecoast.reset_index(inplace=True)"
   ]
  },
  {
   "cell_type": "code",
   "execution_count": null,
   "metadata": {
    "collapsed": true
   },
   "outputs": [],
   "source": [
    "widecoast.head()"
   ]
  },
  {
   "cell_type": "code",
   "execution_count": null,
   "metadata": {
    "collapsed": true
   },
   "outputs": [],
   "source": [
    "widecoast['diff_km'] = widecoast.ce_nompa - widecoast.ce_allhab"
   ]
  },
  {
   "cell_type": "code",
   "execution_count": null,
   "metadata": {
    "collapsed": true
   },
   "outputs": [],
   "source": [
    "widecoast.head()"
   ]
  },
  {
   "cell_type": "code",
   "execution_count": null,
   "metadata": {
    "collapsed": true
   },
   "outputs": [],
   "source": [
    "widecoast.to_csv('../mpa-removeall-habitat/scenario_data/cv_2scenarios_byisland_category_diffkmshore.csv')"
   ]
  },
  {
   "cell_type": "code",
   "execution_count": null,
   "metadata": {
    "collapsed": true
   },
   "outputs": [],
   "source": [
    "# save a table...or just screenshot the one below\n",
    "# widecoast[['Name', 'category', 'diff_km']].loc[widecoast.category == 'high'].to_html('../figs/cv_shorelength_diff_nompa-allhab_table.html', index=False)"
   ]
  },
  {
   "cell_type": "code",
   "execution_count": null,
   "metadata": {
    "collapsed": true
   },
   "outputs": [],
   "source": [
    "widecoast[['Name', 'category', 'diff_km']].loc[widecoast.category == 'high']"
   ]
  },
  {
   "cell_type": "code",
   "execution_count": null,
   "metadata": {
    "collapsed": true
   },
   "outputs": [],
   "source": [
    "sns.set_style('ticks')\n",
    "fig, ax = plt.subplots()\n",
    "fig.set_size_inches(8, 8)\n",
    "# cmap = sns.color_palette(['#f44141', '#f4ee41', '#4286f4'])\n",
    "\n",
    "sns.barplot(y='Name', x='diff_km', color='red',\n",
    "#             hue='category', palette=cmap, hue_order=['high', 'med', 'low'], \n",
    "            data=widecoast[['Name', 'category', 'diff_km']].loc[widecoast.category == 'high'])\n",
    "\n",
    "ax.set(xlabel='change in km of shore at high exposure', \n",
    "       ylabel='', xlim=(0, 300))\n",
    "\n",
    "\n",
    "fig.savefig('../figs/cv_shorelength_diff-high_nompa-allhab.png', dpi=150)\n",
    "fig.savefig('../figs/cv_shorelength_diff-high_nompa-allhab.svg)"
   ]
  },
  {
   "cell_type": "code",
   "execution_count": null,
   "metadata": {
    "collapsed": true
   },
   "outputs": [],
   "source": [
    "# def diff_km_shore(x):\n",
    "#     try:\n",
    "# #         print(len(x['km_shore']))\n",
    "#         km_all = x['km_shore'][:1]\n",
    "#         km_nompa = x['km_shore'][1:2]\n",
    "#         print(km_all)\n",
    "#         print(km_nompa)\n",
    "#         return {x['Name'][:1]:km_all - km_nompa}\n",
    "#     except(KeyError):\n",
    "#         print('keyerr')"
   ]
  },
  {
   "cell_type": "code",
   "execution_count": null,
   "metadata": {
    "collapsed": true
   },
   "outputs": [],
   "source": [
    "# test = coastlength[coastlength.variable != 'ce_no_habi'].groupby(['Name', 'category']).apply(diff_km_shore)"
   ]
  },
  {
   "cell_type": "markdown",
   "metadata": {},
   "source": [
    "### Metric 2: zonal stats for population metrics  "
   ]
  },
  {
   "cell_type": "code",
   "execution_count": null,
   "metadata": {
    "collapsed": true
   },
   "outputs": [],
   "source": [
    "scenario_geo = gpd.read_file('../mpa-removeall-habitat/scenario_data/cv_2scenarios_byisland_category.shp')"
   ]
  },
  {
   "cell_type": "code",
   "execution_count": null,
   "metadata": {
    "collapsed": true
   },
   "outputs": [],
   "source": []
  },
  {
   "cell_type": "code",
   "execution_count": null,
   "metadata": {
    "collapsed": true
   },
   "outputs": [],
   "source": []
  },
  {
   "cell_type": "code",
   "execution_count": null,
   "metadata": {
    "collapsed": true
   },
   "outputs": [],
   "source": []
  },
  {
   "cell_type": "markdown",
   "metadata": {},
   "source": [
    "#### now do the zonalstats"
   ]
  },
  {
   "cell_type": "code",
   "execution_count": null,
   "metadata": {
    "collapsed": true
   },
   "outputs": [],
   "source": [
    "import rasterstats as rs"
   ]
  },
  {
   "cell_type": "code",
   "execution_count": null,
   "metadata": {
    "collapsed": true
   },
   "outputs": [],
   "source": [
    "island_cats_geo = gpd.read_file('../mpa-removeall-habitat/scenario_data/cv_3scenarios_isl_cat_1kmbuf.shp', )"
   ]
  },
  {
   "cell_type": "code",
   "execution_count": null,
   "metadata": {
    "collapsed": true
   },
   "outputs": [],
   "source": [
    "def zonal_pop_stats(geodf, raster_path, prefix):\n",
    "    pop_stats = rs.zonal_stats(geodf, raster_path, \n",
    "                           geojson_out=True, prefix=prefix,\n",
    "                          stats=['sum'],\n",
    "                          all_touched=True)\n",
    "    pop_stats_gdf = gpd.GeoDataFrame.from_features(pop_stats)\n",
    "    return pop_stats_gdf"
   ]
  },
  {
   "cell_type": "code",
   "execution_count": null,
   "metadata": {
    "collapsed": true
   },
   "outputs": [],
   "source": [
    "popdf = zonal_pop_stats(island_cats_geo, '../cv-fromjess/SocialMetrics_GV/pop_int2.tif', 'pop_')\n",
    "more65df = zonal_pop_stats(island_cats_geo, '../cv-fromjess/SocialMetrics_GV/more65.tif', 'more65_')\n",
    "incdf = zonal_pop_stats(island_cats_geo, '../cv-fromjess/SocialMetrics_GV/totinc.tif', 'inc_')"
   ]
  },
  {
   "cell_type": "code",
   "execution_count": null,
   "metadata": {
    "collapsed": true
   },
   "outputs": [],
   "source": [
    "popdf.drop(axis=1, labels='value', inplace=True)"
   ]
  },
  {
   "cell_type": "code",
   "execution_count": null,
   "metadata": {
    "collapsed": true
   },
   "outputs": [],
   "source": [
    "incdf.head()"
   ]
  },
  {
   "cell_type": "code",
   "execution_count": null,
   "metadata": {
    "collapsed": true
   },
   "outputs": [],
   "source": [
    "popmetrics = pd.concat([popdf, more65df.more65_sum, incdf.inc_sum], axis=1)"
   ]
  },
  {
   "cell_type": "code",
   "execution_count": null,
   "metadata": {
    "collapsed": true
   },
   "outputs": [],
   "source": [
    "popmetrics.head()"
   ]
  },
  {
   "cell_type": "code",
   "execution_count": null,
   "metadata": {
    "collapsed": true
   },
   "outputs": [],
   "source": [
    "# pop_stats = rs.zonal_stats(island_cats_geo, '../cv-fromjess/SocialMetrics_GV/pop_int2.tif', \n",
    "#                            geojson_out=True, prefix='pop_',\n",
    "#                           stats=['min', 'max', 'mean', 'sum', 'count'],\n",
    "#                           all_touched=True)"
   ]
  },
  {
   "cell_type": "code",
   "execution_count": null,
   "metadata": {
    "collapsed": true
   },
   "outputs": [],
   "source": [
    "# pop_stats_gdf = gpd.GeoDataFrame.from_features(pop_stats)"
   ]
  },
  {
   "cell_type": "code",
   "execution_count": null,
   "metadata": {
    "collapsed": true
   },
   "outputs": [],
   "source": [
    "# pop_stats_gdf.head()"
   ]
  },
  {
   "cell_type": "code",
   "execution_count": null,
   "metadata": {
    "collapsed": true
   },
   "outputs": [],
   "source": [
    "def pivot_and_diff(x, valuestring):\n",
    "    df = x[x.variable != 'ce_no_habi']\n",
    "    wide = df.pivot_table(index=['Name', 'category'], columns='variable', values=valuestring)\n",
    "    diffstr = 'diff' + valuestring\n",
    "    wide[diffstr] = wide.ce_nompa_h - wide.ce_all_hab\n",
    "    per_ch_str = 'per_ch_' + valuestring\n",
    "    wide[per_ch_str] = (wide[diffstr]/wide.ce_all_hab)*100\n",
    "    wide.reset_index(inplace=True)\n",
    "#     print(wide.head())\n",
    "    widehigh = wide[wide.category == 'high']\n",
    "    return widehigh"
   ]
  },
  {
   "cell_type": "code",
   "execution_count": null,
   "metadata": {
    "collapsed": true
   },
   "outputs": [],
   "source": [
    "widepop = pivot_and_diff(popdf, 'pop_sum')\n",
    "widemore65 = pivot_and_diff(more65df, 'more65_sum')\n",
    "wideinc = pivot_and_diff(incdf, 'inc_sum')"
   ]
  },
  {
   "cell_type": "code",
   "execution_count": null,
   "metadata": {
    "collapsed": true
   },
   "outputs": [],
   "source": [
    "widepop.head()"
   ]
  },
  {
   "cell_type": "code",
   "execution_count": null,
   "metadata": {
    "collapsed": true
   },
   "outputs": [],
   "source": [
    "# widepop = popdf[popdf.variable != 'ce_no_habi'].pivot_table(index=['Name', 'category'], columns='variable', values='pop_sum')"
   ]
  },
  {
   "cell_type": "code",
   "execution_count": null,
   "metadata": {
    "collapsed": true
   },
   "outputs": [],
   "source": [
    "# widepop = popmetrics[popmetrics.variable != 'ce_no_habi'].pivot_table(index=['Name', 'category'], \n",
    "#                                                                       columns='variable', \n",
    "#                                                                       values=['pop_sum', 'more65_sum', 'inc_sum'])"
   ]
  },
  {
   "cell_type": "code",
   "execution_count": null,
   "metadata": {
    "collapsed": true
   },
   "outputs": [],
   "source": [
    "# widepop.head()"
   ]
  },
  {
   "cell_type": "code",
   "execution_count": null,
   "metadata": {
    "collapsed": true
   },
   "outputs": [],
   "source": [
    "# widepop['diff_pop'] = widepop.ce_nompa_h - widepop.ce_all_hab\n",
    "# widepop['perch_pop'] = (widepop.diff_pop/widepop.ce_all_hab)*100"
   ]
  },
  {
   "cell_type": "code",
   "execution_count": null,
   "metadata": {
    "collapsed": true
   },
   "outputs": [],
   "source": [
    "# widepop.reset_index(inplace=True)"
   ]
  },
  {
   "cell_type": "code",
   "execution_count": null,
   "metadata": {
    "collapsed": true
   },
   "outputs": [],
   "source": [
    "# widepophigh = widepop[widepop.category == 'high']"
   ]
  },
  {
   "cell_type": "code",
   "execution_count": null,
   "metadata": {
    "collapsed": true
   },
   "outputs": [],
   "source": [
    "widepop"
   ]
  },
  {
   "cell_type": "code",
   "execution_count": null,
   "metadata": {
    "collapsed": true
   },
   "outputs": [],
   "source": [
    "sns.set_style('ticks')\n",
    "fig, ax = plt.subplots()\n",
    "fig.set_size_inches(8, 8)\n",
    "# cmap = sns.color_palette(['#f44141', '#f4ee41', '#4286f4'])\n",
    "sns.despine()\n",
    "\n",
    "sns.barplot(y='Name', x='diffpop_sum', color='red',\n",
    "#             hue='category', palette=cmap, hue_order=['high', 'med', 'low'], \n",
    "            data=widepop)\n",
    "\n",
    "ax.set(xlabel='change in population within 1km of high exposure coast', ylabel='')\n",
    "# ,\n",
    "#       xlim=(-300, 300))\n",
    "\n",
    "fig.savefig('../figs/cv_population_diff_nompa-allhab.png', dpi=150)\n",
    "fig.savefig('../figs/cv_population_diff_nompa-allhab.svg)"
   ]
  },
  {
   "cell_type": "code",
   "execution_count": null,
   "metadata": {
    "collapsed": true
   },
   "outputs": [],
   "source": [
    "sns.set_style('ticks')\n",
    "fig, ax = plt.subplots()\n",
    "fig.set_size_inches(8, 8)\n",
    "cmap = sns.color_palette(['#f44141', '#f4ee41', '#4286f4'])\n",
    "\n",
    "sns.barplot(y='Name', x='diffmore65_sum', color='red',\n",
    "#             hue='category', palette=cmap, hue_order=['high', 'med', 'low'], \n",
    "            data=widemore65)\n",
    "\n",
    "ax.set(xlabel='change in pop (age > 65) within 1km of high exposure coast', ylabel='')\n",
    "# ,\n",
    "#       xlim=(-300, 300))\n",
    "\n",
    "fig.savefig('../figs/cv_popover65_diff_nompa-allhab.png', dpi=150)\n",
    "fig.savefig('../figs/cv_popover65_diff_nompa-allhab.svg', dpi=150)"
   ]
  },
  {
   "cell_type": "code",
   "execution_count": null,
   "metadata": {
    "collapsed": true
   },
   "outputs": [],
   "source": [
    "sns.set_style('ticks')\n",
    "fig, ax = plt.subplots()\n",
    "fig.set_size_inches(8, 8)\n",
    "cmap = sns.color_palette(['#f44141', '#f4ee41', '#4286f4'])\n",
    "\n",
    "sns.barplot(y='Name', x='diffinc_sum', color='red',\n",
    "#             hue='category', palette=cmap, hue_order=['high', 'med', 'low'], \n",
    "            data=wideinc)\n",
    "\n",
    "ax.set(xlabel='change in income within 1km of high exposure coast', ylabel='')\n",
    "# ,\n",
    "#       xlim=(-300, 300))\n",
    "\n",
    "fig.savefig('../figs/cv_income_diff_nompa-allhab.png', dpi=150)\n",
    "fig.savefig('../figs/cv_income_diff_nompa-allhab.svg)"
   ]
  },
  {
   "cell_type": "code",
   "execution_count": null,
   "metadata": {
    "collapsed": true
   },
   "outputs": [],
   "source": []
  },
  {
   "cell_type": "code",
   "execution_count": null,
   "metadata": {
    "collapsed": true
   },
   "outputs": [],
   "source": []
  },
  {
   "cell_type": "code",
   "execution_count": null,
   "metadata": {
    "collapsed": true
   },
   "outputs": [],
   "source": []
  },
  {
   "cell_type": "code",
   "execution_count": null,
   "metadata": {
    "collapsed": true
   },
   "outputs": [],
   "source": []
  },
  {
   "cell_type": "code",
   "execution_count": null,
   "metadata": {
    "collapsed": true
   },
   "outputs": [],
   "source": []
  },
  {
   "cell_type": "code",
   "execution_count": null,
   "metadata": {
    "collapsed": true
   },
   "outputs": [],
   "source": []
  },
  {
   "cell_type": "code",
   "execution_count": null,
   "metadata": {
    "collapsed": true
   },
   "outputs": [],
   "source": []
  },
  {
   "cell_type": "code",
   "execution_count": null,
   "metadata": {
    "collapsed": true
   },
   "outputs": [],
   "source": []
  },
  {
   "cell_type": "code",
   "execution_count": null,
   "metadata": {
    "collapsed": true
   },
   "outputs": [],
   "source": [
    "sns.set_style('ticks')\n",
    "fig, ax = plt.subplots()\n",
    "fig.set_size_inches(8, 8)\n",
    "cmap = sns.color_palette(['#f44141', '#f4ee41', '#4286f4'])\n",
    "\n",
    "sns.barplot(y='Name', x='diff_km', \n",
    "            hue='category', palette=cmap, hue_order=['high', 'med', 'low'], \n",
    "            data=pop_stats_gdf)\n",
    "\n",
    "ax.set(xlabel='change in km of shore', ylabel='',\n",
    "      xlim=(-300, 300))\n",
    "\n",
    "fig.savefig('../figs/cv_shorelength_diff_nompa-allhab.png')\n",
    "fig.savefig('../figs/cv_shorelength_diff_nompa-allhab.svg')"
   ]
  },
  {
   "cell_type": "code",
   "execution_count": null,
   "metadata": {
    "collapsed": true
   },
   "outputs": [],
   "source": [
    "# put island levels on points\n",
    "# put categories on points\n",
    "# slice by island, then by category and\n",
    "# buffer and dissolve points, calc zonal stats on the population rasters\n",
    "# also want km of coastline (aka number of points) in each category, for each island\n"
   ]
  },
  {
   "cell_type": "code",
   "execution_count": null,
   "metadata": {
    "collapsed": true
   },
   "outputs": [],
   "source": [
    "scenarios.to_csv('../mpa-removeall-habitat/scenario_data/national_cv_3scenarios.csv')"
   ]
  },
  {
   "cell_type": "code",
   "execution_count": null,
   "metadata": {
    "collapsed": true
   },
   "outputs": [],
   "source": [
    "geo_df = gpd.GeoDataFrame(scenarios, crs=national_shp.crs, geometry=national_shp.geometry)"
   ]
  },
  {
   "cell_type": "code",
   "execution_count": null,
   "metadata": {
    "collapsed": true
   },
   "outputs": [],
   "source": [
    "geo_df.to_file('../mpa-removeall-habitat/scenario_data/national_cv_3scenarios.shp')"
   ]
  },
  {
   "cell_type": "code",
   "execution_count": null,
   "metadata": {
    "collapsed": true
   },
   "outputs": [],
   "source": [
    "# put the above code into a function that can work on each habitat,\n",
    "# re-compute the coastal forest score after that\n",
    "# re-compute habitat rank\n",
    "# re-compute exposure index\n",
    "# summarize change in EI by island\n",
    "# summarize change in # of people by island"
   ]
  }
 ],
 "metadata": {
  "kernelspec": {
   "display_name": "Python 2",
   "language": "python",
   "name": "python2"
  },
  "language_info": {
   "codemirror_mode": {
    "name": "ipython",
    "version": 2
   },
   "file_extension": ".py",
   "mimetype": "text/x-python",
   "name": "python",
   "nbconvert_exporter": "python",
   "pygments_lexer": "ipython2",
   "version": "2.7.6"
  }
 },
 "nbformat": 4,
 "nbformat_minor": 1
}
