{
 "cells": [
  {
   "cell_type": "markdown",
   "metadata": {},
   "source": [
    "This script will start with a baseline CV outputs and apply scenarios of changing habitat distributions by modifying the presence/absence of habitats at specific shore points. Afterward, the overall natural_habitats rank can be re-calculated, and then the coastal_exposure index can be re-calculated. And these habitat scenarios can be summarized by subregions and compared back to the baseline in terms of exposure index or other metrics. "
   ]
  },
  {
   "cell_type": "code",
   "execution_count": 2,
   "metadata": {
    "collapsed": true
   },
   "outputs": [],
   "source": [
    "import pandas as pd\n",
    "import numpy as np\n",
    "import os\n",
    "import geopandas as gpd\n",
    "import logging\n",
    "logging.basicConfig(level=logging.ERROR) # to avoid the logging bug in natcap.invest\n",
    "import natcap.invest.coastal_vulnerability.coastal_vulnerability_core as cv\n",
    "import matplotlib.pyplot as plt\n",
    "import seaborn as sns\n",
    "%matplotlib inline\n",
    "from matplotlib import rcParams\n",
    "rcParams.update({'figure.autolayout': True})\n",
    "\n",
    "sns.set(font_scale=1.3)"
   ]
  },
  {
   "cell_type": "code",
   "execution_count": 1,
   "metadata": {
    "collapsed": true
   },
   "outputs": [],
   "source": [
    "# workspace = '../mpa-removeall-habitat/scenario_data/'"
   ]
  },
  {
   "cell_type": "markdown",
   "metadata": {},
   "source": [
    "### load baseline habitat ranks"
   ]
  },
  {
   "cell_type": "code",
   "execution_count": 2,
   "metadata": {
    "collapsed": true
   },
   "outputs": [],
   "source": [
    "# these data built by Jess in GIS - selecting points within the 'protective distance' of each habitat, and assigning rank\n",
    "# then maybe some manual selection/deselection of points to account for the 'skinny island' effect \n",
    "# When building this shapefile, MUST start with 'coastal_exposure.shp' returned by invest\n",
    "# so that later on habitats ranks can be merged with other exposure indices, by simply binding columns together\n",
    "allhabitats = gpd.read_file('../mpa-removeall-habitat/habitat_ranks_baseline.shp')"
   ]
  },
  {
   "cell_type": "markdown",
   "metadata": {},
   "source": [
    "### adjust ranks based on a scenario that removes all habitats within MPAs"
   ]
  },
  {
   "cell_type": "code",
   "execution_count": 3,
   "metadata": {
    "collapsed": true
   },
   "outputs": [],
   "source": [
    "# load MPA boundaries\n",
    "mpas = gpd.read_file('../../gis/mpa/bhs_poli_pa_2017_utm_iucn-edits_holesfilled.shp')\n",
    "mpas = mpas[mpas.ON_WATER == 1]\n",
    "mpas = gpd.GeoDataFrame(mpas['AREANAM'], crs=mpas.crs, geometry=mpas.geometry)"
   ]
  },
  {
   "cell_type": "markdown",
   "metadata": {},
   "source": [
    "#### find points within MPAs, assign habitat ranks of 0, except for coral\n",
    "coral has a large protective distance (2km) so habitat outside of an MPA will protect points within, and vice-versa.  \n",
    "this is less true for the other habitats, so we won't worry about it"
   ]
  },
  {
   "cell_type": "code",
   "execution_count": null,
   "metadata": {
    "collapsed": true
   },
   "outputs": [],
   "source": [
    "points_inside = allhabitats.intersects(mpas.unary_union)"
   ]
  },
  {
   "cell_type": "code",
   "execution_count": 26,
   "metadata": {},
   "outputs": [
    {
     "data": {
      "text/plain": [
       "False    18254\n",
       "True      9009\n",
       "dtype: int64"
      ]
     },
     "execution_count": 26,
     "metadata": {},
     "output_type": "execute_result"
    }
   ],
   "source": [
    "points_inside.value_counts() # how many points inside mpas?"
   ]
  },
  {
   "cell_type": "code",
   "execution_count": 29,
   "metadata": {
    "collapsed": true
   },
   "outputs": [],
   "source": [
    "allhabitats.loc[points_inside, ['copp_rank', 'mang_rank', 'pine_rank', 'sgr_rank']] = 0"
   ]
  },
  {
   "cell_type": "code",
   "execution_count": 33,
   "metadata": {
    "collapsed": true
   },
   "outputs": [],
   "source": [
    "# write out the modified habitat ranks - than manually do the coral assignments in GIS\n",
    "allhabitats.to_file('../mpa-removeall-habitat/habitat_ranks_nompa.shp')"
   ]
  },
  {
   "cell_type": "markdown",
   "metadata": {},
   "source": [
    "### compute coastal forest score for baseline and scenario habitat ranks\n",
    "CF rank for a point is the 'best' rank among the coppice, mangrove, pine habitat ranks present at that point"
   ]
  },
  {
   "cell_type": "code",
   "execution_count": 37,
   "metadata": {
    "collapsed": true
   },
   "outputs": [],
   "source": [
    "# x : dataframe with habitat rank column for each habitat considered for coastal forest\n",
    "def coastal_forest_rank(x):\n",
    "    if sum(x) == 0:\n",
    "        return 0\n",
    "    else:\n",
    "        return min(x[x>0])"
   ]
  },
  {
   "cell_type": "code",
   "execution_count": 34,
   "metadata": {
    "collapsed": true
   },
   "outputs": [],
   "source": [
    "base_habitats = gpd.read_file('../mpa-removeall-habitat/habitat_ranks_baseline.shp')"
   ]
  },
  {
   "cell_type": "code",
   "execution_count": 35,
   "metadata": {
    "collapsed": true
   },
   "outputs": [],
   "source": [
    "nompa_habitats = gpd.read_file('../mpa-removeall-habitat/habitat_ranks_nompa_coral.shp')"
   ]
  },
  {
   "cell_type": "code",
   "execution_count": 38,
   "metadata": {
    "collapsed": true
   },
   "outputs": [],
   "source": [
    "base_habitats['cf_rank'] = \\\n",
    "base_habitats[['copp_rank', 'mang_rank', 'pine_rank']].apply(axis=1, func=coastal_forest_rank)"
   ]
  },
  {
   "cell_type": "code",
   "execution_count": 39,
   "metadata": {
    "collapsed": true
   },
   "outputs": [],
   "source": [
    "nompa_habitats['cf_rank'] = \\\n",
    "nompa_habitats[['copp_rank', 'mang_rank', 'pine_rank']].apply(axis=1, func=coastal_forest_rank)"
   ]
  },
  {
   "cell_type": "code",
   "execution_count": 40,
   "metadata": {},
   "outputs": [
    {
     "data": {
      "text/html": [
       "<div>\n",
       "<table border=\"1\" class=\"dataframe\">\n",
       "  <thead>\n",
       "    <tr style=\"text-align: right;\">\n",
       "      <th></th>\n",
       "      <th>copp_rank</th>\n",
       "      <th>mang_rank</th>\n",
       "      <th>pine_rank</th>\n",
       "      <th>cf_rank</th>\n",
       "    </tr>\n",
       "  </thead>\n",
       "  <tbody>\n",
       "    <tr>\n",
       "      <th>0</th>\n",
       "      <td>1</td>\n",
       "      <td>0</td>\n",
       "      <td>0</td>\n",
       "      <td>1</td>\n",
       "    </tr>\n",
       "    <tr>\n",
       "      <th>13</th>\n",
       "      <td>1</td>\n",
       "      <td>3</td>\n",
       "      <td>0</td>\n",
       "      <td>1</td>\n",
       "    </tr>\n",
       "    <tr>\n",
       "      <th>170</th>\n",
       "      <td>0</td>\n",
       "      <td>0</td>\n",
       "      <td>0</td>\n",
       "      <td>0</td>\n",
       "    </tr>\n",
       "    <tr>\n",
       "      <th>189</th>\n",
       "      <td>1</td>\n",
       "      <td>3</td>\n",
       "      <td>2</td>\n",
       "      <td>1</td>\n",
       "    </tr>\n",
       "    <tr>\n",
       "      <th>300</th>\n",
       "      <td>1</td>\n",
       "      <td>0</td>\n",
       "      <td>2</td>\n",
       "      <td>1</td>\n",
       "    </tr>\n",
       "    <tr>\n",
       "      <th>394</th>\n",
       "      <td>0</td>\n",
       "      <td>3</td>\n",
       "      <td>0</td>\n",
       "      <td>3</td>\n",
       "    </tr>\n",
       "    <tr>\n",
       "      <th>2318</th>\n",
       "      <td>0</td>\n",
       "      <td>3</td>\n",
       "      <td>2</td>\n",
       "      <td>2</td>\n",
       "    </tr>\n",
       "    <tr>\n",
       "      <th>5272</th>\n",
       "      <td>0</td>\n",
       "      <td>0</td>\n",
       "      <td>2</td>\n",
       "      <td>2</td>\n",
       "    </tr>\n",
       "  </tbody>\n",
       "</table>\n",
       "</div>"
      ],
      "text/plain": [
       "      copp_rank  mang_rank  pine_rank  cf_rank\n",
       "0             1          0          0        1\n",
       "13            1          3          0        1\n",
       "170           0          0          0        0\n",
       "189           1          3          2        1\n",
       "300           1          0          2        1\n",
       "394           0          3          0        3\n",
       "2318          0          3          2        2\n",
       "5272          0          0          2        2"
      ]
     },
     "execution_count": 40,
     "metadata": {},
     "output_type": "execute_result"
    }
   ],
   "source": [
    "# QAQC: results of coastal_forest rank\n",
    "base_habitats[['copp_rank', 'mang_rank', 'pine_rank', 'cf_rank']].drop_duplicates()"
   ]
  },
  {
   "cell_type": "markdown",
   "metadata": {},
   "source": [
    "### compute natural_habitats rank"
   ]
  },
  {
   "cell_type": "code",
   "execution_count": 42,
   "metadata": {
    "collapsed": true
   },
   "outputs": [],
   "source": [
    "# x : dataframe with habitat rank column for only the habitats considered\n",
    "# func follows logic in invest cv model\n",
    "def recalc_habindex(x):\n",
    "    if sum(x) == 0:\n",
    "        return 5\n",
    "    else:\n",
    "        x = x[x != 0]\n",
    "        return cv.combined_rank(x) # imported from invest\n"
   ]
  },
  {
   "cell_type": "code",
   "execution_count": 43,
   "metadata": {
    "collapsed": true
   },
   "outputs": [],
   "source": [
    "base_habitats['natural_habitats'] = \\\n",
    "base_habitats[['cf_rank', 'sgr_rank', 'cor_rank']].apply(axis=1, func=recalc_habindex)"
   ]
  },
  {
   "cell_type": "code",
   "execution_count": 44,
   "metadata": {
    "collapsed": true
   },
   "outputs": [],
   "source": [
    "nompa_habitats['natural_habitats'] = \\\n",
    "nompa_habitats[['cf_rank', 'sgr_rank', 'cor_rank']].apply(axis=1, func=recalc_habindex)"
   ]
  },
  {
   "cell_type": "code",
   "execution_count": 54,
   "metadata": {},
   "outputs": [
    {
     "data": {
      "text/plain": [
       "<matplotlib.axes.AxesSubplot at 0x7f717ff1b590>"
      ]
     },
     "execution_count": 54,
     "metadata": {},
     "output_type": "execute_result"
    },
    {
     "data": {
      "image/png": "[encoded data removed]",
      "text/plain": [
       "<matplotlib.figure.Figure at 0x7f718197eb10>"
      ]
     },
     "metadata": {},
     "output_type": "display_data"
    }
   ],
   "source": [
    "# QAQC: distributions of natural_habitats rank for each scenario\n",
    "sns.distplot(base_habitats['natural_habitats'], kde=False, color='blue', bins=40)\n",
    "sns.distplot(nompa_habitats['natural_habitats'], kde=False, color='orange', bins=40)"
   ]
  },
  {
   "cell_type": "code",
   "execution_count": 19,
   "metadata": {
    "collapsed": true
   },
   "outputs": [],
   "source": [
    "# habitat_shore_update[['x', 'y']] = habitat_shore[['x', 'y']]"
   ]
  },
  {
   "cell_type": "code",
   "execution_count": 55,
   "metadata": {
    "collapsed": true
   },
   "outputs": [],
   "source": [
    "base_habitats.to_csv('../mpa-removeall-habitat/scenario_data/naturalhabitats_baseline.csv', index=False)"
   ]
  },
  {
   "cell_type": "code",
   "execution_count": 56,
   "metadata": {
    "collapsed": true
   },
   "outputs": [],
   "source": [
    "nompa_habitats.to_csv('../mpa-removeall-habitat/scenario_data/naturalhabitats_nompa.csv', index=False)"
   ]
  },
  {
   "cell_type": "markdown",
   "metadata": {},
   "source": [
    "### compute exposure for both scenarios\n",
    "Both scenarios will use all the same indices returned by invest (wave exp, shore exp, sea-level rise, geomorph, etc)  \n",
    "but will use different natural_habitat indices"
   ]
  },
  {
   "cell_type": "code",
   "execution_count": 57,
   "metadata": {
    "collapsed": true
   },
   "outputs": [],
   "source": [
    "# load invest outputs\n",
    "invest_exp = pd.read_csv('../mpa-removeall-habitat/cv-output-invest3.3.0/outputs/coastal_exposure/coastal_exposure.csv')\n",
    "# national_shp.drop(axis=1, labels='hab_rank', inplace=True)"
   ]
  },
  {
   "cell_type": "code",
   "execution_count": 59,
   "metadata": {
    "collapsed": true
   },
   "outputs": [],
   "source": [
    "# drop variables that we'll replace\n",
    "invest_exp.drop(axis=1, \\\n",
    "                labels=['natural_habitats', 'coastal_exposure', 'coastal_exposure_no_habitats', 'habitat_role'], \\\n",
    "                inplace=True)"
   ]
  },
  {
   "cell_type": "code",
   "execution_count": 61,
   "metadata": {
    "collapsed": true
   },
   "outputs": [],
   "source": [
    "# load habitat scenario data\n",
    "base_habitats = pd.read_csv('../mpa-removeall-habitat/scenario_data/naturalhabitats_baseline.csv')\n",
    "nompa_habitats = pd.read_csv('../mpa-removeall-habitat/scenario_data/naturalhabitats_nompa.csv')"
   ]
  },
  {
   "cell_type": "code",
   "execution_count": 91,
   "metadata": {
    "collapsed": true
   },
   "outputs": [],
   "source": [
    "# combine invest variables with habitat variables\n",
    "# coastal_exposure.csv from invest has no row index, \n",
    "# so be sure that the habitat rank points started as the 'coastal_exposure.shp' returned by invest\n",
    "if len(invest_exp) == len(base_habitats) == len(nompa_habitats):\n",
    "\n",
    "    base_exp = invest_exp.copy()\n",
    "    base_exp['natural_habitats'] = base_habitats.natural_habitats\n",
    "\n",
    "    nompa_exp = invest_exp.copy()\n",
    "    nompa_exp['natural_habitats'] = nompa_habitats.natural_habitats\n",
    "    \n",
    "else:\n",
    "    print('STOP!')"
   ]
  },
  {
   "cell_type": "code",
   "execution_count": 74,
   "metadata": {
    "collapsed": true
   },
   "outputs": [],
   "source": [
    "# specify variables to include in the exposure index\n",
    "# refer to invest code, not all vars in the output table contribute to \n",
    "# final coastal_exposure index, some are intermediate\n",
    "indexvars = ['geomorphology', 'relief', 'wave_exposure', 'surge_potential', 'natural_habitats']"
   ]
  },
  {
   "cell_type": "code",
   "execution_count": 75,
   "metadata": {
    "collapsed": true
   },
   "outputs": [],
   "source": [
    "# equation taken from\n",
    "# natcap.invest.coastal_vulnerability_core.coastal_exposure_index()\n",
    "def recalculate_exposure(indexvars, data):\n",
    "    exposure = data[indexvars].apply(axis=1, func=lambda x: np.power(np.prod(x), 1./(x.size)))\n",
    "    return exposure"
   ]
  },
  {
   "cell_type": "code",
   "execution_count": 93,
   "metadata": {
    "collapsed": true
   },
   "outputs": [],
   "source": [
    "base_exp['coast_exp'] = recalculate_exposure(indexvars, base_exp)"
   ]
  },
  {
   "cell_type": "code",
   "execution_count": 94,
   "metadata": {
    "collapsed": true
   },
   "outputs": [],
   "source": [
    "nompa_exp['coast_exp'] = recalculate_exposure(indexvars, nompa_exp)"
   ]
  },
  {
   "cell_type": "code",
   "execution_count": 1,
   "metadata": {},
   "outputs": [
    {
     "ename": "NameError",
     "evalue": "name 'base_exp' is not defined",
     "output_type": "error",
     "traceback": [
      "\u001b[1;31m---------------------------------------------------------------------------\u001b[0m",
      "\u001b[1;31mNameError\u001b[0m                                 Traceback (most recent call last)",
      "\u001b[1;32m<ipython-input-1-3a548661f8d3>\u001b[0m in \u001b[0;36m<module>\u001b[1;34m()\u001b[0m\n\u001b[1;32m----> 1\u001b[1;33m \u001b[0mbase_exp\u001b[0m\u001b[1;33m.\u001b[0m\u001b[0mhead\u001b[0m\u001b[1;33m(\u001b[0m\u001b[1;33m)\u001b[0m\u001b[1;33m\u001b[0m\u001b[0m\n\u001b[0m",
      "\u001b[1;31mNameError\u001b[0m: name 'base_exp' is not defined"
     ]
    }
   ],
   "source": [
    "base_exp.head()"
   ]
  },
  {
   "cell_type": "code",
   "execution_count": 97,
   "metadata": {},
   "outputs": [
    {
     "data": {
      "text/plain": [
       "<matplotlib.axes.AxesSubplot at 0x7f717eba6750>"
      ]
     },
     "execution_count": 97,
     "metadata": {},
     "output_type": "execute_result"
    },
    {
     "data": {
      "image/png": "[encoded data removed]",
      "text/plain": [
       "<matplotlib.figure.Figure at 0x7f717e970710>"
      ]
     },
     "metadata": {},
     "output_type": "display_data"
    }
   ],
   "source": [
    "# QAQC: distributions of coastal exposure rank for each scenario\n",
    "sns.distplot(base_exp['coast_exp'], kde=False, color='blue', bins=40)\n",
    "sns.distplot(nompa_exp['coast_exp'], kde=False, color='orange', bins=40)"
   ]
  },
  {
   "cell_type": "code",
   "execution_count": 99,
   "metadata": {
    "collapsed": true
   },
   "outputs": [],
   "source": [
    "# write outputs\n",
    "base_exp.to_csv('../mpa-removeall-habitat/scenario_data/coastal_exposure_baseline.csv', index=False)\n",
    "nompa_exp.to_csv('../mpa-removeall-habitat/scenario_data/coastal_exposure_nompa.csv', index=False)"
   ]
  },
  {
   "cell_type": "markdown",
   "metadata": {},
   "source": [
    "### combine scenario results in prep for categorizing exposure "
   ]
  },
  {
   "cell_type": "code",
   "execution_count": 4,
   "metadata": {
    "collapsed": true
   },
   "outputs": [],
   "source": [
    "base_exp = pd.read_csv('../mpa-removeall-habitat/scenario_data/coastal_exposure_baseline.csv')\n",
    "nompa_exp = pd.read_csv('../mpa-removeall-habitat/scenario_data/coastal_exposure_nompa.csv')"
   ]
  },
  {
   "cell_type": "code",
   "execution_count": 175,
   "metadata": {
    "collapsed": true
   },
   "outputs": [],
   "source": [
    "## put both scenarios in a table \n",
    "scenarios = pd.DataFrame()\n",
    "scenarios['ce_allhab'] = base_exp['coast_exp']\n",
    "scenarios['ce_nompa'] = nompa_exp['coast_exp']\n",
    "# scenarios['geometry'] = national_shp['geometry']\n",
    "# scenarios['x'] = national_shp['x']\n",
    "# scenarios['y'] = national_shp['y']"
   ]
  },
  {
   "cell_type": "code",
   "execution_count": 176,
   "metadata": {},
   "outputs": [
    {
     "data": {
      "text/plain": [
       "<matplotlib.axes.AxesSubplot at 0x7f7174380750>"
      ]
     },
     "execution_count": 176,
     "metadata": {},
     "output_type": "execute_result"
    },
    {
     "data": {
      "image/png": "[encoded data removed]",
      "text/plain": [
       "<matplotlib.figure.Figure at 0x7f717f7ab850>"
      ]
     },
     "metadata": {},
     "output_type": "display_data"
    }
   ],
   "source": [
    "sns.boxplot(scenarios, orient='h')"
   ]
  },
  {
   "cell_type": "markdown",
   "metadata": {},
   "source": [
    "### assign subregions to points:"
   ]
  },
  {
   "cell_type": "code",
   "execution_count": 165,
   "metadata": {
    "collapsed": true
   },
   "outputs": [],
   "source": [
    "subregions = gpd.read_file('/home/dmf/bahamas-mpa/cv/cv-fromjess/Bahamas_regionalCV_Inputs/LandPoly_Bahamas_subregions_v2.shp')"
   ]
  },
  {
   "cell_type": "code",
   "execution_count": 166,
   "metadata": {
    "collapsed": true
   },
   "outputs": [],
   "source": [
    "# buffer ensures the land polygons enclose the coastal points, which are a bit offshore\n",
    "# for subregions as discontiguous islands, this is no big deal\n",
    "# if subregions were contiguous areas whose buffers overlapped, that would be problematic\n",
    "subregions['geometry'] = subregions.buffer(300) # native resolution of CV shorepoint raster is 250m "
   ]
  },
  {
   "cell_type": "code",
   "execution_count": 167,
   "metadata": {},
   "outputs": [
    {
     "data": {
      "text/plain": [
       "[u'CROSS_SHLF',\n",
       " u'Name',\n",
       " u'ORIG_FID',\n",
       " u'Subregion',\n",
       " 'geometry',\n",
       " u'sq_meter',\n",
       " u'sqmeter_2']"
      ]
     },
     "execution_count": 167,
     "metadata": {},
     "output_type": "execute_result"
    }
   ],
   "source": [
    "list(subregions)"
   ]
  },
  {
   "cell_type": "code",
   "execution_count": 168,
   "metadata": {
    "collapsed": true
   },
   "outputs": [],
   "source": [
    "# cleanup the subregions table a bit before joining it's attributes to points\n",
    "subregions.drop(axis=1, labels=['CROSS_SHLF', 'ORIG_FID', 'Subregion', 'sq_meter', 'sqmeter_2'], inplace=True)"
   ]
  },
  {
   "cell_type": "markdown",
   "metadata": {},
   "source": [
    "#### prep scenarios exposure table for spatial join with subregions"
   ]
  },
  {
   "cell_type": "code",
   "execution_count": 112,
   "metadata": {},
   "outputs": [
    {
     "data": {
      "text/plain": [
       "{'init': u'epsg:32618'}"
      ]
     },
     "execution_count": 112,
     "metadata": {},
     "output_type": "execute_result"
    }
   ],
   "source": [
    "# we'll borrow point geometry from the original coastal_exposure.shp\n",
    "pts_shp = gpd.read_file('../mpa-removeall-habitat/cv-output-invest3.3.0/outputs/coastal_exposure/coastal_exposure.shp')\n",
    "pts_shp.crs"
   ]
  },
  {
   "cell_type": "code",
   "execution_count": 177,
   "metadata": {
    "collapsed": true
   },
   "outputs": [],
   "source": [
    "scenarios['fid'] = scenarios.index\n",
    "scenarios_shp = gpd.GeoDataFrame(scenarios, crs=pts_shp.crs, geometry=pts_shp.geometry)"
   ]
  },
  {
   "cell_type": "code",
   "execution_count": 178,
   "metadata": {
    "collapsed": true
   },
   "outputs": [],
   "source": [
    "pts_in_region = gpd.sjoin(scenarios_shp, subregions, how='inner', op='intersects')"
   ]
  },
  {
   "cell_type": "code",
   "execution_count": 179,
   "metadata": {},
   "outputs": [
    {
     "data": {
      "text/plain": [
       "True"
      ]
     },
     "execution_count": 179,
     "metadata": {},
     "output_type": "execute_result"
    }
   ],
   "source": [
    "# QAQC: did all points get 1 and only 1 subregion assignment?\n",
    "len(pts_in_region) == len(scenarios)"
   ]
  },
  {
   "cell_type": "code",
   "execution_count": 180,
   "metadata": {},
   "outputs": [
    {
     "data": {
      "text/html": [
       "<div>\n",
       "<table border=\"1\" class=\"dataframe\">\n",
       "  <thead>\n",
       "    <tr style=\"text-align: right;\">\n",
       "      <th></th>\n",
       "      <th>ce_allhab</th>\n",
       "      <th>ce_nompa</th>\n",
       "      <th>fid</th>\n",
       "      <th>geometry</th>\n",
       "      <th>index_right</th>\n",
       "      <th>Name</th>\n",
       "    </tr>\n",
       "  </thead>\n",
       "  <tbody>\n",
       "  </tbody>\n",
       "</table>\n",
       "</div>"
      ],
      "text/plain": [
       "Empty GeoDataFrame\n",
       "Columns: [ce_allhab, ce_nompa, fid, geometry, index_right, Name]\n",
       "Index: []"
      ]
     },
     "execution_count": 180,
     "metadata": {},
     "output_type": "execute_result"
    }
   ],
   "source": [
    "# QAQC: if above was False, which points were assigned multiple regions?\n",
    "# if above was True, this should return empty output\n",
    "dups = pts_in_region.fid[pts_in_region.duplicated('fid')]\n",
    "pts_in_region.loc[pts_in_region.fid.isin(dups)]\n",
    "\n",
    "# if there are duplicated points\n",
    "# either make assignments manually by dropping rows, or edit subregion shapefile/buffer in GIS \n",
    "# and repeat spatial join. I opted for latter."
   ]
  },
  {
   "cell_type": "code",
   "execution_count": 181,
   "metadata": {},
   "outputs": [
    {
     "data": {
      "text/html": [
       "<div>\n",
       "<table border=\"1\" class=\"dataframe\">\n",
       "  <thead>\n",
       "    <tr style=\"text-align: right;\">\n",
       "      <th></th>\n",
       "      <th>ce_allhab</th>\n",
       "      <th>ce_nompa</th>\n",
       "      <th>fid</th>\n",
       "      <th>geometry</th>\n",
       "      <th>index_right</th>\n",
       "      <th>Name</th>\n",
       "    </tr>\n",
       "  </thead>\n",
       "  <tbody>\n",
       "    <tr>\n",
       "      <th>0</th>\n",
       "      <td>2.336241</td>\n",
       "      <td>2.539011</td>\n",
       "      <td>0</td>\n",
       "      <td>POINT (162996.410662489 3019659.244384566)</td>\n",
       "      <td>16</td>\n",
       "      <td>Abaco</td>\n",
       "    </tr>\n",
       "    <tr>\n",
       "      <th>1</th>\n",
       "      <td>0.000000</td>\n",
       "      <td>0.000000</td>\n",
       "      <td>1</td>\n",
       "      <td>POINT (162746.410662489 3019409.244384566)</td>\n",
       "      <td>16</td>\n",
       "      <td>Abaco</td>\n",
       "    </tr>\n",
       "    <tr>\n",
       "      <th>2</th>\n",
       "      <td>2.336241</td>\n",
       "      <td>2.539011</td>\n",
       "      <td>2</td>\n",
       "      <td>POINT (163246.410662489 3019409.244384566)</td>\n",
       "      <td>16</td>\n",
       "      <td>Abaco</td>\n",
       "    </tr>\n",
       "    <tr>\n",
       "      <th>3</th>\n",
       "      <td>2.336241</td>\n",
       "      <td>2.539011</td>\n",
       "      <td>3</td>\n",
       "      <td>POINT (163496.410662489 3019409.244384566)</td>\n",
       "      <td>16</td>\n",
       "      <td>Abaco</td>\n",
       "    </tr>\n",
       "    <tr>\n",
       "      <th>4</th>\n",
       "      <td>2.336241</td>\n",
       "      <td>2.539011</td>\n",
       "      <td>4</td>\n",
       "      <td>POINT (162746.410662489 3019159.244384566)</td>\n",
       "      <td>16</td>\n",
       "      <td>Abaco</td>\n",
       "    </tr>\n",
       "  </tbody>\n",
       "</table>\n",
       "</div>"
      ],
      "text/plain": [
       "   ce_allhab  ce_nompa  fid                                    geometry  \\\n",
       "0   2.336241  2.539011    0  POINT (162996.410662489 3019659.244384566)   \n",
       "1   0.000000  0.000000    1  POINT (162746.410662489 3019409.244384566)   \n",
       "2   2.336241  2.539011    2  POINT (163246.410662489 3019409.244384566)   \n",
       "3   2.336241  2.539011    3  POINT (163496.410662489 3019409.244384566)   \n",
       "4   2.336241  2.539011    4  POINT (162746.410662489 3019159.244384566)   \n",
       "\n",
       "   index_right   Name  \n",
       "0           16  Abaco  \n",
       "1           16  Abaco  \n",
       "2           16  Abaco  \n",
       "3           16  Abaco  \n",
       "4           16  Abaco  "
      ]
     },
     "execution_count": 181,
     "metadata": {},
     "output_type": "execute_result"
    }
   ],
   "source": [
    "pts_in_region.head()"
   ]
  },
  {
   "cell_type": "code",
   "execution_count": 182,
   "metadata": {
    "collapsed": true
   },
   "outputs": [],
   "source": [
    "pts_in_region.drop(axis=1, labels='index_right', inplace=True)"
   ]
  },
  {
   "cell_type": "code",
   "execution_count": 183,
   "metadata": {
    "collapsed": true
   },
   "outputs": [],
   "source": [
    "pts_in_region['habrole'] = pts_in_region.ce_allhab - pts_in_region.ce_nompa"
   ]
  },
  {
   "cell_type": "code",
   "execution_count": 184,
   "metadata": {
    "collapsed": true
   },
   "outputs": [],
   "source": [
    "pts_in_region.to_file('../mpa-removeall-habitat/scenario_data/ce_2scenarios_byisland.shp')"
   ]
  },
  {
   "cell_type": "markdown",
   "metadata": {},
   "source": [
    "### Instead of categorizing into high-med-low, just make two categories  \n",
    "habrole == 0 and habrole > 0"
   ]
  },
  {
   "cell_type": "code",
   "execution_count": 3,
   "metadata": {},
   "outputs": [
    {
     "data": {
      "text/html": [
       "<div>\n",
       "<table border=\"1\" class=\"dataframe\">\n",
       "  <thead>\n",
       "    <tr style=\"text-align: right;\">\n",
       "      <th></th>\n",
       "      <th>Name</th>\n",
       "      <th>ce_allhab</th>\n",
       "      <th>ce_nompa</th>\n",
       "      <th>fid</th>\n",
       "      <th>geometry</th>\n",
       "      <th>habrole</th>\n",
       "    </tr>\n",
       "  </thead>\n",
       "  <tbody>\n",
       "    <tr>\n",
       "      <th>0</th>\n",
       "      <td>Abaco</td>\n",
       "      <td>2.336241</td>\n",
       "      <td>2.539011</td>\n",
       "      <td>0</td>\n",
       "      <td>POINT (162996.410662489 3019659.244384566)</td>\n",
       "      <td>-0.20277</td>\n",
       "    </tr>\n",
       "    <tr>\n",
       "      <th>1</th>\n",
       "      <td>Abaco</td>\n",
       "      <td>0.000000</td>\n",
       "      <td>0.000000</td>\n",
       "      <td>1</td>\n",
       "      <td>POINT (162746.410662489 3019409.244384566)</td>\n",
       "      <td>0.00000</td>\n",
       "    </tr>\n",
       "    <tr>\n",
       "      <th>2</th>\n",
       "      <td>Abaco</td>\n",
       "      <td>2.336241</td>\n",
       "      <td>2.539011</td>\n",
       "      <td>2</td>\n",
       "      <td>POINT (163246.410662489 3019409.244384566)</td>\n",
       "      <td>-0.20277</td>\n",
       "    </tr>\n",
       "    <tr>\n",
       "      <th>3</th>\n",
       "      <td>Abaco</td>\n",
       "      <td>2.336241</td>\n",
       "      <td>2.539011</td>\n",
       "      <td>3</td>\n",
       "      <td>POINT (163496.410662489 3019409.244384566)</td>\n",
       "      <td>-0.20277</td>\n",
       "    </tr>\n",
       "    <tr>\n",
       "      <th>4</th>\n",
       "      <td>Abaco</td>\n",
       "      <td>2.336241</td>\n",
       "      <td>2.539011</td>\n",
       "      <td>4</td>\n",
       "      <td>POINT (162746.410662489 3019159.244384566)</td>\n",
       "      <td>-0.20277</td>\n",
       "    </tr>\n",
       "  </tbody>\n",
       "</table>\n",
       "</div>"
      ],
      "text/plain": [
       "    Name  ce_allhab  ce_nompa  fid  \\\n",
       "0  Abaco   2.336241  2.539011    0   \n",
       "1  Abaco   0.000000  0.000000    1   \n",
       "2  Abaco   2.336241  2.539011    2   \n",
       "3  Abaco   2.336241  2.539011    3   \n",
       "4  Abaco   2.336241  2.539011    4   \n",
       "\n",
       "                                     geometry  habrole  \n",
       "0  POINT (162996.410662489 3019659.244384566) -0.20277  \n",
       "1  POINT (162746.410662489 3019409.244384566)  0.00000  \n",
       "2  POINT (163246.410662489 3019409.244384566) -0.20277  \n",
       "3  POINT (163496.410662489 3019409.244384566) -0.20277  \n",
       "4  POINT (162746.410662489 3019159.244384566) -0.20277  "
      ]
     },
     "execution_count": 3,
     "metadata": {},
     "output_type": "execute_result"
    }
   ],
   "source": [
    "pts_in_region = gpd.read_file('../mpa-removeall-habitat/scenario_data/ce_2scenarios_byisland.shp')\n",
    "pts_in_region.head()"
   ]
  },
  {
   "cell_type": "code",
   "execution_count": 8,
   "metadata": {
    "collapsed": true
   },
   "outputs": [],
   "source": [
    "def bin_habitat_role(x):\n",
    "    if x == 0:\n",
    "        return(0)\n",
    "    else:\n",
    "        return(1)"
   ]
  },
  {
   "cell_type": "code",
   "execution_count": 9,
   "metadata": {
    "collapsed": true
   },
   "outputs": [],
   "source": [
    "pts_in_region['hab_bool'] = pts_in_region['habrole'].apply(func=bin_habitat_role)"
   ]
  },
  {
   "cell_type": "code",
   "execution_count": 10,
   "metadata": {},
   "outputs": [
    {
     "data": {
      "text/html": [
       "<div>\n",
       "<table border=\"1\" class=\"dataframe\">\n",
       "  <thead>\n",
       "    <tr style=\"text-align: right;\">\n",
       "      <th></th>\n",
       "      <th>Name</th>\n",
       "      <th>ce_allhab</th>\n",
       "      <th>ce_nompa</th>\n",
       "      <th>fid</th>\n",
       "      <th>geometry</th>\n",
       "      <th>habrole</th>\n",
       "      <th>hab_bool</th>\n",
       "    </tr>\n",
       "  </thead>\n",
       "  <tbody>\n",
       "    <tr>\n",
       "      <th>0</th>\n",
       "      <td>Abaco</td>\n",
       "      <td>2.336241</td>\n",
       "      <td>2.539011</td>\n",
       "      <td>0</td>\n",
       "      <td>POINT (162996.410662489 3019659.244384566)</td>\n",
       "      <td>-0.20277</td>\n",
       "      <td>1</td>\n",
       "    </tr>\n",
       "    <tr>\n",
       "      <th>1</th>\n",
       "      <td>Abaco</td>\n",
       "      <td>0.000000</td>\n",
       "      <td>0.000000</td>\n",
       "      <td>1</td>\n",
       "      <td>POINT (162746.410662489 3019409.244384566)</td>\n",
       "      <td>0.00000</td>\n",
       "      <td>0</td>\n",
       "    </tr>\n",
       "    <tr>\n",
       "      <th>2</th>\n",
       "      <td>Abaco</td>\n",
       "      <td>2.336241</td>\n",
       "      <td>2.539011</td>\n",
       "      <td>2</td>\n",
       "      <td>POINT (163246.410662489 3019409.244384566)</td>\n",
       "      <td>-0.20277</td>\n",
       "      <td>1</td>\n",
       "    </tr>\n",
       "    <tr>\n",
       "      <th>3</th>\n",
       "      <td>Abaco</td>\n",
       "      <td>2.336241</td>\n",
       "      <td>2.539011</td>\n",
       "      <td>3</td>\n",
       "      <td>POINT (163496.410662489 3019409.244384566)</td>\n",
       "      <td>-0.20277</td>\n",
       "      <td>1</td>\n",
       "    </tr>\n",
       "    <tr>\n",
       "      <th>4</th>\n",
       "      <td>Abaco</td>\n",
       "      <td>2.336241</td>\n",
       "      <td>2.539011</td>\n",
       "      <td>4</td>\n",
       "      <td>POINT (162746.410662489 3019159.244384566)</td>\n",
       "      <td>-0.20277</td>\n",
       "      <td>1</td>\n",
       "    </tr>\n",
       "  </tbody>\n",
       "</table>\n",
       "</div>"
      ],
      "text/plain": [
       "    Name  ce_allhab  ce_nompa  fid  \\\n",
       "0  Abaco   2.336241  2.539011    0   \n",
       "1  Abaco   0.000000  0.000000    1   \n",
       "2  Abaco   2.336241  2.539011    2   \n",
       "3  Abaco   2.336241  2.539011    3   \n",
       "4  Abaco   2.336241  2.539011    4   \n",
       "\n",
       "                                     geometry  habrole  hab_bool  \n",
       "0  POINT (162996.410662489 3019659.244384566) -0.20277         1  \n",
       "1  POINT (162746.410662489 3019409.244384566)  0.00000         0  \n",
       "2  POINT (163246.410662489 3019409.244384566) -0.20277         1  \n",
       "3  POINT (163496.410662489 3019409.244384566) -0.20277         1  \n",
       "4  POINT (162746.410662489 3019159.244384566) -0.20277         1  "
      ]
     },
     "execution_count": 10,
     "metadata": {},
     "output_type": "execute_result"
    }
   ],
   "source": [
    "pts_in_region.head()"
   ]
  },
  {
   "cell_type": "code",
   "execution_count": 11,
   "metadata": {
    "collapsed": true
   },
   "outputs": [],
   "source": [
    "pts_in_region.to_csv('../mpa-removeall-habitat/scenario_data/cv_2scenarios_byisland_habrolecat.csv', index=False)\n",
    "pts_in_region.to_file('../mpa-removeall-habitat/scenario_data/cv_2scenarios_byisland_habrolecat.shp')"
   ]
  },
  {
   "cell_type": "markdown",
   "metadata": {},
   "source": [
    "### Categorize exposure indices into high-med-low\n",
    "using distribution of combined exposure values from multiple scenarios"
   ]
  },
  {
   "cell_type": "code",
   "execution_count": 3,
   "metadata": {
    "collapsed": true
   },
   "outputs": [],
   "source": [
    "# pts_in_region = gpd.read_file('../mpa-removeall-habitat/scenario_data/ce_2scenarios_byisland.shp')"
   ]
  },
  {
   "cell_type": "code",
   "execution_count": 5,
   "metadata": {
    "collapsed": true
   },
   "outputs": [],
   "source": [
    "# drop habrole because we don't want it's values in the distribution of exposure values\n",
    "# longdf = pd.melt(frame=pts_in_region.drop(axis=1, labels='habrole'), id_vars=['geometry', 'fid', 'Name'])\n",
    "# longdf.rename(columns={'value': 'coast_exp'}, inplace=True)"
   ]
  },
  {
   "cell_type": "code",
   "execution_count": 8,
   "metadata": {},
   "outputs": [
    {
     "data": {
      "text/plain": [
       "<matplotlib.axes.AxesSubplot at 0x7fa7d47c9c10>"
      ]
     },
     "execution_count": 8,
     "metadata": {},
     "output_type": "execute_result"
    },
    {
     "name": "stderr",
     "output_type": "stream",
     "text": [
      "/usr/lib/pymodules/python2.7/matplotlib/figure.py:1595: UserWarning: This figure includes Axes that are not compatible with tight_layout, so its results might be incorrect.\n",
      "  warnings.warn(\"This figure includes Axes that are not \"\n"
     ]
    },
    {
     "data": {
      "image/png": "[encoded data removed]",
      "text/plain": [
       "<matplotlib.figure.Figure at 0x7fa7d47c9a50>"
      ]
     },
     "metadata": {},
     "output_type": "display_data"
    }
   ],
   "source": [
    "# combined coastal exposure distribution\n",
    "# sns.distplot(longdf.coast_exp, kde=False, color='orange')"
   ]
  },
  {
   "cell_type": "markdown",
   "metadata": {},
   "source": [
    "#### choose cuts for high medium and low categories\n",
    "low = bottom 25% of exposure values  \n",
    "med = middle 50%  \n",
    "high = top 25%  "
   ]
  },
  {
   "cell_type": "code",
   "execution_count": 9,
   "metadata": {},
   "outputs": [
    {
     "name": "stdout",
     "output_type": "stream",
     "text": [
      "0.25    2.349978\n",
      "0.75    3.230281\n",
      "Name: coast_exp, dtype: float64\n"
     ]
    }
   ],
   "source": [
    "# quants = longdf.coast_exp.quantile([.25, .75])\n",
    "# print(quants)"
   ]
  },
  {
   "cell_type": "code",
   "execution_count": 10,
   "metadata": {
    "collapsed": true
   },
   "outputs": [],
   "source": [
    "# def categorize_exposure(x):\n",
    "#     if x <= quants.iloc[0]:\n",
    "#         return 'low'\n",
    "#     if quants.iloc[0] < x < quants.iloc[1]:\n",
    "#         return 'med'\n",
    "#     if x >= quants.iloc[1]:\n",
    "#         return 'high'"
   ]
  },
  {
   "cell_type": "code",
   "execution_count": 11,
   "metadata": {
    "collapsed": true
   },
   "outputs": [],
   "source": [
    "# longdf['category'] = longdf['coast_exp'].apply(func=categorize_exposure)"
   ]
  },
  {
   "cell_type": "code",
   "execution_count": 13,
   "metadata": {},
   "outputs": [
    {
     "data": {
      "image/png": "[encoded data removed]",
      "text/plain": [
       "<matplotlib.figure.Figure at 0x7fa7d47c9750>"
      ]
     },
     "metadata": {},
     "output_type": "display_data"
    }
   ],
   "source": [
    "# sns.set_style('ticks')\n",
    "# fig, ax = plt.subplots()\n",
    "# fig.set_size_inches(8, 10)\n",
    "# sns.boxplot(x=\"coast_exp\", y=\"Name\", hue='variable', data=longdf)\n",
    "# fig.savefig('../figs/cv_scenarios_boxplot_exposure.png')\n",
    "# fig.savefig('../figs/cv_scenarios_boxplot_exposure.svg')"
   ]
  },
  {
   "cell_type": "code",
   "execution_count": 14,
   "metadata": {
    "collapsed": true
   },
   "outputs": [],
   "source": [
    "# longdf.to_csv('../mpa-removeall-habitat/scenario_data/cv_2scenarios_byisland_category.csv', index=False)"
   ]
  },
  {
   "cell_type": "code",
   "execution_count": 17,
   "metadata": {
    "collapsed": true
   },
   "outputs": [],
   "source": [
    "# scenario_geo = gpd.GeoDataFrame(longdf, crs=pts_in_region.crs, geometry=longdf['geometry'])"
   ]
  },
  {
   "cell_type": "code",
   "execution_count": 18,
   "metadata": {
    "collapsed": true
   },
   "outputs": [],
   "source": [
    "# scenario_geo.to_file('../mpa-removeall-habitat/scenario_data/cv_2scenarios_byisland_category.shp')"
   ]
  },
  {
   "cell_type": "markdown",
   "metadata": {},
   "source": [
    "### Metric 1: Length of coastline in each category, for each island  "
   ]
  },
  {
   "cell_type": "code",
   "execution_count": 216,
   "metadata": {
    "collapsed": true
   },
   "outputs": [],
   "source": [
    "scenario_cat = pd.read_csv('../mpa-removeall-habitat/scenario_data/cv_2scenarios_byisland_category.csv')"
   ]
  },
  {
   "cell_type": "code",
   "execution_count": 217,
   "metadata": {},
   "outputs": [
    {
     "data": {
      "text/html": [
       "<div>\n",
       "<table border=\"1\" class=\"dataframe\">\n",
       "  <thead>\n",
       "    <tr style=\"text-align: right;\">\n",
       "      <th></th>\n",
       "      <th>geometry</th>\n",
       "      <th>fid</th>\n",
       "      <th>Name</th>\n",
       "      <th>variable</th>\n",
       "      <th>value</th>\n",
       "      <th>category</th>\n",
       "    </tr>\n",
       "  </thead>\n",
       "  <tbody>\n",
       "    <tr>\n",
       "      <th>0</th>\n",
       "      <td>POINT (162996.410662489 3019659.244384566)</td>\n",
       "      <td>0</td>\n",
       "      <td>Abaco</td>\n",
       "      <td>ce_allhab</td>\n",
       "      <td>2.336241</td>\n",
       "      <td>low</td>\n",
       "    </tr>\n",
       "    <tr>\n",
       "      <th>1</th>\n",
       "      <td>POINT (162746.410662489 3019409.244384566)</td>\n",
       "      <td>1</td>\n",
       "      <td>Abaco</td>\n",
       "      <td>ce_allhab</td>\n",
       "      <td>0.000000</td>\n",
       "      <td>low</td>\n",
       "    </tr>\n",
       "    <tr>\n",
       "      <th>2</th>\n",
       "      <td>POINT (163246.410662489 3019409.244384566)</td>\n",
       "      <td>2</td>\n",
       "      <td>Abaco</td>\n",
       "      <td>ce_allhab</td>\n",
       "      <td>2.336241</td>\n",
       "      <td>low</td>\n",
       "    </tr>\n",
       "    <tr>\n",
       "      <th>3</th>\n",
       "      <td>POINT (163496.410662489 3019409.244384566)</td>\n",
       "      <td>3</td>\n",
       "      <td>Abaco</td>\n",
       "      <td>ce_allhab</td>\n",
       "      <td>2.336241</td>\n",
       "      <td>low</td>\n",
       "    </tr>\n",
       "    <tr>\n",
       "      <th>4</th>\n",
       "      <td>POINT (162746.410662489 3019159.244384566)</td>\n",
       "      <td>4</td>\n",
       "      <td>Abaco</td>\n",
       "      <td>ce_allhab</td>\n",
       "      <td>2.336241</td>\n",
       "      <td>low</td>\n",
       "    </tr>\n",
       "  </tbody>\n",
       "</table>\n",
       "</div>"
      ],
      "text/plain": [
       "                                     geometry  fid   Name   variable  \\\n",
       "0  POINT (162996.410662489 3019659.244384566)    0  Abaco  ce_allhab   \n",
       "1  POINT (162746.410662489 3019409.244384566)    1  Abaco  ce_allhab   \n",
       "2  POINT (163246.410662489 3019409.244384566)    2  Abaco  ce_allhab   \n",
       "3  POINT (163496.410662489 3019409.244384566)    3  Abaco  ce_allhab   \n",
       "4  POINT (162746.410662489 3019159.244384566)    4  Abaco  ce_allhab   \n",
       "\n",
       "      value category  \n",
       "0  2.336241      low  \n",
       "1  0.000000      low  \n",
       "2  2.336241      low  \n",
       "3  2.336241      low  \n",
       "4  2.336241      low  "
      ]
     },
     "execution_count": 217,
     "metadata": {},
     "output_type": "execute_result"
    }
   ],
   "source": [
    "scenario_cat.head()"
   ]
  },
  {
   "cell_type": "code",
   "execution_count": 261,
   "metadata": {
    "collapsed": true
   },
   "outputs": [],
   "source": [
    "grouped_df = pd.DataFrame(scenario_cat.groupby(['Name', 'category', 'variable']).size().rename('npoints'))"
   ]
  },
  {
   "cell_type": "code",
   "execution_count": 264,
   "metadata": {},
   "outputs": [
    {
     "data": {
      "text/html": [
       "<div>\n",
       "<table border=\"1\" class=\"dataframe\">\n",
       "  <thead>\n",
       "    <tr style=\"text-align: right;\">\n",
       "      <th></th>\n",
       "      <th></th>\n",
       "      <th></th>\n",
       "      <th>npoints</th>\n",
       "    </tr>\n",
       "    <tr>\n",
       "      <th>Name</th>\n",
       "      <th>category</th>\n",
       "      <th>variable</th>\n",
       "      <th></th>\n",
       "    </tr>\n",
       "  </thead>\n",
       "  <tbody>\n",
       "    <tr>\n",
       "      <th rowspan=\"5\" valign=\"top\">Ragged Island</th>\n",
       "      <th>high</th>\n",
       "      <th>ce_nompa</th>\n",
       "      <td>2</td>\n",
       "    </tr>\n",
       "    <tr>\n",
       "      <th rowspan=\"2\" valign=\"top\">low</th>\n",
       "      <th>ce_allhab</th>\n",
       "      <td>325</td>\n",
       "    </tr>\n",
       "    <tr>\n",
       "      <th>ce_nompa</th>\n",
       "      <td>325</td>\n",
       "    </tr>\n",
       "    <tr>\n",
       "      <th rowspan=\"2\" valign=\"top\">med</th>\n",
       "      <th>ce_allhab</th>\n",
       "      <td>271</td>\n",
       "    </tr>\n",
       "    <tr>\n",
       "      <th>ce_nompa</th>\n",
       "      <td>271</td>\n",
       "    </tr>\n",
       "    <tr>\n",
       "      <th rowspan=\"5\" valign=\"top\">Rum Cay</th>\n",
       "      <th>high</th>\n",
       "      <th>ce_nompa</th>\n",
       "      <td>34</td>\n",
       "    </tr>\n",
       "    <tr>\n",
       "      <th rowspan=\"2\" valign=\"top\">low</th>\n",
       "      <th>ce_allhab</th>\n",
       "      <td>125</td>\n",
       "    </tr>\n",
       "    <tr>\n",
       "      <th>ce_nompa</th>\n",
       "      <td>123</td>\n",
       "    </tr>\n",
       "    <tr>\n",
       "      <th rowspan=\"2\" valign=\"top\">med</th>\n",
       "      <th>ce_allhab</th>\n",
       "      <td>101</td>\n",
       "    </tr>\n",
       "    <tr>\n",
       "      <th>ce_nompa</th>\n",
       "      <td>69</td>\n",
       "    </tr>\n",
       "    <tr>\n",
       "      <th rowspan=\"5\" valign=\"top\">San Salvador</th>\n",
       "      <th>high</th>\n",
       "      <th>ce_nompa</th>\n",
       "      <td>35</td>\n",
       "    </tr>\n",
       "    <tr>\n",
       "      <th rowspan=\"2\" valign=\"top\">low</th>\n",
       "      <th>ce_allhab</th>\n",
       "      <td>191</td>\n",
       "    </tr>\n",
       "    <tr>\n",
       "      <th>ce_nompa</th>\n",
       "      <td>63</td>\n",
       "    </tr>\n",
       "    <tr>\n",
       "      <th rowspan=\"2\" valign=\"top\">med</th>\n",
       "      <th>ce_allhab</th>\n",
       "      <td>124</td>\n",
       "    </tr>\n",
       "    <tr>\n",
       "      <th>ce_nompa</th>\n",
       "      <td>217</td>\n",
       "    </tr>\n",
       "  </tbody>\n",
       "</table>\n",
       "</div>"
      ],
      "text/plain": [
       "                                  npoints\n",
       "Name          category variable          \n",
       "Ragged Island high     ce_nompa         2\n",
       "              low      ce_allhab      325\n",
       "                       ce_nompa       325\n",
       "              med      ce_allhab      271\n",
       "                       ce_nompa       271\n",
       "Rum Cay       high     ce_nompa        34\n",
       "              low      ce_allhab      125\n",
       "                       ce_nompa       123\n",
       "              med      ce_allhab      101\n",
       "                       ce_nompa        69\n",
       "San Salvador  high     ce_nompa        35\n",
       "              low      ce_allhab      191\n",
       "                       ce_nompa        63\n",
       "              med      ce_allhab      124\n",
       "                       ce_nompa       217"
      ]
     },
     "execution_count": 264,
     "metadata": {},
     "output_type": "execute_result"
    }
   ],
   "source": [
    "grouped_df.tail(15)"
   ]
  },
  {
   "cell_type": "code",
   "execution_count": null,
   "metadata": {
    "collapsed": true
   },
   "outputs": [],
   "source": [
    "coastlength = pd.DataFrame(grouped_df.to_records())"
   ]
  },
  {
   "cell_type": "code",
   "execution_count": 228,
   "metadata": {},
   "outputs": [
    {
     "data": {
      "text/html": [
       "<div>\n",
       "<table border=\"1\" class=\"dataframe\">\n",
       "  <thead>\n",
       "    <tr style=\"text-align: right;\">\n",
       "      <th></th>\n",
       "      <th>Name</th>\n",
       "      <th>category</th>\n",
       "      <th>variable</th>\n",
       "      <th>npoints</th>\n",
       "    </tr>\n",
       "  </thead>\n",
       "  <tbody>\n",
       "    <tr>\n",
       "      <th>0</th>\n",
       "      <td>Abaco</td>\n",
       "      <td>high</td>\n",
       "      <td>ce_allhab</td>\n",
       "      <td>1990</td>\n",
       "    </tr>\n",
       "    <tr>\n",
       "      <th>1</th>\n",
       "      <td>Abaco</td>\n",
       "      <td>high</td>\n",
       "      <td>ce_nompa</td>\n",
       "      <td>3091</td>\n",
       "    </tr>\n",
       "    <tr>\n",
       "      <th>2</th>\n",
       "      <td>Abaco</td>\n",
       "      <td>low</td>\n",
       "      <td>ce_allhab</td>\n",
       "      <td>631</td>\n",
       "    </tr>\n",
       "    <tr>\n",
       "      <th>3</th>\n",
       "      <td>Abaco</td>\n",
       "      <td>low</td>\n",
       "      <td>ce_nompa</td>\n",
       "      <td>561</td>\n",
       "    </tr>\n",
       "    <tr>\n",
       "      <th>4</th>\n",
       "      <td>Abaco</td>\n",
       "      <td>med</td>\n",
       "      <td>ce_allhab</td>\n",
       "      <td>2797</td>\n",
       "    </tr>\n",
       "    <tr>\n",
       "      <th>5</th>\n",
       "      <td>Abaco</td>\n",
       "      <td>med</td>\n",
       "      <td>ce_nompa</td>\n",
       "      <td>1766</td>\n",
       "    </tr>\n",
       "    <tr>\n",
       "      <th>6</th>\n",
       "      <td>Acklins/Crooked</td>\n",
       "      <td>high</td>\n",
       "      <td>ce_allhab</td>\n",
       "      <td>422</td>\n",
       "    </tr>\n",
       "    <tr>\n",
       "      <th>7</th>\n",
       "      <td>Acklins/Crooked</td>\n",
       "      <td>high</td>\n",
       "      <td>ce_nompa</td>\n",
       "      <td>569</td>\n",
       "    </tr>\n",
       "    <tr>\n",
       "      <th>8</th>\n",
       "      <td>Acklins/Crooked</td>\n",
       "      <td>low</td>\n",
       "      <td>ce_allhab</td>\n",
       "      <td>275</td>\n",
       "    </tr>\n",
       "    <tr>\n",
       "      <th>9</th>\n",
       "      <td>Acklins/Crooked</td>\n",
       "      <td>low</td>\n",
       "      <td>ce_nompa</td>\n",
       "      <td>222</td>\n",
       "    </tr>\n",
       "  </tbody>\n",
       "</table>\n",
       "</div>"
      ],
      "text/plain": [
       "              Name category   variable  npoints\n",
       "0            Abaco     high  ce_allhab     1990\n",
       "1            Abaco     high   ce_nompa     3091\n",
       "2            Abaco      low  ce_allhab      631\n",
       "3            Abaco      low   ce_nompa      561\n",
       "4            Abaco      med  ce_allhab     2797\n",
       "5            Abaco      med   ce_nompa     1766\n",
       "6  Acklins/Crooked     high  ce_allhab      422\n",
       "7  Acklins/Crooked     high   ce_nompa      569\n",
       "8  Acklins/Crooked      low  ce_allhab      275\n",
       "9  Acklins/Crooked      low   ce_nompa      222"
      ]
     },
     "execution_count": 228,
     "metadata": {},
     "output_type": "execute_result"
    }
   ],
   "source": [
    "coastlength.head(10)"
   ]
  },
  {
   "cell_type": "code",
   "execution_count": 229,
   "metadata": {
    "collapsed": true
   },
   "outputs": [],
   "source": [
    "coastlength['km_shore'] = coastlength['npoints']*(0.25) # cv resolution was 250m"
   ]
  },
  {
   "cell_type": "code",
   "execution_count": 230,
   "metadata": {},
   "outputs": [
    {
     "data": {
      "text/html": [
       "<div>\n",
       "<table border=\"1\" class=\"dataframe\">\n",
       "  <thead>\n",
       "    <tr style=\"text-align: right;\">\n",
       "      <th></th>\n",
       "      <th>Name</th>\n",
       "      <th>category</th>\n",
       "      <th>variable</th>\n",
       "      <th>npoints</th>\n",
       "      <th>km_shore</th>\n",
       "    </tr>\n",
       "  </thead>\n",
       "  <tbody>\n",
       "    <tr>\n",
       "      <th>0</th>\n",
       "      <td>Abaco</td>\n",
       "      <td>high</td>\n",
       "      <td>ce_allhab</td>\n",
       "      <td>1990</td>\n",
       "      <td>497.50</td>\n",
       "    </tr>\n",
       "    <tr>\n",
       "      <th>1</th>\n",
       "      <td>Abaco</td>\n",
       "      <td>high</td>\n",
       "      <td>ce_nompa</td>\n",
       "      <td>3091</td>\n",
       "      <td>772.75</td>\n",
       "    </tr>\n",
       "    <tr>\n",
       "      <th>2</th>\n",
       "      <td>Abaco</td>\n",
       "      <td>low</td>\n",
       "      <td>ce_allhab</td>\n",
       "      <td>631</td>\n",
       "      <td>157.75</td>\n",
       "    </tr>\n",
       "    <tr>\n",
       "      <th>3</th>\n",
       "      <td>Abaco</td>\n",
       "      <td>low</td>\n",
       "      <td>ce_nompa</td>\n",
       "      <td>561</td>\n",
       "      <td>140.25</td>\n",
       "    </tr>\n",
       "    <tr>\n",
       "      <th>4</th>\n",
       "      <td>Abaco</td>\n",
       "      <td>med</td>\n",
       "      <td>ce_allhab</td>\n",
       "      <td>2797</td>\n",
       "      <td>699.25</td>\n",
       "    </tr>\n",
       "  </tbody>\n",
       "</table>\n",
       "</div>"
      ],
      "text/plain": [
       "    Name category   variable  npoints  km_shore\n",
       "0  Abaco     high  ce_allhab     1990    497.50\n",
       "1  Abaco     high   ce_nompa     3091    772.75\n",
       "2  Abaco      low  ce_allhab      631    157.75\n",
       "3  Abaco      low   ce_nompa      561    140.25\n",
       "4  Abaco      med  ce_allhab     2797    699.25"
      ]
     },
     "execution_count": 230,
     "metadata": {},
     "output_type": "execute_result"
    }
   ],
   "source": [
    "coastlength.head()"
   ]
  },
  {
   "cell_type": "code",
   "execution_count": 231,
   "metadata": {
    "collapsed": true
   },
   "outputs": [],
   "source": [
    "coastlength.to_csv('../mpa-removeall-habitat/scenario_data/cv_2scenarios_byisland_category_kmshore.csv', index=False)"
   ]
  },
  {
   "cell_type": "code",
   "execution_count": 232,
   "metadata": {
    "collapsed": true
   },
   "outputs": [
    {
     "data": {
      "image/png": "[encoded data removed]",
      "text/plain": [
       "<matplotlib.figure.Figure at 0x7f7172812f90>"
      ]
     },
     "metadata": {},
     "output_type": "display_data"
    }
   ],
   "source": [
    "# plot this scenario:\n",
    "plotvar = 'ce_allhab'\n",
    "\n",
    "sns.set_style('ticks')\n",
    "fig, ax = plt.subplots()\n",
    "fig.set_size_inches(8, 8)\n",
    "cmap = sns.color_palette(['#f44141', '#f4ee41', '#4286f4'])\n",
    "\n",
    "sns.barplot(y='Name', x='km_shore', \n",
    "            hue='category', palette=cmap, hue_order=['high', 'med', 'low'], \n",
    "            data=coastlength[coastlength.variable == plotvar])\n",
    "\n",
    "\n",
    "fig.savefig('../figs/cv_shorelength_' + plotvar + '.png')\n",
    "fig.savefig('../figs/cv_shorelength_' + plotvar + '.svg')"
   ]
  },
  {
   "cell_type": "code",
   "execution_count": 233,
   "metadata": {
    "collapsed": true
   },
   "outputs": [
    {
     "data": {
      "image/png": "[encoded data removed]",
      "text/plain": [
       "<matplotlib.figure.Figure at 0x7f716fe9a810>"
      ]
     },
     "metadata": {},
     "output_type": "display_data"
    }
   ],
   "source": [
    "# plot this scenario:\n",
    "plotvar = 'ce_nompa'\n",
    "\n",
    "sns.set_style('ticks')\n",
    "fig, ax = plt.subplots()\n",
    "fig.set_size_inches(8, 8)\n",
    "cmap = sns.color_palette(['#f44141', '#f4ee41', '#4286f4'])\n",
    "\n",
    "sns.barplot(y='Name', x='km_shore', \n",
    "            hue='category', palette=cmap, hue_order=['high', 'med', 'low'], \n",
    "            data=coastlength[coastlength.variable == plotvar])\n",
    "\n",
    "\n",
    "fig.savefig('../figs/cv_shorelength_' + plotvar + '.png')\n",
    "fig.savefig('../figs/cv_shorelength_' + plotvar + '.svg')"
   ]
  },
  {
   "cell_type": "markdown",
   "metadata": {},
   "source": [
    "#### difference in km_shore between allhab and nompa scenarios"
   ]
  },
  {
   "cell_type": "code",
   "execution_count": 259,
   "metadata": {
    "collapsed": true
   },
   "outputs": [],
   "source": [
    "coastlength = pd.read_csv('../mpa-removeall-habitat/scenario_data/cv_2scenarios_byisland_category_kmshore.csv')"
   ]
  },
  {
   "cell_type": "code",
   "execution_count": 260,
   "metadata": {},
   "outputs": [
    {
     "data": {
      "text/html": [
       "<div>\n",
       "<table border=\"1\" class=\"dataframe\">\n",
       "  <thead>\n",
       "    <tr style=\"text-align: right;\">\n",
       "      <th></th>\n",
       "      <th>Name</th>\n",
       "      <th>category</th>\n",
       "      <th>variable</th>\n",
       "      <th>npoints</th>\n",
       "      <th>km_shore</th>\n",
       "    </tr>\n",
       "  </thead>\n",
       "  <tbody>\n",
       "    <tr>\n",
       "      <th>0</th>\n",
       "      <td>Abaco</td>\n",
       "      <td>high</td>\n",
       "      <td>ce_allhab</td>\n",
       "      <td>1990</td>\n",
       "      <td>497.50</td>\n",
       "    </tr>\n",
       "    <tr>\n",
       "      <th>1</th>\n",
       "      <td>Abaco</td>\n",
       "      <td>high</td>\n",
       "      <td>ce_nompa</td>\n",
       "      <td>3091</td>\n",
       "      <td>772.75</td>\n",
       "    </tr>\n",
       "    <tr>\n",
       "      <th>6</th>\n",
       "      <td>Acklins/Crooked</td>\n",
       "      <td>high</td>\n",
       "      <td>ce_allhab</td>\n",
       "      <td>422</td>\n",
       "      <td>105.50</td>\n",
       "    </tr>\n",
       "    <tr>\n",
       "      <th>7</th>\n",
       "      <td>Acklins/Crooked</td>\n",
       "      <td>high</td>\n",
       "      <td>ce_nompa</td>\n",
       "      <td>569</td>\n",
       "      <td>142.25</td>\n",
       "    </tr>\n",
       "    <tr>\n",
       "      <th>12</th>\n",
       "      <td>Andros</td>\n",
       "      <td>high</td>\n",
       "      <td>ce_allhab</td>\n",
       "      <td>1030</td>\n",
       "      <td>257.50</td>\n",
       "    </tr>\n",
       "    <tr>\n",
       "      <th>13</th>\n",
       "      <td>Andros</td>\n",
       "      <td>high</td>\n",
       "      <td>ce_nompa</td>\n",
       "      <td>2830</td>\n",
       "      <td>707.50</td>\n",
       "    </tr>\n",
       "    <tr>\n",
       "      <th>18</th>\n",
       "      <td>Berry Islands</td>\n",
       "      <td>high</td>\n",
       "      <td>ce_allhab</td>\n",
       "      <td>29</td>\n",
       "      <td>7.25</td>\n",
       "    </tr>\n",
       "    <tr>\n",
       "      <th>19</th>\n",
       "      <td>Berry Islands</td>\n",
       "      <td>high</td>\n",
       "      <td>ce_nompa</td>\n",
       "      <td>88</td>\n",
       "      <td>22.00</td>\n",
       "    </tr>\n",
       "    <tr>\n",
       "      <th>24</th>\n",
       "      <td>Bimini</td>\n",
       "      <td>high</td>\n",
       "      <td>ce_allhab</td>\n",
       "      <td>4</td>\n",
       "      <td>1.00</td>\n",
       "    </tr>\n",
       "    <tr>\n",
       "      <th>25</th>\n",
       "      <td>Bimini</td>\n",
       "      <td>high</td>\n",
       "      <td>ce_nompa</td>\n",
       "      <td>4</td>\n",
       "      <td>1.00</td>\n",
       "    </tr>\n",
       "    <tr>\n",
       "      <th>30</th>\n",
       "      <td>Cat Island</td>\n",
       "      <td>high</td>\n",
       "      <td>ce_allhab</td>\n",
       "      <td>37</td>\n",
       "      <td>9.25</td>\n",
       "    </tr>\n",
       "    <tr>\n",
       "      <th>31</th>\n",
       "      <td>Cat Island</td>\n",
       "      <td>high</td>\n",
       "      <td>ce_nompa</td>\n",
       "      <td>37</td>\n",
       "      <td>9.25</td>\n",
       "    </tr>\n",
       "    <tr>\n",
       "      <th>36</th>\n",
       "      <td>Eleuthera</td>\n",
       "      <td>high</td>\n",
       "      <td>ce_allhab</td>\n",
       "      <td>27</td>\n",
       "      <td>6.75</td>\n",
       "    </tr>\n",
       "    <tr>\n",
       "      <th>37</th>\n",
       "      <td>Eleuthera</td>\n",
       "      <td>high</td>\n",
       "      <td>ce_nompa</td>\n",
       "      <td>27</td>\n",
       "      <td>6.75</td>\n",
       "    </tr>\n",
       "    <tr>\n",
       "      <th>42</th>\n",
       "      <td>Exumas</td>\n",
       "      <td>high</td>\n",
       "      <td>ce_allhab</td>\n",
       "      <td>148</td>\n",
       "      <td>37.00</td>\n",
       "    </tr>\n",
       "    <tr>\n",
       "      <th>43</th>\n",
       "      <td>Exumas</td>\n",
       "      <td>high</td>\n",
       "      <td>ce_nompa</td>\n",
       "      <td>396</td>\n",
       "      <td>99.00</td>\n",
       "    </tr>\n",
       "    <tr>\n",
       "      <th>48</th>\n",
       "      <td>Grand Bahama</td>\n",
       "      <td>high</td>\n",
       "      <td>ce_allhab</td>\n",
       "      <td>1415</td>\n",
       "      <td>353.75</td>\n",
       "    </tr>\n",
       "    <tr>\n",
       "      <th>49</th>\n",
       "      <td>Grand Bahama</td>\n",
       "      <td>high</td>\n",
       "      <td>ce_nompa</td>\n",
       "      <td>1853</td>\n",
       "      <td>463.25</td>\n",
       "    </tr>\n",
       "    <tr>\n",
       "      <th>54</th>\n",
       "      <td>Great Inagua</td>\n",
       "      <td>high</td>\n",
       "      <td>ce_allhab</td>\n",
       "      <td>14</td>\n",
       "      <td>3.50</td>\n",
       "    </tr>\n",
       "    <tr>\n",
       "      <th>55</th>\n",
       "      <td>Great Inagua</td>\n",
       "      <td>high</td>\n",
       "      <td>ce_nompa</td>\n",
       "      <td>15</td>\n",
       "      <td>3.75</td>\n",
       "    </tr>\n",
       "    <tr>\n",
       "      <th>60</th>\n",
       "      <td>Little Inagua</td>\n",
       "      <td>high</td>\n",
       "      <td>ce_nompa</td>\n",
       "      <td>47</td>\n",
       "      <td>11.75</td>\n",
       "    </tr>\n",
       "    <tr>\n",
       "      <th>64</th>\n",
       "      <td>Long Island</td>\n",
       "      <td>high</td>\n",
       "      <td>ce_allhab</td>\n",
       "      <td>167</td>\n",
       "      <td>41.75</td>\n",
       "    </tr>\n",
       "    <tr>\n",
       "      <th>65</th>\n",
       "      <td>Long Island</td>\n",
       "      <td>high</td>\n",
       "      <td>ce_nompa</td>\n",
       "      <td>167</td>\n",
       "      <td>41.75</td>\n",
       "    </tr>\n",
       "    <tr>\n",
       "      <th>74</th>\n",
       "      <td>New Providence</td>\n",
       "      <td>high</td>\n",
       "      <td>ce_allhab</td>\n",
       "      <td>39</td>\n",
       "      <td>9.75</td>\n",
       "    </tr>\n",
       "    <tr>\n",
       "      <th>75</th>\n",
       "      <td>New Providence</td>\n",
       "      <td>high</td>\n",
       "      <td>ce_nompa</td>\n",
       "      <td>48</td>\n",
       "      <td>12.00</td>\n",
       "    </tr>\n",
       "    <tr>\n",
       "      <th>80</th>\n",
       "      <td>Ragged Island</td>\n",
       "      <td>high</td>\n",
       "      <td>ce_allhab</td>\n",
       "      <td>2</td>\n",
       "      <td>0.50</td>\n",
       "    </tr>\n",
       "    <tr>\n",
       "      <th>81</th>\n",
       "      <td>Ragged Island</td>\n",
       "      <td>high</td>\n",
       "      <td>ce_nompa</td>\n",
       "      <td>2</td>\n",
       "      <td>0.50</td>\n",
       "    </tr>\n",
       "    <tr>\n",
       "      <th>86</th>\n",
       "      <td>Rum Cay</td>\n",
       "      <td>high</td>\n",
       "      <td>ce_nompa</td>\n",
       "      <td>34</td>\n",
       "      <td>8.50</td>\n",
       "    </tr>\n",
       "    <tr>\n",
       "      <th>91</th>\n",
       "      <td>San Salvador</td>\n",
       "      <td>high</td>\n",
       "      <td>ce_nompa</td>\n",
       "      <td>35</td>\n",
       "      <td>8.75</td>\n",
       "    </tr>\n",
       "  </tbody>\n",
       "</table>\n",
       "</div>"
      ],
      "text/plain": [
       "               Name category   variable  npoints  km_shore\n",
       "0             Abaco     high  ce_allhab     1990    497.50\n",
       "1             Abaco     high   ce_nompa     3091    772.75\n",
       "6   Acklins/Crooked     high  ce_allhab      422    105.50\n",
       "7   Acklins/Crooked     high   ce_nompa      569    142.25\n",
       "12           Andros     high  ce_allhab     1030    257.50\n",
       "13           Andros     high   ce_nompa     2830    707.50\n",
       "18    Berry Islands     high  ce_allhab       29      7.25\n",
       "19    Berry Islands     high   ce_nompa       88     22.00\n",
       "24           Bimini     high  ce_allhab        4      1.00\n",
       "25           Bimini     high   ce_nompa        4      1.00\n",
       "30       Cat Island     high  ce_allhab       37      9.25\n",
       "31       Cat Island     high   ce_nompa       37      9.25\n",
       "36        Eleuthera     high  ce_allhab       27      6.75\n",
       "37        Eleuthera     high   ce_nompa       27      6.75\n",
       "42           Exumas     high  ce_allhab      148     37.00\n",
       "43           Exumas     high   ce_nompa      396     99.00\n",
       "48     Grand Bahama     high  ce_allhab     1415    353.75\n",
       "49     Grand Bahama     high   ce_nompa     1853    463.25\n",
       "54     Great Inagua     high  ce_allhab       14      3.50\n",
       "55     Great Inagua     high   ce_nompa       15      3.75\n",
       "60    Little Inagua     high   ce_nompa       47     11.75\n",
       "64      Long Island     high  ce_allhab      167     41.75\n",
       "65      Long Island     high   ce_nompa      167     41.75\n",
       "74   New Providence     high  ce_allhab       39      9.75\n",
       "75   New Providence     high   ce_nompa       48     12.00\n",
       "80    Ragged Island     high  ce_allhab        2      0.50\n",
       "81    Ragged Island     high   ce_nompa        2      0.50\n",
       "86          Rum Cay     high   ce_nompa       34      8.50\n",
       "91     San Salvador     high   ce_nompa       35      8.75"
      ]
     },
     "execution_count": 260,
     "metadata": {},
     "output_type": "execute_result"
    }
   ],
   "source": [
    "# coastlength.head()\n",
    "coastlength[coastlength.category == 'high']"
   ]
  },
  {
   "cell_type": "code",
   "execution_count": 236,
   "metadata": {
    "collapsed": true
   },
   "outputs": [],
   "source": [
    "coastlength.drop(axis=1, labels='npoints', inplace=True)"
   ]
  },
  {
   "cell_type": "code",
   "execution_count": 250,
   "metadata": {
    "collapsed": true
   },
   "outputs": [],
   "source": [
    "widecoast = coastlength.pivot_table(index=['Name', 'category'], columns='variable', values='km_shore')\n",
    "widecoast.reset_index(inplace=True)"
   ]
  },
  {
   "cell_type": "code",
   "execution_count": 251,
   "metadata": {},
   "outputs": [
    {
     "data": {
      "text/html": [
       "<div>\n",
       "<table border=\"1\" class=\"dataframe\">\n",
       "  <thead>\n",
       "    <tr style=\"text-align: right;\">\n",
       "      <th></th>\n",
       "      <th>variable</th>\n",
       "      <th>ce_allhab</th>\n",
       "      <th>ce_nompa</th>\n",
       "    </tr>\n",
       "    <tr>\n",
       "      <th>Name</th>\n",
       "      <th>category</th>\n",
       "      <th></th>\n",
       "      <th></th>\n",
       "    </tr>\n",
       "  </thead>\n",
       "  <tbody>\n",
       "    <tr>\n",
       "      <th rowspan=\"3\" valign=\"top\">Abaco</th>\n",
       "      <th>high</th>\n",
       "      <td>497.50</td>\n",
       "      <td>772.75</td>\n",
       "    </tr>\n",
       "    <tr>\n",
       "      <th>low</th>\n",
       "      <td>157.75</td>\n",
       "      <td>140.25</td>\n",
       "    </tr>\n",
       "    <tr>\n",
       "      <th>med</th>\n",
       "      <td>699.25</td>\n",
       "      <td>441.50</td>\n",
       "    </tr>\n",
       "    <tr>\n",
       "      <th rowspan=\"2\" valign=\"top\">Acklins/Crooked</th>\n",
       "      <th>high</th>\n",
       "      <td>105.50</td>\n",
       "      <td>142.25</td>\n",
       "    </tr>\n",
       "    <tr>\n",
       "      <th>low</th>\n",
       "      <td>68.75</td>\n",
       "      <td>55.50</td>\n",
       "    </tr>\n",
       "  </tbody>\n",
       "</table>\n",
       "</div>"
      ],
      "text/plain": [
       "variable                  ce_allhab  ce_nompa\n",
       "Name            category                     \n",
       "Abaco           high         497.50    772.75\n",
       "                low          157.75    140.25\n",
       "                med          699.25    441.50\n",
       "Acklins/Crooked high         105.50    142.25\n",
       "                low           68.75     55.50"
      ]
     },
     "execution_count": 251,
     "metadata": {},
     "output_type": "execute_result"
    }
   ],
   "source": [
    "widecoast.head()"
   ]
  },
  {
   "cell_type": "code",
   "execution_count": 252,
   "metadata": {
    "collapsed": true
   },
   "outputs": [],
   "source": [
    "widecoast['diff_km'] = widecoast.ce_nompa - widecoast.ce_allhab"
   ]
  },
  {
   "cell_type": "code",
   "execution_count": 254,
   "metadata": {},
   "outputs": [
    {
     "data": {
      "text/html": [
       "<div>\n",
       "<table border=\"1\" class=\"dataframe\">\n",
       "  <thead>\n",
       "    <tr style=\"text-align: right;\">\n",
       "      <th>variable</th>\n",
       "      <th>Name</th>\n",
       "      <th>category</th>\n",
       "      <th>ce_allhab</th>\n",
       "      <th>ce_nompa</th>\n",
       "      <th>diff_km</th>\n",
       "    </tr>\n",
       "  </thead>\n",
       "  <tbody>\n",
       "    <tr>\n",
       "      <th>0</th>\n",
       "      <td>Abaco</td>\n",
       "      <td>high</td>\n",
       "      <td>497.50</td>\n",
       "      <td>772.75</td>\n",
       "      <td>275.25</td>\n",
       "    </tr>\n",
       "    <tr>\n",
       "      <th>1</th>\n",
       "      <td>Abaco</td>\n",
       "      <td>low</td>\n",
       "      <td>157.75</td>\n",
       "      <td>140.25</td>\n",
       "      <td>-17.50</td>\n",
       "    </tr>\n",
       "    <tr>\n",
       "      <th>2</th>\n",
       "      <td>Abaco</td>\n",
       "      <td>med</td>\n",
       "      <td>699.25</td>\n",
       "      <td>441.50</td>\n",
       "      <td>-257.75</td>\n",
       "    </tr>\n",
       "    <tr>\n",
       "      <th>3</th>\n",
       "      <td>Acklins/Crooked</td>\n",
       "      <td>high</td>\n",
       "      <td>105.50</td>\n",
       "      <td>142.25</td>\n",
       "      <td>36.75</td>\n",
       "    </tr>\n",
       "    <tr>\n",
       "      <th>4</th>\n",
       "      <td>Acklins/Crooked</td>\n",
       "      <td>low</td>\n",
       "      <td>68.75</td>\n",
       "      <td>55.50</td>\n",
       "      <td>-13.25</td>\n",
       "    </tr>\n",
       "  </tbody>\n",
       "</table>\n",
       "</div>"
      ],
      "text/plain": [
       "variable             Name category  ce_allhab  ce_nompa  diff_km\n",
       "0                   Abaco     high     497.50    772.75   275.25\n",
       "1                   Abaco      low     157.75    140.25   -17.50\n",
       "2                   Abaco      med     699.25    441.50  -257.75\n",
       "3         Acklins/Crooked     high     105.50    142.25    36.75\n",
       "4         Acklins/Crooked      low      68.75     55.50   -13.25"
      ]
     },
     "execution_count": 254,
     "metadata": {},
     "output_type": "execute_result"
    }
   ],
   "source": [
    "widecoast.head()"
   ]
  },
  {
   "cell_type": "code",
   "execution_count": 255,
   "metadata": {
    "collapsed": true
   },
   "outputs": [],
   "source": [
    "widecoast.to_csv('../mpa-removeall-habitat/scenario_data/cv_2scenarios_byisland_category_diffkmshore.csv')"
   ]
  },
  {
   "cell_type": "code",
   "execution_count": 37,
   "metadata": {
    "collapsed": true
   },
   "outputs": [],
   "source": [
    "# save a table...or just screenshot the one below\n",
    "# widecoast[['Name', 'category', 'diff_km']].loc[widecoast.category == 'high'].to_html('../figs/cv_shorelength_diff_nompa-allhab_table.html', index=False)"
   ]
  },
  {
   "cell_type": "code",
   "execution_count": 256,
   "metadata": {},
   "outputs": [
    {
     "data": {
      "text/html": [
       "<div>\n",
       "<table border=\"1\" class=\"dataframe\">\n",
       "  <thead>\n",
       "    <tr style=\"text-align: right;\">\n",
       "      <th>variable</th>\n",
       "      <th>Name</th>\n",
       "      <th>category</th>\n",
       "      <th>diff_km</th>\n",
       "    </tr>\n",
       "  </thead>\n",
       "  <tbody>\n",
       "    <tr>\n",
       "      <th>0</th>\n",
       "      <td>Abaco</td>\n",
       "      <td>high</td>\n",
       "      <td>275.25</td>\n",
       "    </tr>\n",
       "    <tr>\n",
       "      <th>3</th>\n",
       "      <td>Acklins/Crooked</td>\n",
       "      <td>high</td>\n",
       "      <td>36.75</td>\n",
       "    </tr>\n",
       "    <tr>\n",
       "      <th>6</th>\n",
       "      <td>Andros</td>\n",
       "      <td>high</td>\n",
       "      <td>450.00</td>\n",
       "    </tr>\n",
       "    <tr>\n",
       "      <th>9</th>\n",
       "      <td>Berry Islands</td>\n",
       "      <td>high</td>\n",
       "      <td>14.75</td>\n",
       "    </tr>\n",
       "    <tr>\n",
       "      <th>12</th>\n",
       "      <td>Bimini</td>\n",
       "      <td>high</td>\n",
       "      <td>0.00</td>\n",
       "    </tr>\n",
       "    <tr>\n",
       "      <th>15</th>\n",
       "      <td>Cat Island</td>\n",
       "      <td>high</td>\n",
       "      <td>0.00</td>\n",
       "    </tr>\n",
       "    <tr>\n",
       "      <th>18</th>\n",
       "      <td>Eleuthera</td>\n",
       "      <td>high</td>\n",
       "      <td>0.00</td>\n",
       "    </tr>\n",
       "    <tr>\n",
       "      <th>21</th>\n",
       "      <td>Exumas</td>\n",
       "      <td>high</td>\n",
       "      <td>62.00</td>\n",
       "    </tr>\n",
       "    <tr>\n",
       "      <th>24</th>\n",
       "      <td>Grand Bahama</td>\n",
       "      <td>high</td>\n",
       "      <td>109.50</td>\n",
       "    </tr>\n",
       "    <tr>\n",
       "      <th>27</th>\n",
       "      <td>Great Inagua</td>\n",
       "      <td>high</td>\n",
       "      <td>0.25</td>\n",
       "    </tr>\n",
       "    <tr>\n",
       "      <th>30</th>\n",
       "      <td>Little Inagua</td>\n",
       "      <td>high</td>\n",
       "      <td>NaN</td>\n",
       "    </tr>\n",
       "    <tr>\n",
       "      <th>33</th>\n",
       "      <td>Long Island</td>\n",
       "      <td>high</td>\n",
       "      <td>0.00</td>\n",
       "    </tr>\n",
       "    <tr>\n",
       "      <th>38</th>\n",
       "      <td>New Providence</td>\n",
       "      <td>high</td>\n",
       "      <td>2.25</td>\n",
       "    </tr>\n",
       "    <tr>\n",
       "      <th>41</th>\n",
       "      <td>Ragged Island</td>\n",
       "      <td>high</td>\n",
       "      <td>0.00</td>\n",
       "    </tr>\n",
       "    <tr>\n",
       "      <th>44</th>\n",
       "      <td>Rum Cay</td>\n",
       "      <td>high</td>\n",
       "      <td>NaN</td>\n",
       "    </tr>\n",
       "    <tr>\n",
       "      <th>47</th>\n",
       "      <td>San Salvador</td>\n",
       "      <td>high</td>\n",
       "      <td>NaN</td>\n",
       "    </tr>\n",
       "  </tbody>\n",
       "</table>\n",
       "</div>"
      ],
      "text/plain": [
       "variable             Name category  diff_km\n",
       "0                   Abaco     high   275.25\n",
       "3         Acklins/Crooked     high    36.75\n",
       "6                  Andros     high   450.00\n",
       "9           Berry Islands     high    14.75\n",
       "12                 Bimini     high     0.00\n",
       "15             Cat Island     high     0.00\n",
       "18              Eleuthera     high     0.00\n",
       "21                 Exumas     high    62.00\n",
       "24           Grand Bahama     high   109.50\n",
       "27           Great Inagua     high     0.25\n",
       "30          Little Inagua     high      NaN\n",
       "33            Long Island     high     0.00\n",
       "38         New Providence     high     2.25\n",
       "41          Ragged Island     high     0.00\n",
       "44                Rum Cay     high      NaN\n",
       "47           San Salvador     high      NaN"
      ]
     },
     "execution_count": 256,
     "metadata": {},
     "output_type": "execute_result"
    }
   ],
   "source": [
    "widecoast[['Name', 'category', 'diff_km']].loc[widecoast.category == 'high']"
   ]
  },
  {
   "cell_type": "code",
   "execution_count": 133,
   "metadata": {},
   "outputs": [
    {
     "data": {
      "image/png": "[encoded data removed]",
      "text/plain": [
       "<matplotlib.figure.Figure at 0x7fa66dc58c10>"
      ]
     },
     "metadata": {},
     "output_type": "display_data"
    }
   ],
   "source": [
    "sns.set_style('ticks')\n",
    "fig, ax = plt.subplots()\n",
    "fig.set_size_inches(8, 8)\n",
    "# cmap = sns.color_palette(['#f44141', '#f4ee41', '#4286f4'])\n",
    "\n",
    "sns.barplot(y='Name', x='diff_km', color='red',\n",
    "#             hue='category', palette=cmap, hue_order=['high', 'med', 'low'], \n",
    "            data=widecoast[['Name', 'category', 'diff_km']].loc[widecoast.category == 'high'])\n",
    "\n",
    "ax.set(xlabel='change in km of shore at high exposure', \n",
    "       ylabel='', xlim=(0, 300))\n",
    "\n",
    "\n",
    "fig.savefig('../figs/cv_shorelength_diff-high_nompa-allhab.png', dpi=150)\n",
    "fig.savefig('../figs/cv_shorelength_diff-high_nompa-allhab.svg)"
   ]
  },
  {
   "cell_type": "code",
   "execution_count": 322,
   "metadata": {
    "collapsed": true
   },
   "outputs": [],
   "source": [
    "# def diff_km_shore(x):\n",
    "#     try:\n",
    "# #         print(len(x['km_shore']))\n",
    "#         km_all = x['km_shore'][:1]\n",
    "#         km_nompa = x['km_shore'][1:2]\n",
    "#         print(km_all)\n",
    "#         print(km_nompa)\n",
    "#         return {x['Name'][:1]:km_all - km_nompa}\n",
    "#     except(KeyError):\n",
    "#         print('keyerr')"
   ]
  },
  {
   "cell_type": "code",
   "execution_count": 22,
   "metadata": {
    "collapsed": true
   },
   "outputs": [],
   "source": [
    "# test = coastlength[coastlength.variable != 'ce_no_habi'].groupby(['Name', 'category']).apply(diff_km_shore)"
   ]
  },
  {
   "cell_type": "markdown",
   "metadata": {},
   "source": [
    "### Metric 2: zonal stats for population metrics  "
   ]
  },
  {
   "cell_type": "code",
   "execution_count": 17,
   "metadata": {
    "collapsed": true
   },
   "outputs": [],
   "source": [
    "scenario_geo = gpd.read_file('../mpa-removeall-habitat/scenario_data/cv_2scenarios_byisland_category.shp')"
   ]
  },
  {
   "cell_type": "code",
   "execution_count": null,
   "metadata": {
    "collapsed": true
   },
   "outputs": [],
   "source": []
  },
  {
   "cell_type": "code",
   "execution_count": null,
   "metadata": {
    "collapsed": true
   },
   "outputs": [],
   "source": []
  },
  {
   "cell_type": "code",
   "execution_count": null,
   "metadata": {
    "collapsed": true
   },
   "outputs": [],
   "source": []
  },
  {
   "cell_type": "markdown",
   "metadata": {},
   "source": [
    "#### now do the zonalstats"
   ]
  },
  {
   "cell_type": "code",
   "execution_count": 19,
   "metadata": {
    "collapsed": true
   },
   "outputs": [],
   "source": [
    "import rasterstats as rs"
   ]
  },
  {
   "cell_type": "code",
   "execution_count": 20,
   "metadata": {
    "collapsed": true
   },
   "outputs": [],
   "source": [
    "island_cats_geo = gpd.read_file('../mpa-removeall-habitat/scenario_data/cv_3scenarios_isl_cat_1kmbuf.shp', )"
   ]
  },
  {
   "cell_type": "code",
   "execution_count": 60,
   "metadata": {
    "collapsed": true
   },
   "outputs": [],
   "source": [
    "def zonal_pop_stats(geodf, raster_path, prefix):\n",
    "    pop_stats = rs.zonal_stats(geodf, raster_path, \n",
    "                           geojson_out=True, prefix=prefix,\n",
    "                          stats=['sum'],\n",
    "                          all_touched=True)\n",
    "    pop_stats_gdf = gpd.GeoDataFrame.from_features(pop_stats)\n",
    "    return pop_stats_gdf"
   ]
  },
  {
   "cell_type": "code",
   "execution_count": 61,
   "metadata": {
    "collapsed": true
   },
   "outputs": [],
   "source": [
    "popdf = zonal_pop_stats(island_cats_geo, '../cv-fromjess/SocialMetrics_GV/pop_int2.tif', 'pop_')\n",
    "more65df = zonal_pop_stats(island_cats_geo, '../cv-fromjess/SocialMetrics_GV/more65.tif', 'more65_')\n",
    "incdf = zonal_pop_stats(island_cats_geo, '../cv-fromjess/SocialMetrics_GV/totinc.tif', 'inc_')"
   ]
  },
  {
   "cell_type": "code",
   "execution_count": null,
   "metadata": {
    "collapsed": true
   },
   "outputs": [],
   "source": [
    "popdf.drop(axis=1, labels='value', inplace=True)"
   ]
  },
  {
   "cell_type": "code",
   "execution_count": 64,
   "metadata": {},
   "outputs": [
    {
     "data": {
      "text/html": [
       "<div>\n",
       "<table border=\"1\" class=\"dataframe\">\n",
       "  <thead>\n",
       "    <tr style=\"text-align: right;\">\n",
       "      <th></th>\n",
       "      <th>Name</th>\n",
       "      <th>category</th>\n",
       "      <th>fid</th>\n",
       "      <th>geometry</th>\n",
       "      <th>inc_sum</th>\n",
       "      <th>value</th>\n",
       "      <th>variable</th>\n",
       "    </tr>\n",
       "  </thead>\n",
       "  <tbody>\n",
       "    <tr>\n",
       "      <th>0</th>\n",
       "      <td>Abaco</td>\n",
       "      <td>high</td>\n",
       "      <td>5</td>\n",
       "      <td>(POLYGON ((481248.659205 2435894.45251, 481243...</td>\n",
       "      <td>13616264.00</td>\n",
       "      <td>2.842598</td>\n",
       "      <td>ce_all_hab</td>\n",
       "    </tr>\n",
       "    <tr>\n",
       "      <th>1</th>\n",
       "      <td>Abaco</td>\n",
       "      <td>high</td>\n",
       "      <td>0</td>\n",
       "      <td>(POLYGON ((622429.8413296185 2395884.63459429,...</td>\n",
       "      <td>82664200.00</td>\n",
       "      <td>3.107233</td>\n",
       "      <td>ce_no_habi</td>\n",
       "    </tr>\n",
       "    <tr>\n",
       "      <th>2</th>\n",
       "      <td>Abaco</td>\n",
       "      <td>high</td>\n",
       "      <td>18</td>\n",
       "      <td>(POLYGON ((622429.8413296185 2395884.63459429,...</td>\n",
       "      <td>14797805.00</td>\n",
       "      <td>2.901948</td>\n",
       "      <td>ce_nompa_h</td>\n",
       "    </tr>\n",
       "    <tr>\n",
       "      <th>3</th>\n",
       "      <td>Abaco</td>\n",
       "      <td>low</td>\n",
       "      <td>398</td>\n",
       "      <td>(POLYGON ((482164.523032 2434808.39993, 482159...</td>\n",
       "      <td>58146688.00</td>\n",
       "      <td>2.169935</td>\n",
       "      <td>ce_all_hab</td>\n",
       "    </tr>\n",
       "    <tr>\n",
       "      <th>4</th>\n",
       "      <td>Abaco</td>\n",
       "      <td>low</td>\n",
       "      <td>5229</td>\n",
       "      <td>(POLYGON ((488498.455355 2578157.45413, 488493...</td>\n",
       "      <td>1061186.75</td>\n",
       "      <td>2.154435</td>\n",
       "      <td>ce_no_habi</td>\n",
       "    </tr>\n",
       "  </tbody>\n",
       "</table>\n",
       "</div>"
      ],
      "text/plain": [
       "    Name category   fid                                           geometry  \\\n",
       "0  Abaco     high     5  (POLYGON ((481248.659205 2435894.45251, 481243...   \n",
       "1  Abaco     high     0  (POLYGON ((622429.8413296185 2395884.63459429,...   \n",
       "2  Abaco     high    18  (POLYGON ((622429.8413296185 2395884.63459429,...   \n",
       "3  Abaco      low   398  (POLYGON ((482164.523032 2434808.39993, 482159...   \n",
       "4  Abaco      low  5229  (POLYGON ((488498.455355 2578157.45413, 488493...   \n",
       "\n",
       "       inc_sum     value    variable  \n",
       "0  13616264.00  2.842598  ce_all_hab  \n",
       "1  82664200.00  3.107233  ce_no_habi  \n",
       "2  14797805.00  2.901948  ce_nompa_h  \n",
       "3  58146688.00  2.169935  ce_all_hab  \n",
       "4   1061186.75  2.154435  ce_no_habi  "
      ]
     },
     "execution_count": 64,
     "metadata": {},
     "output_type": "execute_result"
    }
   ],
   "source": [
    "incdf.head()"
   ]
  },
  {
   "cell_type": "code",
   "execution_count": 67,
   "metadata": {
    "collapsed": true
   },
   "outputs": [],
   "source": [
    "popmetrics = pd.concat([popdf, more65df.more65_sum, incdf.inc_sum], axis=1)"
   ]
  },
  {
   "cell_type": "code",
   "execution_count": 68,
   "metadata": {
    "collapsed": true
   },
   "outputs": [
    {
     "data": {
      "text/html": [
       "<div>\n",
       "<table border=\"1\" class=\"dataframe\">\n",
       "  <thead>\n",
       "    <tr style=\"text-align: right;\">\n",
       "      <th></th>\n",
       "      <th>Name</th>\n",
       "      <th>category</th>\n",
       "      <th>fid</th>\n",
       "      <th>geometry</th>\n",
       "      <th>pop_sum</th>\n",
       "      <th>variable</th>\n",
       "      <th>more65_sum</th>\n",
       "      <th>inc_sum</th>\n",
       "    </tr>\n",
       "  </thead>\n",
       "  <tbody>\n",
       "    <tr>\n",
       "      <th>0</th>\n",
       "      <td>Abaco</td>\n",
       "      <td>high</td>\n",
       "      <td>5</td>\n",
       "      <td>(POLYGON ((481248.659205 2435894.45251, 481243...</td>\n",
       "      <td>1486.0</td>\n",
       "      <td>ce_all_hab</td>\n",
       "      <td>80.380608</td>\n",
       "      <td>13616264.00</td>\n",
       "    </tr>\n",
       "    <tr>\n",
       "      <th>1</th>\n",
       "      <td>Abaco</td>\n",
       "      <td>high</td>\n",
       "      <td>0</td>\n",
       "      <td>(POLYGON ((622429.8413296185 2395884.63459429,...</td>\n",
       "      <td>9020.0</td>\n",
       "      <td>ce_no_habi</td>\n",
       "      <td>498.262451</td>\n",
       "      <td>82664200.00</td>\n",
       "    </tr>\n",
       "    <tr>\n",
       "      <th>2</th>\n",
       "      <td>Abaco</td>\n",
       "      <td>high</td>\n",
       "      <td>18</td>\n",
       "      <td>(POLYGON ((622429.8413296185 2395884.63459429,...</td>\n",
       "      <td>1619.0</td>\n",
       "      <td>ce_nompa_h</td>\n",
       "      <td>88.448120</td>\n",
       "      <td>14797805.00</td>\n",
       "    </tr>\n",
       "    <tr>\n",
       "      <th>3</th>\n",
       "      <td>Abaco</td>\n",
       "      <td>low</td>\n",
       "      <td>398</td>\n",
       "      <td>(POLYGON ((482164.523032 2434808.39993, 482159...</td>\n",
       "      <td>6383.0</td>\n",
       "      <td>ce_all_hab</td>\n",
       "      <td>363.251740</td>\n",
       "      <td>58146688.00</td>\n",
       "    </tr>\n",
       "    <tr>\n",
       "      <th>4</th>\n",
       "      <td>Abaco</td>\n",
       "      <td>low</td>\n",
       "      <td>5229</td>\n",
       "      <td>(POLYGON ((488498.455355 2578157.45413, 488493...</td>\n",
       "      <td>115.0</td>\n",
       "      <td>ce_no_habi</td>\n",
       "      <td>9.353016</td>\n",
       "      <td>1061186.75</td>\n",
       "    </tr>\n",
       "  </tbody>\n",
       "</table>\n",
       "</div>"
      ],
      "text/plain": [
       "    Name category   fid                                           geometry  \\\n",
       "0  Abaco     high     5  (POLYGON ((481248.659205 2435894.45251, 481243...   \n",
       "1  Abaco     high     0  (POLYGON ((622429.8413296185 2395884.63459429,...   \n",
       "2  Abaco     high    18  (POLYGON ((622429.8413296185 2395884.63459429,...   \n",
       "3  Abaco      low   398  (POLYGON ((482164.523032 2434808.39993, 482159...   \n",
       "4  Abaco      low  5229  (POLYGON ((488498.455355 2578157.45413, 488493...   \n",
       "\n",
       "   pop_sum    variable  more65_sum      inc_sum  \n",
       "0   1486.0  ce_all_hab   80.380608  13616264.00  \n",
       "1   9020.0  ce_no_habi  498.262451  82664200.00  \n",
       "2   1619.0  ce_nompa_h   88.448120  14797805.00  \n",
       "3   6383.0  ce_all_hab  363.251740  58146688.00  \n",
       "4    115.0  ce_no_habi    9.353016   1061186.75  "
      ]
     },
     "execution_count": 68,
     "metadata": {},
     "output_type": "execute_result"
    }
   ],
   "source": [
    "popmetrics.head()"
   ]
  },
  {
   "cell_type": "code",
   "execution_count": 45,
   "metadata": {
    "collapsed": true
   },
   "outputs": [],
   "source": [
    "# pop_stats = rs.zonal_stats(island_cats_geo, '../cv-fromjess/SocialMetrics_GV/pop_int2.tif', \n",
    "#                            geojson_out=True, prefix='pop_',\n",
    "#                           stats=['min', 'max', 'mean', 'sum', 'count'],\n",
    "#                           all_touched=True)"
   ]
  },
  {
   "cell_type": "code",
   "execution_count": 46,
   "metadata": {
    "collapsed": true
   },
   "outputs": [],
   "source": [
    "# pop_stats_gdf = gpd.GeoDataFrame.from_features(pop_stats)"
   ]
  },
  {
   "cell_type": "code",
   "execution_count": 69,
   "metadata": {
    "collapsed": true
   },
   "outputs": [],
   "source": [
    "# pop_stats_gdf.head()"
   ]
  },
  {
   "cell_type": "code",
   "execution_count": 92,
   "metadata": {
    "collapsed": true
   },
   "outputs": [],
   "source": [
    "def pivot_and_diff(x, valuestring):\n",
    "    df = x[x.variable != 'ce_no_habi']\n",
    "    wide = df.pivot_table(index=['Name', 'category'], columns='variable', values=valuestring)\n",
    "    diffstr = 'diff' + valuestring\n",
    "    wide[diffstr] = wide.ce_nompa_h - wide.ce_all_hab\n",
    "    per_ch_str = 'per_ch_' + valuestring\n",
    "    wide[per_ch_str] = (wide[diffstr]/wide.ce_all_hab)*100\n",
    "    wide.reset_index(inplace=True)\n",
    "#     print(wide.head())\n",
    "    widehigh = wide[wide.category == 'high']\n",
    "    return widehigh"
   ]
  },
  {
   "cell_type": "code",
   "execution_count": 93,
   "metadata": {
    "collapsed": true
   },
   "outputs": [],
   "source": [
    "widepop = pivot_and_diff(popdf, 'pop_sum')\n",
    "widemore65 = pivot_and_diff(more65df, 'more65_sum')\n",
    "wideinc = pivot_and_diff(incdf, 'inc_sum')"
   ]
  },
  {
   "cell_type": "code",
   "execution_count": 94,
   "metadata": {},
   "outputs": [
    {
     "data": {
      "text/html": [
       "<div>\n",
       "<table border=\"1\" class=\"dataframe\">\n",
       "  <thead>\n",
       "    <tr style=\"text-align: right;\">\n",
       "      <th>variable</th>\n",
       "      <th>Name</th>\n",
       "      <th>category</th>\n",
       "      <th>ce_all_hab</th>\n",
       "      <th>ce_nompa_h</th>\n",
       "      <th>diffpop_sum</th>\n",
       "      <th>per_ch_pop_sum</th>\n",
       "    </tr>\n",
       "  </thead>\n",
       "  <tbody>\n",
       "    <tr>\n",
       "      <th>0</th>\n",
       "      <td>Abaco</td>\n",
       "      <td>high</td>\n",
       "      <td>1486.0</td>\n",
       "      <td>1619.0</td>\n",
       "      <td>133.0</td>\n",
       "      <td>8.950202</td>\n",
       "    </tr>\n",
       "    <tr>\n",
       "      <th>3</th>\n",
       "      <td>Acklins/Crooked</td>\n",
       "      <td>high</td>\n",
       "      <td>42.0</td>\n",
       "      <td>42.0</td>\n",
       "      <td>0.0</td>\n",
       "      <td>0.000000</td>\n",
       "    </tr>\n",
       "    <tr>\n",
       "      <th>6</th>\n",
       "      <td>Andros</td>\n",
       "      <td>high</td>\n",
       "      <td>44.0</td>\n",
       "      <td>62.0</td>\n",
       "      <td>18.0</td>\n",
       "      <td>40.909091</td>\n",
       "    </tr>\n",
       "    <tr>\n",
       "      <th>9</th>\n",
       "      <td>Berry Islands</td>\n",
       "      <td>high</td>\n",
       "      <td>0.0</td>\n",
       "      <td>42.0</td>\n",
       "      <td>42.0</td>\n",
       "      <td>inf</td>\n",
       "    </tr>\n",
       "    <tr>\n",
       "      <th>12</th>\n",
       "      <td>Bimini</td>\n",
       "      <td>high</td>\n",
       "      <td>NaN</td>\n",
       "      <td>NaN</td>\n",
       "      <td>NaN</td>\n",
       "      <td>NaN</td>\n",
       "    </tr>\n",
       "  </tbody>\n",
       "</table>\n",
       "</div>"
      ],
      "text/plain": [
       "variable             Name category  ce_all_hab  ce_nompa_h  diffpop_sum  \\\n",
       "0                   Abaco     high      1486.0      1619.0        133.0   \n",
       "3         Acklins/Crooked     high        42.0        42.0          0.0   \n",
       "6                  Andros     high        44.0        62.0         18.0   \n",
       "9           Berry Islands     high         0.0        42.0         42.0   \n",
       "12                 Bimini     high         NaN         NaN          NaN   \n",
       "\n",
       "variable  per_ch_pop_sum  \n",
       "0               8.950202  \n",
       "3               0.000000  \n",
       "6              40.909091  \n",
       "9                    inf  \n",
       "12                   NaN  "
      ]
     },
     "execution_count": 94,
     "metadata": {},
     "output_type": "execute_result"
    }
   ],
   "source": [
    "widepop.head()"
   ]
  },
  {
   "cell_type": "code",
   "execution_count": 48,
   "metadata": {
    "collapsed": true
   },
   "outputs": [],
   "source": [
    "# widepop = popdf[popdf.variable != 'ce_no_habi'].pivot_table(index=['Name', 'category'], columns='variable', values='pop_sum')"
   ]
  },
  {
   "cell_type": "code",
   "execution_count": 70,
   "metadata": {
    "collapsed": true
   },
   "outputs": [],
   "source": [
    "# widepop = popmetrics[popmetrics.variable != 'ce_no_habi'].pivot_table(index=['Name', 'category'], \n",
    "#                                                                       columns='variable', \n",
    "#                                                                       values=['pop_sum', 'more65_sum', 'inc_sum'])"
   ]
  },
  {
   "cell_type": "code",
   "execution_count": 79,
   "metadata": {
    "collapsed": true
   },
   "outputs": [],
   "source": [
    "# widepop.head()"
   ]
  },
  {
   "cell_type": "code",
   "execution_count": 49,
   "metadata": {
    "collapsed": true
   },
   "outputs": [],
   "source": [
    "# widepop['diff_pop'] = widepop.ce_nompa_h - widepop.ce_all_hab\n",
    "# widepop['perch_pop'] = (widepop.diff_pop/widepop.ce_all_hab)*100"
   ]
  },
  {
   "cell_type": "code",
   "execution_count": 50,
   "metadata": {
    "collapsed": true
   },
   "outputs": [],
   "source": [
    "# widepop.reset_index(inplace=True)"
   ]
  },
  {
   "cell_type": "code",
   "execution_count": 51,
   "metadata": {
    "collapsed": true
   },
   "outputs": [],
   "source": [
    "# widepophigh = widepop[widepop.category == 'high']"
   ]
  },
  {
   "cell_type": "code",
   "execution_count": 100,
   "metadata": {},
   "outputs": [
    {
     "data": {
      "text/html": [
       "<div>\n",
       "<table border=\"1\" class=\"dataframe\">\n",
       "  <thead>\n",
       "    <tr style=\"text-align: right;\">\n",
       "      <th>variable</th>\n",
       "      <th>Name</th>\n",
       "      <th>category</th>\n",
       "      <th>ce_all_hab</th>\n",
       "      <th>ce_nompa_h</th>\n",
       "      <th>diffpop_sum</th>\n",
       "      <th>per_ch_pop_sum</th>\n",
       "    </tr>\n",
       "  </thead>\n",
       "  <tbody>\n",
       "    <tr>\n",
       "      <th>0</th>\n",
       "      <td>Abaco</td>\n",
       "      <td>high</td>\n",
       "      <td>1486.0</td>\n",
       "      <td>1619.0</td>\n",
       "      <td>133.0</td>\n",
       "      <td>8.950202</td>\n",
       "    </tr>\n",
       "    <tr>\n",
       "      <th>3</th>\n",
       "      <td>Acklins/Crooked</td>\n",
       "      <td>high</td>\n",
       "      <td>42.0</td>\n",
       "      <td>42.0</td>\n",
       "      <td>0.0</td>\n",
       "      <td>0.000000</td>\n",
       "    </tr>\n",
       "    <tr>\n",
       "      <th>6</th>\n",
       "      <td>Andros</td>\n",
       "      <td>high</td>\n",
       "      <td>44.0</td>\n",
       "      <td>62.0</td>\n",
       "      <td>18.0</td>\n",
       "      <td>40.909091</td>\n",
       "    </tr>\n",
       "    <tr>\n",
       "      <th>9</th>\n",
       "      <td>Berry Islands</td>\n",
       "      <td>high</td>\n",
       "      <td>0.0</td>\n",
       "      <td>42.0</td>\n",
       "      <td>42.0</td>\n",
       "      <td>inf</td>\n",
       "    </tr>\n",
       "    <tr>\n",
       "      <th>12</th>\n",
       "      <td>Bimini</td>\n",
       "      <td>high</td>\n",
       "      <td>NaN</td>\n",
       "      <td>NaN</td>\n",
       "      <td>NaN</td>\n",
       "      <td>NaN</td>\n",
       "    </tr>\n",
       "    <tr>\n",
       "      <th>15</th>\n",
       "      <td>Cat Island</td>\n",
       "      <td>high</td>\n",
       "      <td>46.0</td>\n",
       "      <td>46.0</td>\n",
       "      <td>0.0</td>\n",
       "      <td>0.000000</td>\n",
       "    </tr>\n",
       "    <tr>\n",
       "      <th>18</th>\n",
       "      <td>Eleuthera</td>\n",
       "      <td>high</td>\n",
       "      <td>64.0</td>\n",
       "      <td>64.0</td>\n",
       "      <td>0.0</td>\n",
       "      <td>0.000000</td>\n",
       "    </tr>\n",
       "    <tr>\n",
       "      <th>21</th>\n",
       "      <td>Exumas</td>\n",
       "      <td>high</td>\n",
       "      <td>375.0</td>\n",
       "      <td>584.0</td>\n",
       "      <td>209.0</td>\n",
       "      <td>55.733333</td>\n",
       "    </tr>\n",
       "    <tr>\n",
       "      <th>24</th>\n",
       "      <td>Grand Bahama</td>\n",
       "      <td>high</td>\n",
       "      <td>1831.0</td>\n",
       "      <td>1999.0</td>\n",
       "      <td>168.0</td>\n",
       "      <td>9.175314</td>\n",
       "    </tr>\n",
       "    <tr>\n",
       "      <th>27</th>\n",
       "      <td>Great Inagua</td>\n",
       "      <td>high</td>\n",
       "      <td>NaN</td>\n",
       "      <td>0.0</td>\n",
       "      <td>NaN</td>\n",
       "      <td>NaN</td>\n",
       "    </tr>\n",
       "    <tr>\n",
       "      <th>32</th>\n",
       "      <td>Long Island</td>\n",
       "      <td>high</td>\n",
       "      <td>59.0</td>\n",
       "      <td>59.0</td>\n",
       "      <td>0.0</td>\n",
       "      <td>0.000000</td>\n",
       "    </tr>\n",
       "    <tr>\n",
       "      <th>37</th>\n",
       "      <td>New Providence</td>\n",
       "      <td>high</td>\n",
       "      <td>7151.0</td>\n",
       "      <td>7151.0</td>\n",
       "      <td>0.0</td>\n",
       "      <td>0.000000</td>\n",
       "    </tr>\n",
       "  </tbody>\n",
       "</table>\n",
       "</div>"
      ],
      "text/plain": [
       "variable             Name category  ce_all_hab  ce_nompa_h  diffpop_sum  \\\n",
       "0                   Abaco     high      1486.0      1619.0        133.0   \n",
       "3         Acklins/Crooked     high        42.0        42.0          0.0   \n",
       "6                  Andros     high        44.0        62.0         18.0   \n",
       "9           Berry Islands     high         0.0        42.0         42.0   \n",
       "12                 Bimini     high         NaN         NaN          NaN   \n",
       "15             Cat Island     high        46.0        46.0          0.0   \n",
       "18              Eleuthera     high        64.0        64.0          0.0   \n",
       "21                 Exumas     high       375.0       584.0        209.0   \n",
       "24           Grand Bahama     high      1831.0      1999.0        168.0   \n",
       "27           Great Inagua     high         NaN         0.0          NaN   \n",
       "32            Long Island     high        59.0        59.0          0.0   \n",
       "37         New Providence     high      7151.0      7151.0          0.0   \n",
       "\n",
       "variable  per_ch_pop_sum  \n",
       "0               8.950202  \n",
       "3               0.000000  \n",
       "6              40.909091  \n",
       "9                    inf  \n",
       "12                   NaN  \n",
       "15              0.000000  \n",
       "18              0.000000  \n",
       "21             55.733333  \n",
       "24              9.175314  \n",
       "27                   NaN  \n",
       "32              0.000000  \n",
       "37              0.000000  "
      ]
     },
     "execution_count": 100,
     "metadata": {},
     "output_type": "execute_result"
    }
   ],
   "source": [
    "widepop"
   ]
  },
  {
   "cell_type": "code",
   "execution_count": 190,
   "metadata": {},
   "outputs": [
    {
     "data": {
      "image/png": "[encoded data removed]",
      "text/plain": [
       "<matplotlib.figure.Figure at 0x7fa66da1d490>"
      ]
     },
     "metadata": {},
     "output_type": "display_data"
    }
   ],
   "source": [
    "sns.set_style('ticks')\n",
    "fig, ax = plt.subplots()\n",
    "fig.set_size_inches(8, 8)\n",
    "# cmap = sns.color_palette(['#f44141', '#f4ee41', '#4286f4'])\n",
    "sns.despine()\n",
    "\n",
    "sns.barplot(y='Name', x='diffpop_sum', color='red',\n",
    "#             hue='category', palette=cmap, hue_order=['high', 'med', 'low'], \n",
    "            data=widepop)\n",
    "\n",
    "ax.set(xlabel='change in population within 1km of high exposure coast', ylabel='')\n",
    "# ,\n",
    "#       xlim=(-300, 300))\n",
    "\n",
    "fig.savefig('../figs/cv_population_diff_nompa-allhab.png', dpi=150)\n",
    "fig.savefig('../figs/cv_population_diff_nompa-allhab.svg)"
   ]
  },
  {
   "cell_type": "code",
   "execution_count": 135,
   "metadata": {},
   "outputs": [
    {
     "data": {
      "image/png": "[encoded data removed]",
      "text/plain": [
       "<matplotlib.figure.Figure at 0x7fa66dc32ed0>"
      ]
     },
     "metadata": {},
     "output_type": "display_data"
    }
   ],
   "source": [
    "sns.set_style('ticks')\n",
    "fig, ax = plt.subplots()\n",
    "fig.set_size_inches(8, 8)\n",
    "cmap = sns.color_palette(['#f44141', '#f4ee41', '#4286f4'])\n",
    "\n",
    "sns.barplot(y='Name', x='diffmore65_sum', color='red',\n",
    "#             hue='category', palette=cmap, hue_order=['high', 'med', 'low'], \n",
    "            data=widemore65)\n",
    "\n",
    "ax.set(xlabel='change in pop (age > 65) within 1km of high exposure coast', ylabel='')\n",
    "# ,\n",
    "#       xlim=(-300, 300))\n",
    "\n",
    "fig.savefig('../figs/cv_popover65_diff_nompa-allhab.png', dpi=150)\n",
    "fig.savefig('../figs/cv_popover65_diff_nompa-allhab.svg', dpi=150)"
   ]
  },
  {
   "cell_type": "code",
   "execution_count": 136,
   "metadata": {},
   "outputs": [
    {
     "data": {
      "image/png": "[encoded data removed]",
      "text/plain": [
       "<matplotlib.figure.Figure at 0x7fa66b3853d0>"
      ]
     },
     "metadata": {},
     "output_type": "display_data"
    }
   ],
   "source": [
    "sns.set_style('ticks')\n",
    "fig, ax = plt.subplots()\n",
    "fig.set_size_inches(8, 8)\n",
    "cmap = sns.color_palette(['#f44141', '#f4ee41', '#4286f4'])\n",
    "\n",
    "sns.barplot(y='Name', x='diffinc_sum', color='red',\n",
    "#             hue='category', palette=cmap, hue_order=['high', 'med', 'low'], \n",
    "            data=wideinc)\n",
    "\n",
    "ax.set(xlabel='change in income within 1km of high exposure coast', ylabel='')\n",
    "# ,\n",
    "#       xlim=(-300, 300))\n",
    "\n",
    "fig.savefig('../figs/cv_income_diff_nompa-allhab.png', dpi=150)\n",
    "fig.savefig('../figs/cv_income_diff_nompa-allhab.svg)"
   ]
  },
  {
   "cell_type": "code",
   "execution_count": null,
   "metadata": {
    "collapsed": true
   },
   "outputs": [],
   "source": []
  },
  {
   "cell_type": "code",
   "execution_count": null,
   "metadata": {
    "collapsed": true
   },
   "outputs": [],
   "source": []
  },
  {
   "cell_type": "code",
   "execution_count": null,
   "metadata": {
    "collapsed": true
   },
   "outputs": [],
   "source": []
  },
  {
   "cell_type": "code",
   "execution_count": null,
   "metadata": {
    "collapsed": true
   },
   "outputs": [],
   "source": []
  },
  {
   "cell_type": "code",
   "execution_count": null,
   "metadata": {
    "collapsed": true
   },
   "outputs": [],
   "source": []
  },
  {
   "cell_type": "code",
   "execution_count": null,
   "metadata": {
    "collapsed": true
   },
   "outputs": [],
   "source": []
  },
  {
   "cell_type": "code",
   "execution_count": null,
   "metadata": {
    "collapsed": true
   },
   "outputs": [],
   "source": []
  },
  {
   "cell_type": "code",
   "execution_count": null,
   "metadata": {
    "collapsed": true
   },
   "outputs": [],
   "source": []
  },
  {
   "cell_type": "code",
   "execution_count": null,
   "metadata": {
    "collapsed": true
   },
   "outputs": [],
   "source": [
    "sns.set_style('ticks')\n",
    "fig, ax = plt.subplots()\n",
    "fig.set_size_inches(8, 8)\n",
    "cmap = sns.color_palette(['#f44141', '#f4ee41', '#4286f4'])\n",
    "\n",
    "sns.barplot(y='Name', x='diff_km', \n",
    "            hue='category', palette=cmap, hue_order=['high', 'med', 'low'], \n",
    "            data=pop_stats_gdf)\n",
    "\n",
    "ax.set(xlabel='change in km of shore', ylabel='',\n",
    "      xlim=(-300, 300))\n",
    "\n",
    "fig.savefig('../figs/cv_shorelength_diff_nompa-allhab.png')\n",
    "fig.savefig('../figs/cv_shorelength_diff_nompa-allhab.svg')"
   ]
  },
  {
   "cell_type": "code",
   "execution_count": null,
   "metadata": {
    "collapsed": true
   },
   "outputs": [],
   "source": [
    "# put island levels on points\n",
    "# put categories on points\n",
    "# slice by island, then by category and\n",
    "# buffer and dissolve points, calc zonal stats on the population rasters\n",
    "# also want km of coastline (aka number of points) in each category, for each island\n"
   ]
  },
  {
   "cell_type": "code",
   "execution_count": 75,
   "metadata": {
    "collapsed": true
   },
   "outputs": [],
   "source": [
    "scenarios.to_csv('../mpa-removeall-habitat/scenario_data/national_cv_3scenarios.csv')"
   ]
  },
  {
   "cell_type": "code",
   "execution_count": 77,
   "metadata": {
    "collapsed": true
   },
   "outputs": [],
   "source": [
    "geo_df = gpd.GeoDataFrame(scenarios, crs=national_shp.crs, geometry=national_shp.geometry)"
   ]
  },
  {
   "cell_type": "code",
   "execution_count": 78,
   "metadata": {
    "collapsed": true
   },
   "outputs": [],
   "source": [
    "geo_df.to_file('../mpa-removeall-habitat/scenario_data/national_cv_3scenarios.shp')"
   ]
  },
  {
   "cell_type": "code",
   "execution_count": 79,
   "metadata": {
    "collapsed": true
   },
   "outputs": [],
   "source": [
    "# put the above code into a function that can work on each habitat,\n",
    "# re-compute the coastal forest score after that\n",
    "# re-compute habitat rank\n",
    "# re-compute exposure index\n",
    "# summarize change in EI by island\n",
    "# summarize change in # of people by island"
   ]
  }
 ],
 "metadata": {
  "kernelspec": {
   "display_name": "Python 3",
   "language": "python",
   "name": "python3"
  },
  "language_info": {
   "codemirror_mode": {
    "name": "ipython",
    "version": 3
   },
   "file_extension": ".py",
   "mimetype": "text/x-python",
   "name": "python",
   "nbconvert_exporter": "python",
   "pygments_lexer": "ipython3",
   "version": "3.7.3"
  }
 },
 "nbformat": 4,
 "nbformat_minor": 1
}
