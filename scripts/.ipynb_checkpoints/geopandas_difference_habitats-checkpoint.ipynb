{
 "cells": [
  {
   "cell_type": "code",
   "execution_count": 1,
   "metadata": {
    "collapsed": true
   },
   "outputs": [],
   "source": [
    "%matplotlib inline\n",
    "import os\n",
    "import geopandas as gpd\n",
    "\n"
   ]
  },
  {
   "cell_type": "code",
   "execution_count": 2,
   "metadata": {},
   "outputs": [],
   "source": [
    "# Original Habitats \n",
    "habitats_dir = '../cv-fromjess/Bahamas_regionalCV_Inputs/Habitats_Final/'\n",
    "habitats = []\n",
    "for f in os.listdir(habitats_dir):\n",
    "    if f.endswith('.shp'):\n",
    "        habitats.append(f)"
   ]
  },
  {
   "cell_type": "code",
   "execution_count": 3,
   "metadata": {},
   "outputs": [],
   "source": [
    "# MPA polygons (with holes filled)\n",
    "# mpadf = gpd.read_file('/home/dmf/bahamas-mpa/gis/mpa/bhs_poli_pa_2017_utm_iucn-edits_holesfilled.shp')"
   ]
  },
  {
   "cell_type": "code",
   "execution_count": null,
   "metadata": {
    "collapsed": true
   },
   "outputs": [],
   "source": [
    "def remove_habitat_from_allmpa(habitat_uri, mpa_uri):\n",
    "    print(habitat_uri)\n",
    "    outfile = os.path.join('../mpa-removeall-habitat', os.path.basename(habitat_uri))\n",
    "    habitatdf = gpd.read_file(habitat_uri)\n",
    "    mpadf = gpd.read_file(mpa_uri)\n",
    "    # drop all attributes of mpa data, except geometry, otherwise they take up space in output\n",
    "    mpadf.drop(labels=[x for x in list(mpadf) if x not in 'geometry'], inplace=True, axis=1)\n",
    "    assert mpadf.crs == habitatdf.crs\n",
    "    CRS = mpadf.crs\n",
    "    print(sum(habitatdf.area))\n",
    "    habitatdf_out = gpd.overlay(habitatdf, mpadf, how=\"difference\")\n",
    "    habitatdf_out.crs = CRS\n",
    "    print(sum(habitatdf_out.area))\n",
    "    habitatdf_out.to_file(filename=outfile, driver='ESRI Shapefile')"
   ]
  },
  {
   "cell_type": "code",
   "execution_count": null,
   "metadata": {},
   "outputs": [
    {
     "name": "stdout",
     "output_type": "stream",
     "text": [
      "../cv-fromjess/Bahamas_regionalCV_Inputs/Habitats_Final/Pine_2.shp\n",
      "1937488359.73\n"
     ]
    }
   ],
   "source": [
    "mpa_uri = '/home/dmf/bahamas-mpa/gis/mpa/bhs_poli_pa_2017_utm_iucn-edits_holesfilled.shp'\n",
    "for h in habitats:\n",
    "    remove_habitat_from_allmpa(os.path.join(habitats_dir, h), mpa_uri)"
   ]
  },
  {
   "cell_type": "code",
   "execution_count": null,
   "metadata": {
    "collapsed": true
   },
   "outputs": [],
   "source": [
    "# polydf = gpd.read_file(os.path.join(habitats_dir, habitats[3]))"
   ]
  },
  {
   "cell_type": "code",
   "execution_count": null,
   "metadata": {},
   "outputs": [],
   "source": [
    "# assert mpadf.crs == polydf.crs\n",
    "# CRS = mpadf.crs"
   ]
  },
  {
   "cell_type": "code",
   "execution_count": null,
   "metadata": {},
   "outputs": [],
   "source": [
    "# list(polydf)"
   ]
  },
  {
   "cell_type": "code",
   "execution_count": null,
   "metadata": {},
   "outputs": [],
   "source": [
    "# print [x for x in list(polydf) if x not in 'geometry']"
   ]
  },
  {
   "cell_type": "code",
   "execution_count": null,
   "metadata": {},
   "outputs": [],
   "source": [
    "# polydf.drop(labels=[x for x in list(polydf) if x not in 'geometry'], inplace=True, axis=1)"
   ]
  },
  {
   "cell_type": "code",
   "execution_count": null,
   "metadata": {},
   "outputs": [],
   "source": [
    "# newdf = gpd.overlay(polydf, mpadf[1:2], how=\"difference\")"
   ]
  },
  {
   "cell_type": "code",
   "execution_count": null,
   "metadata": {},
   "outputs": [],
   "source": [
    "# newdf.to_file(filename='../mpa-removeall-habitat/.shp', driver='ESRI Shapefile')"
   ]
  }
 ],
 "metadata": {
  "kernelspec": {
   "display_name": "Python 3",
   "language": "python",
   "name": "python3"
  },
  "language_info": {
   "codemirror_mode": {
    "name": "ipython",
    "version": 3
   },
   "file_extension": ".py",
   "mimetype": "text/x-python",
   "name": "python",
   "nbconvert_exporter": "python",
   "pygments_lexer": "ipython3",
   "version": "3.7.3"
  }
 },
 "nbformat": 4,
 "nbformat_minor": 1
}
