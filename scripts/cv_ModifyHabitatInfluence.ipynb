{
 "cells": [
  {
   "cell_type": "markdown",
   "metadata": {},
   "source": [
    "This script will start with a baseline CV outputs and apply scenarios of changing habitat distributions by modifying the presence/absence of habitats at specific shore points. Afterward, the overall natural_habitats rank can be re-calculated, and then the coastal_exposure index can be re-calculated. And these habitat scenarios can be summarized by subregions and compared back to the baseline in terms of exposure index or other metrics. "
   ]
  },
  {
   "cell_type": "code",
   "execution_count": 1,
   "metadata": {
    "collapsed": true
   },
   "outputs": [],
   "source": [
    "import pandas as pd\n",
    "import numpy as np\n",
    "import os\n",
    "import geopandas as gpd\n",
    "import natcap.invest.coastal_vulnerability.coastal_vulnerability_core as cv\n",
    "import matplotlib.pyplot as plt\n",
    "import seaborn as sns\n",
    "%matplotlib inline\n",
    "from matplotlib import rcParams\n",
    "rcParams.update({'figure.autolayout': True})\n",
    "\n",
    "sns.set(font_scale=1.3)"
   ]
  },
  {
   "cell_type": "code",
   "execution_count": 1,
   "metadata": {
    "collapsed": true
   },
   "outputs": [],
   "source": [
    "# workspace = '../mpa-removeall-habitat/scenario_data/'"
   ]
  },
  {
   "cell_type": "code",
   "execution_count": 2,
   "metadata": {
    "collapsed": false
   },
   "outputs": [],
   "source": [
    "allhabitats = pd.read_csv('../mpa-removeall-habitat/cv-output-invest3.3.0-intacthabitat/outputs/natural_habitats/natural_habitats.csv')"
   ]
  },
  {
   "cell_type": "code",
   "execution_count": 3,
   "metadata": {
    "collapsed": true
   },
   "outputs": [],
   "source": [
    "mpahabitats = pd.read_csv('../mpa-removeall-habitat/cv-output-invest3.3.0/outputs/natural_habitats/natural_habitats.csv')"
   ]
  },
  {
   "cell_type": "code",
   "execution_count": 4,
   "metadata": {
    "collapsed": true
   },
   "outputs": [],
   "source": [
    "# there are inexplicable null values for copp, pine, mang habitats in this table:\n",
    "# national_shp = gpd.read_file('/home/dmf/bahamas-mpa/cv/cv-fromjess/CV_Bahamas_112316_GV/CV_Bahamas_JMS.shp')\n",
    "# but there are not null values in this version:\n",
    "national_shp = gpd.read_file('/home/dmf/bahamas-mpa/cv/cv-fromjess/CV_Bahamas_snappedPts.shp')"
   ]
  },
  {
   "cell_type": "markdown",
   "metadata": {},
   "source": [
    "### Find and remove habitats from points protected by habitat within MPAs"
   ]
  },
  {
   "cell_type": "code",
   "execution_count": 5,
   "metadata": {
    "collapsed": true
   },
   "outputs": [],
   "source": [
    "# order the habitats to match list(mpahabitats)\n",
    "habitat_shore = national_shp[['x', 'y', 'copp_rank', 'mang_rank',  'sgr_rank01', 'cor_rank01', 'pine_rank']]"
   ]
  },
  {
   "cell_type": "code",
   "execution_count": 6,
   "metadata": {
    "collapsed": true
   },
   "outputs": [],
   "source": [
    "habitat_shore_update = pd.DataFrame()"
   ]
  },
  {
   "cell_type": "code",
   "execution_count": 7,
   "metadata": {
    "collapsed": false
   },
   "outputs": [],
   "source": [
    "def find_remove_habitat(habstring1, habstring2):\n",
    "    habitat_match = allhabitats[habstring1] == mpahabitats[habstring1]\n",
    "    hab_ind = habitat_match[habitat_match == False].index\n",
    "    xydf = mpahabitats[['x', 'y']].iloc[hab_ind]\n",
    "    print('LENGTH hab index', len(hab_ind))\n",
    "    \n",
    "    # need to find points influenced by habitats from these 2 runs\n",
    "    # in the existing national results. \n",
    "    # can match on 'x' and 'y' columns, but they are floats\n",
    "    # best to round them first\n",
    "    xys = zip(xydf['x'].round(3), xydf['y'].round(3))\n",
    "    habitat_shore['x3'] = habitat_shore['x'].round(3)\n",
    "    habitat_shore['y3'] = habitat_shore['y'].round(3)\n",
    "    \n",
    "    print('OLD COUNTS')\n",
    "    print(habitat_shore[habstring2].value_counts())\n",
    "    \n",
    "    def find_points_update_rank(r):\n",
    "    #     print (r['x'], r['y'])\n",
    "        if (r['x3'], r['y3']) in xys:\n",
    "            r[habstring2] = 0\n",
    "        return r\n",
    "    \n",
    "    outdf = habitat_shore.apply(axis=1, func=find_points_update_rank)\n",
    "    \n",
    "    print('NEW COUNTS')\n",
    "    print(outdf[habstring2].value_counts())\n",
    "    \n",
    "#     habitat_shore_update[habstring2] = outdf[habstring2]\n",
    "    \n",
    "    return outdf[habstring2]"
   ]
  },
  {
   "cell_type": "code",
   "execution_count": 8,
   "metadata": {
    "collapsed": false
   },
   "outputs": [
    {
     "name": "stdout",
     "output_type": "stream",
     "text": [
      "('HAB_03_DenseMangroveandCoppice_influence_on_shore', u'copp_rank')\n",
      "('LENGTH hab index', 6218)\n",
      "OLD COUNTS\n",
      "1    22199\n",
      "0     5059\n",
      "Name: copp_rank, dtype: int64\n"
     ]
    },
    {
     "name": "stderr",
     "output_type": "stream",
     "text": [
      "/usr/local/lib/python2.7/dist-packages/ipykernel/__main__.py:12: SettingWithCopyWarning: \n",
      "A value is trying to be set on a copy of a slice from a DataFrame.\n",
      "Try using .loc[row_indexer,col_indexer] = value instead\n",
      "\n",
      "See the caveats in the documentation: http://pandas.pydata.org/pandas-docs/stable/indexing.html#indexing-view-versus-copy\n",
      "/usr/local/lib/python2.7/dist-packages/ipykernel/__main__.py:13: SettingWithCopyWarning: \n",
      "A value is trying to be set on a copy of a slice from a DataFrame.\n",
      "Try using .loc[row_indexer,col_indexer] = value instead\n",
      "\n",
      "See the caveats in the documentation: http://pandas.pydata.org/pandas-docs/stable/indexing.html#indexing-view-versus-copy\n"
     ]
    },
    {
     "name": "stdout",
     "output_type": "stream",
     "text": [
      "NEW COUNTS\n",
      "1.0    16229\n",
      "0.0    11029\n",
      "Name: copp_rank, dtype: int64\n",
      "('HAB_12_SwampSparseMangrove_influence_on_shore', u'mang_rank')\n",
      "('LENGTH hab index', 7402)\n",
      "OLD COUNTS\n",
      "3    16797\n",
      "0     8828\n",
      "1     1633\n",
      "Name: mang_rank, dtype: int64\n",
      "NEW COUNTS\n",
      "0.0    16229\n",
      "3.0    10529\n",
      "1.0      500\n",
      "Name: mang_rank, dtype: int64\n",
      "('HAB_06_Seagrass_influence_on_shore', u'sgr_rank01')\n",
      "('LENGTH hab index', 7218)\n",
      "OLD COUNTS\n",
      "4.0    15512\n",
      "0.0    11746\n",
      "Name: sgr_rank01, dtype: int64\n",
      "NEW COUNTS\n",
      "0.0    18643\n",
      "4.0     8615\n",
      "Name: sgr_rank01, dtype: int64\n",
      "('HAB_15_ShallowCoral_influence_on_shore', u'cor_rank01')\n",
      "('LENGTH hab index', 2466)\n",
      "OLD COUNTS\n",
      "0.0    17583\n",
      "1.0     9675\n",
      "Name: cor_rank01, dtype: int64\n",
      "NEW COUNTS\n",
      "0.0    19406\n",
      "1.0     7852\n",
      "Name: cor_rank01, dtype: int64\n",
      "('HAB_09_Pine_influence_on_shore', u'pine_rank')\n",
      "('LENGTH hab index', 240)\n",
      "OLD COUNTS\n",
      "0    23650\n",
      "2     3608\n",
      "Name: pine_rank, dtype: int64\n",
      "NEW COUNTS\n",
      "0.0    23890\n",
      "2.0     3368\n",
      "Name: pine_rank, dtype: int64\n"
     ]
    }
   ],
   "source": [
    "for h1, h2 in zip(list(mpahabitats)[4:9], list(habitat_shore)[2:7]):\n",
    "    print(h1, h2)\n",
    "    habitat_shore_update[h2] = find_remove_habitat(h1, h2)"
   ]
  },
  {
   "cell_type": "code",
   "execution_count": 9,
   "metadata": {
    "collapsed": false
   },
   "outputs": [
    {
     "data": {
      "text/html": [
       "<div>\n",
       "<table border=\"1\" class=\"dataframe\">\n",
       "  <thead>\n",
       "    <tr style=\"text-align: right;\">\n",
       "      <th></th>\n",
       "      <th>copp_rank</th>\n",
       "      <th>mang_rank</th>\n",
       "      <th>sgr_rank01</th>\n",
       "      <th>cor_rank01</th>\n",
       "      <th>pine_rank</th>\n",
       "    </tr>\n",
       "  </thead>\n",
       "  <tbody>\n",
       "    <tr>\n",
       "      <th>0</th>\n",
       "      <td>1.0</td>\n",
       "      <td>0.0</td>\n",
       "      <td>4.0</td>\n",
       "      <td>0.0</td>\n",
       "      <td>0.0</td>\n",
       "    </tr>\n",
       "    <tr>\n",
       "      <th>1</th>\n",
       "      <td>1.0</td>\n",
       "      <td>0.0</td>\n",
       "      <td>4.0</td>\n",
       "      <td>0.0</td>\n",
       "      <td>0.0</td>\n",
       "    </tr>\n",
       "    <tr>\n",
       "      <th>2</th>\n",
       "      <td>1.0</td>\n",
       "      <td>0.0</td>\n",
       "      <td>4.0</td>\n",
       "      <td>0.0</td>\n",
       "      <td>0.0</td>\n",
       "    </tr>\n",
       "    <tr>\n",
       "      <th>3</th>\n",
       "      <td>1.0</td>\n",
       "      <td>0.0</td>\n",
       "      <td>4.0</td>\n",
       "      <td>0.0</td>\n",
       "      <td>0.0</td>\n",
       "    </tr>\n",
       "    <tr>\n",
       "      <th>4</th>\n",
       "      <td>1.0</td>\n",
       "      <td>0.0</td>\n",
       "      <td>4.0</td>\n",
       "      <td>0.0</td>\n",
       "      <td>0.0</td>\n",
       "    </tr>\n",
       "  </tbody>\n",
       "</table>\n",
       "</div>"
      ],
      "text/plain": [
       "   copp_rank  mang_rank  sgr_rank01  cor_rank01  pine_rank\n",
       "0        1.0        0.0         4.0         0.0        0.0\n",
       "1        1.0        0.0         4.0         0.0        0.0\n",
       "2        1.0        0.0         4.0         0.0        0.0\n",
       "3        1.0        0.0         4.0         0.0        0.0\n",
       "4        1.0        0.0         4.0         0.0        0.0"
      ]
     },
     "execution_count": 9,
     "metadata": {},
     "output_type": "execute_result"
    }
   ],
   "source": [
    "habitat_shore_update.head()"
   ]
  },
  {
   "cell_type": "code",
   "execution_count": 159,
   "metadata": {
    "collapsed": false
   },
   "outputs": [],
   "source": [
    "# sns.distplot(habitat_shore_update['mang_rank'])"
   ]
  },
  {
   "cell_type": "code",
   "execution_count": 131,
   "metadata": {
    "collapsed": false
   },
   "outputs": [
    {
     "name": "stdout",
     "output_type": "stream",
     "text": [
      "6217\n"
     ]
    }
   ],
   "source": [
    "## testing the logic used in the apply() function by counting number of points found in xys\n",
    "## looks like it found them all\n",
    "# i=0\n",
    "# for r in habitat_shore[['x3', 'y3']].itertuples():\n",
    "# #     print((r[1], r[2]))\n",
    "#     if (r[1], r[2]) in xys:\n",
    "#         i += 1\n",
    "#         r[3] = 0\n",
    "# print(i)"
   ]
  },
  {
   "cell_type": "markdown",
   "metadata": {},
   "source": [
    "### re-compute coastal forest score"
   ]
  },
  {
   "cell_type": "code",
   "execution_count": 180,
   "metadata": {
    "collapsed": false
   },
   "outputs": [],
   "source": [
    "# sample_cf = national_shp[['copp_rank', 'mang_rank', 'pine_rank', 'cf_rank01']]"
   ]
  },
  {
   "cell_type": "code",
   "execution_count": 10,
   "metadata": {
    "collapsed": false
   },
   "outputs": [
    {
     "ename": "NameError",
     "evalue": "name 'sample_cf' is not defined",
     "output_type": "error",
     "traceback": [
      "\u001b[1;31m---------------------------------------------------------------------------\u001b[0m",
      "\u001b[1;31mNameError\u001b[0m                                 Traceback (most recent call last)",
      "\u001b[1;32m<ipython-input-10-baea49cb706b>\u001b[0m in \u001b[0;36m<module>\u001b[1;34m()\u001b[0m\n\u001b[1;32m----> 1\u001b[1;33m \u001b[0msample_cf\u001b[0m\u001b[1;33m.\u001b[0m\u001b[0mdrop_duplicates\u001b[0m\u001b[1;33m(\u001b[0m\u001b[1;33m)\u001b[0m\u001b[1;33m\u001b[0m\u001b[0m\n\u001b[0m",
      "\u001b[1;31mNameError\u001b[0m: name 'sample_cf' is not defined"
     ]
    }
   ],
   "source": [
    "sample_cf.drop_duplicates()"
   ]
  },
  {
   "cell_type": "code",
   "execution_count": 11,
   "metadata": {
    "collapsed": true
   },
   "outputs": [],
   "source": [
    "def coastal_forest_rank(x):\n",
    "    if sum(x) == 0:\n",
    "        return 0\n",
    "    else:\n",
    "        return min(x[x>0])"
   ]
  },
  {
   "cell_type": "code",
   "execution_count": 12,
   "metadata": {
    "collapsed": false
   },
   "outputs": [],
   "source": [
    "habitat_shore_update['cf_rank'] = \\\n",
    "habitat_shore_update[['copp_rank', 'mang_rank', 'pine_rank']].apply(axis=1, func=coastal_forest_rank)"
   ]
  },
  {
   "cell_type": "code",
   "execution_count": 13,
   "metadata": {
    "collapsed": false
   },
   "outputs": [
    {
     "data": {
      "text/html": [
       "<div>\n",
       "<table border=\"1\" class=\"dataframe\">\n",
       "  <thead>\n",
       "    <tr style=\"text-align: right;\">\n",
       "      <th></th>\n",
       "      <th>copp_rank</th>\n",
       "      <th>mang_rank</th>\n",
       "      <th>pine_rank</th>\n",
       "      <th>cf_rank</th>\n",
       "    </tr>\n",
       "  </thead>\n",
       "  <tbody>\n",
       "    <tr>\n",
       "      <th>0</th>\n",
       "      <td>1.0</td>\n",
       "      <td>0.0</td>\n",
       "      <td>0.0</td>\n",
       "      <td>1.0</td>\n",
       "    </tr>\n",
       "    <tr>\n",
       "      <th>13</th>\n",
       "      <td>1.0</td>\n",
       "      <td>3.0</td>\n",
       "      <td>0.0</td>\n",
       "      <td>1.0</td>\n",
       "    </tr>\n",
       "    <tr>\n",
       "      <th>63</th>\n",
       "      <td>0.0</td>\n",
       "      <td>3.0</td>\n",
       "      <td>0.0</td>\n",
       "      <td>3.0</td>\n",
       "    </tr>\n",
       "    <tr>\n",
       "      <th>185</th>\n",
       "      <td>1.0</td>\n",
       "      <td>3.0</td>\n",
       "      <td>2.0</td>\n",
       "      <td>1.0</td>\n",
       "    </tr>\n",
       "    <tr>\n",
       "      <th>303</th>\n",
       "      <td>1.0</td>\n",
       "      <td>0.0</td>\n",
       "      <td>2.0</td>\n",
       "      <td>1.0</td>\n",
       "    </tr>\n",
       "    <tr>\n",
       "      <th>440</th>\n",
       "      <td>0.0</td>\n",
       "      <td>0.0</td>\n",
       "      <td>0.0</td>\n",
       "      <td>0.0</td>\n",
       "    </tr>\n",
       "    <tr>\n",
       "      <th>696</th>\n",
       "      <td>0.0</td>\n",
       "      <td>3.0</td>\n",
       "      <td>2.0</td>\n",
       "      <td>2.0</td>\n",
       "    </tr>\n",
       "    <tr>\n",
       "      <th>1021</th>\n",
       "      <td>0.0</td>\n",
       "      <td>1.0</td>\n",
       "      <td>0.0</td>\n",
       "      <td>1.0</td>\n",
       "    </tr>\n",
       "    <tr>\n",
       "      <th>1513</th>\n",
       "      <td>0.0</td>\n",
       "      <td>0.0</td>\n",
       "      <td>2.0</td>\n",
       "      <td>2.0</td>\n",
       "    </tr>\n",
       "    <tr>\n",
       "      <th>10406</th>\n",
       "      <td>1.0</td>\n",
       "      <td>1.0</td>\n",
       "      <td>2.0</td>\n",
       "      <td>1.0</td>\n",
       "    </tr>\n",
       "    <tr>\n",
       "      <th>10411</th>\n",
       "      <td>1.0</td>\n",
       "      <td>1.0</td>\n",
       "      <td>0.0</td>\n",
       "      <td>1.0</td>\n",
       "    </tr>\n",
       "    <tr>\n",
       "      <th>10575</th>\n",
       "      <td>0.0</td>\n",
       "      <td>1.0</td>\n",
       "      <td>2.0</td>\n",
       "      <td>1.0</td>\n",
       "    </tr>\n",
       "  </tbody>\n",
       "</table>\n",
       "</div>"
      ],
      "text/plain": [
       "       copp_rank  mang_rank  pine_rank  cf_rank\n",
       "0            1.0        0.0        0.0      1.0\n",
       "13           1.0        3.0        0.0      1.0\n",
       "63           0.0        3.0        0.0      3.0\n",
       "185          1.0        3.0        2.0      1.0\n",
       "303          1.0        0.0        2.0      1.0\n",
       "440          0.0        0.0        0.0      0.0\n",
       "696          0.0        3.0        2.0      2.0\n",
       "1021         0.0        1.0        0.0      1.0\n",
       "1513         0.0        0.0        2.0      2.0\n",
       "10406        1.0        1.0        2.0      1.0\n",
       "10411        1.0        1.0        0.0      1.0\n",
       "10575        0.0        1.0        2.0      1.0"
      ]
     },
     "execution_count": 13,
     "metadata": {},
     "output_type": "execute_result"
    }
   ],
   "source": [
    "# verify results of coastal_forest rank\n",
    "habitat_shore_update[['copp_rank', 'mang_rank', 'pine_rank', 'cf_rank']].drop_duplicates()"
   ]
  },
  {
   "cell_type": "markdown",
   "metadata": {},
   "source": [
    "### re-compute natural_habitats rank"
   ]
  },
  {
   "cell_type": "code",
   "execution_count": null,
   "metadata": {
    "collapsed": true
   },
   "outputs": [],
   "source": []
  },
  {
   "cell_type": "code",
   "execution_count": 14,
   "metadata": {
    "collapsed": true
   },
   "outputs": [],
   "source": [
    "# re-compute natural habitats rank:\n",
    "def recalc_habindex(x):\n",
    "    if sum(x) == 0:\n",
    "        return 5\n",
    "    else:\n",
    "        x = x[x != 0]\n",
    "        return cv.combined_rank(x)\n"
   ]
  },
  {
   "cell_type": "code",
   "execution_count": 15,
   "metadata": {
    "collapsed": false
   },
   "outputs": [],
   "source": [
    "habitat_shore_update['natural_habitats'] = \\\n",
    "habitat_shore_update[['cf_rank', 'sgr_rank01', 'cor_rank01']].apply(axis=1, func=recalc_habindex)"
   ]
  },
  {
   "cell_type": "code",
   "execution_count": 16,
   "metadata": {
    "collapsed": false
   },
   "outputs": [
    {
     "data": {
      "text/html": [
       "<div>\n",
       "<table border=\"1\" class=\"dataframe\">\n",
       "  <thead>\n",
       "    <tr style=\"text-align: right;\">\n",
       "      <th></th>\n",
       "      <th>copp_rank</th>\n",
       "      <th>mang_rank</th>\n",
       "      <th>sgr_rank01</th>\n",
       "      <th>cor_rank01</th>\n",
       "      <th>pine_rank</th>\n",
       "      <th>cf_rank</th>\n",
       "      <th>natural_habitats</th>\n",
       "    </tr>\n",
       "  </thead>\n",
       "  <tbody>\n",
       "    <tr>\n",
       "      <th>0</th>\n",
       "      <td>1.0</td>\n",
       "      <td>0.0</td>\n",
       "      <td>4.0</td>\n",
       "      <td>0.0</td>\n",
       "      <td>0.0</td>\n",
       "      <td>1.0</td>\n",
       "      <td>1.758619</td>\n",
       "    </tr>\n",
       "    <tr>\n",
       "      <th>1</th>\n",
       "      <td>1.0</td>\n",
       "      <td>0.0</td>\n",
       "      <td>4.0</td>\n",
       "      <td>0.0</td>\n",
       "      <td>0.0</td>\n",
       "      <td>1.0</td>\n",
       "      <td>1.758619</td>\n",
       "    </tr>\n",
       "    <tr>\n",
       "      <th>2</th>\n",
       "      <td>1.0</td>\n",
       "      <td>0.0</td>\n",
       "      <td>4.0</td>\n",
       "      <td>0.0</td>\n",
       "      <td>0.0</td>\n",
       "      <td>1.0</td>\n",
       "      <td>1.758619</td>\n",
       "    </tr>\n",
       "    <tr>\n",
       "      <th>3</th>\n",
       "      <td>1.0</td>\n",
       "      <td>0.0</td>\n",
       "      <td>4.0</td>\n",
       "      <td>0.0</td>\n",
       "      <td>0.0</td>\n",
       "      <td>1.0</td>\n",
       "      <td>1.758619</td>\n",
       "    </tr>\n",
       "    <tr>\n",
       "      <th>4</th>\n",
       "      <td>1.0</td>\n",
       "      <td>0.0</td>\n",
       "      <td>4.0</td>\n",
       "      <td>0.0</td>\n",
       "      <td>0.0</td>\n",
       "      <td>1.0</td>\n",
       "      <td>1.758619</td>\n",
       "    </tr>\n",
       "  </tbody>\n",
       "</table>\n",
       "</div>"
      ],
      "text/plain": [
       "   copp_rank  mang_rank  sgr_rank01  cor_rank01  pine_rank  cf_rank  \\\n",
       "0        1.0        0.0         4.0         0.0        0.0      1.0   \n",
       "1        1.0        0.0         4.0         0.0        0.0      1.0   \n",
       "2        1.0        0.0         4.0         0.0        0.0      1.0   \n",
       "3        1.0        0.0         4.0         0.0        0.0      1.0   \n",
       "4        1.0        0.0         4.0         0.0        0.0      1.0   \n",
       "\n",
       "   natural_habitats  \n",
       "0          1.758619  \n",
       "1          1.758619  \n",
       "2          1.758619  \n",
       "3          1.758619  \n",
       "4          1.758619  "
      ]
     },
     "execution_count": 16,
     "metadata": {},
     "output_type": "execute_result"
    }
   ],
   "source": [
    "habitat_shore_update.head()"
   ]
  },
  {
   "cell_type": "code",
   "execution_count": 17,
   "metadata": {
    "collapsed": false
   },
   "outputs": [
    {
     "data": {
      "text/plain": [
       "<matplotlib.axes.AxesSubplot at 0x7f2c24e2a650>"
      ]
     },
     "execution_count": 17,
     "metadata": {},
     "output_type": "execute_result"
    },
    {
     "name": "stderr",
     "output_type": "stream",
     "text": [
      "/usr/lib/pymodules/python2.7/matplotlib/figure.py:1595: UserWarning: This figure includes Axes that are not compatible with tight_layout, so its results might be incorrect.\n",
      "  warnings.warn(\"This figure includes Axes that are not \"\n"
     ]
    },
    {
     "data": {
      "image/png": "[encoded data removed]",
      "text/plain": [
       "<matplotlib.figure.Figure at 0x7f2c1f251850>"
      ]
     },
     "metadata": {},
     "output_type": "display_data"
    }
   ],
   "source": [
    "sns.distplot(habitat_shore_update['natural_habitats'])"
   ]
  },
  {
   "cell_type": "code",
   "execution_count": 19,
   "metadata": {
    "collapsed": false
   },
   "outputs": [],
   "source": [
    "habitat_shore_update[['x', 'y']] = habitat_shore[['x', 'y']]"
   ]
  },
  {
   "cell_type": "code",
   "execution_count": 20,
   "metadata": {
    "collapsed": false
   },
   "outputs": [
    {
     "data": {
      "text/html": [
       "<div>\n",
       "<table border=\"1\" class=\"dataframe\">\n",
       "  <thead>\n",
       "    <tr style=\"text-align: right;\">\n",
       "      <th></th>\n",
       "      <th>copp_rank</th>\n",
       "      <th>mang_rank</th>\n",
       "      <th>sgr_rank01</th>\n",
       "      <th>cor_rank01</th>\n",
       "      <th>pine_rank</th>\n",
       "      <th>cf_rank</th>\n",
       "      <th>natural_habitats</th>\n",
       "      <th>x</th>\n",
       "      <th>y</th>\n",
       "    </tr>\n",
       "  </thead>\n",
       "  <tbody>\n",
       "    <tr>\n",
       "      <th>0</th>\n",
       "      <td>1.0</td>\n",
       "      <td>0.0</td>\n",
       "      <td>4.0</td>\n",
       "      <td>0.0</td>\n",
       "      <td>0.0</td>\n",
       "      <td>1.0</td>\n",
       "      <td>1.758619</td>\n",
       "      <td>162996.410662</td>\n",
       "      <td>3.019659e+06</td>\n",
       "    </tr>\n",
       "    <tr>\n",
       "      <th>1</th>\n",
       "      <td>1.0</td>\n",
       "      <td>0.0</td>\n",
       "      <td>4.0</td>\n",
       "      <td>0.0</td>\n",
       "      <td>0.0</td>\n",
       "      <td>1.0</td>\n",
       "      <td>1.758619</td>\n",
       "      <td>162746.410662</td>\n",
       "      <td>3.019409e+06</td>\n",
       "    </tr>\n",
       "    <tr>\n",
       "      <th>2</th>\n",
       "      <td>1.0</td>\n",
       "      <td>0.0</td>\n",
       "      <td>4.0</td>\n",
       "      <td>0.0</td>\n",
       "      <td>0.0</td>\n",
       "      <td>1.0</td>\n",
       "      <td>1.758619</td>\n",
       "      <td>163246.410662</td>\n",
       "      <td>3.019409e+06</td>\n",
       "    </tr>\n",
       "    <tr>\n",
       "      <th>3</th>\n",
       "      <td>1.0</td>\n",
       "      <td>0.0</td>\n",
       "      <td>4.0</td>\n",
       "      <td>0.0</td>\n",
       "      <td>0.0</td>\n",
       "      <td>1.0</td>\n",
       "      <td>1.758619</td>\n",
       "      <td>163496.410662</td>\n",
       "      <td>3.019409e+06</td>\n",
       "    </tr>\n",
       "    <tr>\n",
       "      <th>4</th>\n",
       "      <td>1.0</td>\n",
       "      <td>0.0</td>\n",
       "      <td>4.0</td>\n",
       "      <td>0.0</td>\n",
       "      <td>0.0</td>\n",
       "      <td>1.0</td>\n",
       "      <td>1.758619</td>\n",
       "      <td>162746.410662</td>\n",
       "      <td>3.019159e+06</td>\n",
       "    </tr>\n",
       "  </tbody>\n",
       "</table>\n",
       "</div>"
      ],
      "text/plain": [
       "   copp_rank  mang_rank  sgr_rank01  cor_rank01  pine_rank  cf_rank  \\\n",
       "0        1.0        0.0         4.0         0.0        0.0      1.0   \n",
       "1        1.0        0.0         4.0         0.0        0.0      1.0   \n",
       "2        1.0        0.0         4.0         0.0        0.0      1.0   \n",
       "3        1.0        0.0         4.0         0.0        0.0      1.0   \n",
       "4        1.0        0.0         4.0         0.0        0.0      1.0   \n",
       "\n",
       "   natural_habitats              x             y  \n",
       "0          1.758619  162996.410662  3.019659e+06  \n",
       "1          1.758619  162746.410662  3.019409e+06  \n",
       "2          1.758619  163246.410662  3.019409e+06  \n",
       "3          1.758619  163496.410662  3.019409e+06  \n",
       "4          1.758619  162746.410662  3.019159e+06  "
      ]
     },
     "execution_count": 20,
     "metadata": {},
     "output_type": "execute_result"
    }
   ],
   "source": [
    "habitat_shore_update.head()"
   ]
  },
  {
   "cell_type": "code",
   "execution_count": 21,
   "metadata": {
    "collapsed": false
   },
   "outputs": [],
   "source": [
    "habitat_shore_update.to_csv('../mpa-removeall-habitat/scenario_data/mpa-nohabitat-habitatranks.csv', index=False)"
   ]
  },
  {
   "cell_type": "markdown",
   "metadata": {},
   "source": [
    "### re-compute coastal forest and natural_habitats rank for national results \n",
    "(since there was bug in coastal forest rank)"
   ]
  },
  {
   "cell_type": "code",
   "execution_count": 32,
   "metadata": {
    "collapsed": true
   },
   "outputs": [],
   "source": [
    "national_shp = gpd.read_file('/home/dmf/bahamas-mpa/cv/cv-fromjess/CV_Bahamas_snappedPts.shp')"
   ]
  },
  {
   "cell_type": "code",
   "execution_count": 6,
   "metadata": {
    "collapsed": false
   },
   "outputs": [],
   "source": [
    "national_foresthabs = national_shp[['copp_rank', 'mang_rank', 'pine_rank']]"
   ]
  },
  {
   "cell_type": "code",
   "execution_count": 7,
   "metadata": {
    "collapsed": false
   },
   "outputs": [
    {
     "name": "stderr",
     "output_type": "stream",
     "text": [
      "/usr/local/lib/python2.7/dist-packages/ipykernel/__main__.py:1: SettingWithCopyWarning: \n",
      "A value is trying to be set on a copy of a slice from a DataFrame.\n",
      "Try using .loc[row_indexer,col_indexer] = value instead\n",
      "\n",
      "See the caveats in the documentation: http://pandas.pydata.org/pandas-docs/stable/indexing.html#indexing-view-versus-copy\n",
      "  if __name__ == '__main__':\n"
     ]
    }
   ],
   "source": [
    "national_foresthabs['cf_rank'] = \\\n",
    "national_foresthabs.apply(axis=1, func=coastal_forest_rank)"
   ]
  },
  {
   "cell_type": "code",
   "execution_count": 8,
   "metadata": {
    "collapsed": false
   },
   "outputs": [
    {
     "data": {
      "text/plain": [
       "<matplotlib.axes.AxesSubplot at 0x7f0928312250>"
      ]
     },
     "execution_count": 8,
     "metadata": {},
     "output_type": "execute_result"
    },
    {
     "data": {
      "image/png": "[encoded data removed]",
      "text/plain": [
       "<matplotlib.figure.Figure at 0x7f0920d02b10>"
      ]
     },
     "metadata": {},
     "output_type": "display_data"
    }
   ],
   "source": [
    "sns.distplot(national_foresthabs['cf_rank'])"
   ]
  },
  {
   "cell_type": "code",
   "execution_count": 11,
   "metadata": {
    "collapsed": false
   },
   "outputs": [
    {
     "data": {
      "text/html": [
       "<div>\n",
       "<table border=\"1\" class=\"dataframe\">\n",
       "  <thead>\n",
       "    <tr style=\"text-align: right;\">\n",
       "      <th></th>\n",
       "      <th>copp_rank</th>\n",
       "      <th>mang_rank</th>\n",
       "      <th>pine_rank</th>\n",
       "      <th>cf_rank</th>\n",
       "    </tr>\n",
       "  </thead>\n",
       "  <tbody>\n",
       "    <tr>\n",
       "      <th>0</th>\n",
       "      <td>1</td>\n",
       "      <td>0</td>\n",
       "      <td>0</td>\n",
       "      <td>1</td>\n",
       "    </tr>\n",
       "    <tr>\n",
       "      <th>13</th>\n",
       "      <td>1</td>\n",
       "      <td>3</td>\n",
       "      <td>0</td>\n",
       "      <td>1</td>\n",
       "    </tr>\n",
       "    <tr>\n",
       "      <th>63</th>\n",
       "      <td>0</td>\n",
       "      <td>3</td>\n",
       "      <td>0</td>\n",
       "      <td>3</td>\n",
       "    </tr>\n",
       "    <tr>\n",
       "      <th>185</th>\n",
       "      <td>1</td>\n",
       "      <td>3</td>\n",
       "      <td>2</td>\n",
       "      <td>1</td>\n",
       "    </tr>\n",
       "    <tr>\n",
       "      <th>303</th>\n",
       "      <td>1</td>\n",
       "      <td>0</td>\n",
       "      <td>2</td>\n",
       "      <td>1</td>\n",
       "    </tr>\n",
       "    <tr>\n",
       "      <th>440</th>\n",
       "      <td>0</td>\n",
       "      <td>0</td>\n",
       "      <td>0</td>\n",
       "      <td>0</td>\n",
       "    </tr>\n",
       "    <tr>\n",
       "      <th>696</th>\n",
       "      <td>0</td>\n",
       "      <td>3</td>\n",
       "      <td>2</td>\n",
       "      <td>2</td>\n",
       "    </tr>\n",
       "    <tr>\n",
       "      <th>1021</th>\n",
       "      <td>0</td>\n",
       "      <td>1</td>\n",
       "      <td>0</td>\n",
       "      <td>1</td>\n",
       "    </tr>\n",
       "    <tr>\n",
       "      <th>1945</th>\n",
       "      <td>1</td>\n",
       "      <td>1</td>\n",
       "      <td>0</td>\n",
       "      <td>1</td>\n",
       "    </tr>\n",
       "    <tr>\n",
       "      <th>3563</th>\n",
       "      <td>0</td>\n",
       "      <td>0</td>\n",
       "      <td>2</td>\n",
       "      <td>2</td>\n",
       "    </tr>\n",
       "    <tr>\n",
       "      <th>10406</th>\n",
       "      <td>1</td>\n",
       "      <td>1</td>\n",
       "      <td>2</td>\n",
       "      <td>1</td>\n",
       "    </tr>\n",
       "    <tr>\n",
       "      <th>11400</th>\n",
       "      <td>0</td>\n",
       "      <td>1</td>\n",
       "      <td>2</td>\n",
       "      <td>1</td>\n",
       "    </tr>\n",
       "  </tbody>\n",
       "</table>\n",
       "</div>"
      ],
      "text/plain": [
       "       copp_rank  mang_rank  pine_rank  cf_rank\n",
       "0              1          0          0        1\n",
       "13             1          3          0        1\n",
       "63             0          3          0        3\n",
       "185            1          3          2        1\n",
       "303            1          0          2        1\n",
       "440            0          0          0        0\n",
       "696            0          3          2        2\n",
       "1021           0          1          0        1\n",
       "1945           1          1          0        1\n",
       "3563           0          0          2        2\n",
       "10406          1          1          2        1\n",
       "11400          0          1          2        1"
      ]
     },
     "execution_count": 11,
     "metadata": {},
     "output_type": "execute_result"
    }
   ],
   "source": [
    "national_foresthabs.drop_duplicates()"
   ]
  },
  {
   "cell_type": "code",
   "execution_count": 33,
   "metadata": {
    "collapsed": true
   },
   "outputs": [],
   "source": [
    "# replace the cf_rank variable in the national dataset:\n",
    "national_shp['cf_rank01'] = national_foresthabs['cf_rank']"
   ]
  },
  {
   "cell_type": "code",
   "execution_count": 34,
   "metadata": {
    "collapsed": true
   },
   "outputs": [],
   "source": [
    "# re-compute natural habitats rank with the new cf_rank:\n",
    "national_shp['natural_habitats'] = \\\n",
    "national_shp[['cf_rank01', 'sgr_rank01', 'cor_rank01']].apply(axis=1, func=recalc_habindex)"
   ]
  },
  {
   "cell_type": "code",
   "execution_count": 39,
   "metadata": {
    "collapsed": true
   },
   "outputs": [],
   "source": [
    "# and make a habitat rank that represents no habitats (all 5s)\n",
    "national_shp['no_natural_habitats'] = 5"
   ]
  },
  {
   "cell_type": "code",
   "execution_count": 17,
   "metadata": {
    "collapsed": false
   },
   "outputs": [
    {
     "data": {
      "text/plain": [
       "<seaborn.axisgrid.JointGrid at 0x7f09236d8810>"
      ]
     },
     "execution_count": 17,
     "metadata": {},
     "output_type": "execute_result"
    },
    {
     "data": {
      "image/png": "[encoded data removed]",
      "text/plain": [
       "<matplotlib.figure.Figure at 0x7f09236d8850>"
      ]
     },
     "metadata": {},
     "output_type": "display_data"
    }
   ],
   "source": [
    "# compare to the old hab_rank, just for qualitative check\n",
    "sns.jointplot(x='hab_rank', y='natural_habitats', data=national_shp, alpha=0.3, color='orange')"
   ]
  },
  {
   "cell_type": "markdown",
   "metadata": {},
   "source": [
    "### re-compute exposure index using the new habitat rank, for national results"
   ]
  },
  {
   "cell_type": "code",
   "execution_count": 35,
   "metadata": {
    "collapsed": false
   },
   "outputs": [],
   "source": [
    "# first dropping the old hab_rank:\n",
    "national_shp.drop(axis=1, labels='hab_rank', inplace=True)"
   ]
  },
  {
   "cell_type": "code",
   "execution_count": 57,
   "metadata": {
    "collapsed": false
   },
   "outputs": [],
   "source": [
    "# specify variables to include in the exposure index\n",
    "# these vars were verified to reproduce the 'ei1_chs1' exposure index\n",
    "# indexvars = ['geomorph', 'elev_01', 'hab_rank', 'wexp_01', 'surge', 'slr_01']\n",
    "# just swapping in the new natural_habitats rank\n",
    "basevars = ['geomorph', 'elev_01', 'wexp_01', 'surge', 'slr_01']\n",
    "indexvars = basevars + ['natural_habitats']"
   ]
  },
  {
   "cell_type": "code",
   "execution_count": 59,
   "metadata": {
    "collapsed": false
   },
   "outputs": [
    {
     "name": "stdout",
     "output_type": "stream",
     "text": [
      "['geomorph', 'elev_01', 'wexp_01', 'surge', 'slr_01', 'natural_habitats']\n"
     ]
    }
   ],
   "source": [
    "print(indexvars)"
   ]
  },
  {
   "cell_type": "code",
   "execution_count": 22,
   "metadata": {
    "collapsed": true
   },
   "outputs": [],
   "source": [
    "# equation taken from\n",
    "# natcap.invest.coastal_vulnerability_core.coastal_exposure_index()\n",
    "def recalculate_exposure(indexvars, data):\n",
    "    exposure = data[indexvars].apply(axis=1, func=lambda x: np.power(np.prod(x), 1./(x.size)))\n",
    "    return exposure"
   ]
  },
  {
   "cell_type": "code",
   "execution_count": 37,
   "metadata": {
    "collapsed": false
   },
   "outputs": [],
   "source": [
    "national_shp['coast_exp'] = recalculate_exposure(indexvars, national_shp)"
   ]
  },
  {
   "cell_type": "code",
   "execution_count": 40,
   "metadata": {
    "collapsed": true
   },
   "outputs": [],
   "source": [
    "indexvars = basevars + ['no_natural_habitats']\n",
    "national_shp['coast_exp_nohabs'] = recalculate_exposure(indexvars, national_shp)"
   ]
  },
  {
   "cell_type": "code",
   "execution_count": 38,
   "metadata": {
    "collapsed": false
   },
   "outputs": [
    {
     "data": {
      "text/plain": [
       "<seaborn.axisgrid.JointGrid at 0x7f0924b13150>"
      ]
     },
     "execution_count": 38,
     "metadata": {},
     "output_type": "execute_result"
    },
    {
     "data": {
      "image/png": "[encoded data removed]",
      "text/plain": [
       "<matplotlib.figure.Figure at 0x7f0924b13290>"
      ]
     },
     "metadata": {},
     "output_type": "display_data"
    }
   ],
   "source": [
    "# comparing new exposure index to the original result(which had a bug in the coastal_forest rank)\n",
    "sns.jointplot(x='coast_exp', y='ei1_chs1', data=national_shp, alpha=0.3, color='orange')"
   ]
  },
  {
   "cell_type": "code",
   "execution_count": null,
   "metadata": {
    "collapsed": true
   },
   "outputs": [],
   "source": [
    "# view distributions of exposure for 1) 'with all' 2) 'without all'  and 3) 'without mpa' habitats"
   ]
  },
  {
   "cell_type": "code",
   "execution_count": 41,
   "metadata": {
    "collapsed": true
   },
   "outputs": [],
   "source": [
    "# attach scenario habitat data to national results and compute coastal exposure indices\n",
    "mpa_habitat_ranks = pd.read_csv('../mpa-removeall-habitat/scenario_data/mpa-nohabitat-habitatranks.csv')"
   ]
  },
  {
   "cell_type": "code",
   "execution_count": 42,
   "metadata": {
    "collapsed": false
   },
   "outputs": [
    {
     "data": {
      "text/html": [
       "<div>\n",
       "<table border=\"1\" class=\"dataframe\">\n",
       "  <thead>\n",
       "    <tr style=\"text-align: right;\">\n",
       "      <th></th>\n",
       "      <th>copp_rank</th>\n",
       "      <th>mang_rank</th>\n",
       "      <th>sgr_rank01</th>\n",
       "      <th>cor_rank01</th>\n",
       "      <th>pine_rank</th>\n",
       "      <th>cf_rank</th>\n",
       "      <th>natural_habitats</th>\n",
       "    </tr>\n",
       "  </thead>\n",
       "  <tbody>\n",
       "    <tr>\n",
       "      <th>0</th>\n",
       "      <td>1.0</td>\n",
       "      <td>0.0</td>\n",
       "      <td>4.0</td>\n",
       "      <td>0.0</td>\n",
       "      <td>0.0</td>\n",
       "      <td>1.0</td>\n",
       "      <td>1.758619</td>\n",
       "    </tr>\n",
       "    <tr>\n",
       "      <th>1</th>\n",
       "      <td>1.0</td>\n",
       "      <td>0.0</td>\n",
       "      <td>4.0</td>\n",
       "      <td>0.0</td>\n",
       "      <td>0.0</td>\n",
       "      <td>1.0</td>\n",
       "      <td>1.758619</td>\n",
       "    </tr>\n",
       "    <tr>\n",
       "      <th>2</th>\n",
       "      <td>1.0</td>\n",
       "      <td>0.0</td>\n",
       "      <td>4.0</td>\n",
       "      <td>0.0</td>\n",
       "      <td>0.0</td>\n",
       "      <td>1.0</td>\n",
       "      <td>1.758619</td>\n",
       "    </tr>\n",
       "    <tr>\n",
       "      <th>3</th>\n",
       "      <td>1.0</td>\n",
       "      <td>0.0</td>\n",
       "      <td>4.0</td>\n",
       "      <td>0.0</td>\n",
       "      <td>0.0</td>\n",
       "      <td>1.0</td>\n",
       "      <td>1.758619</td>\n",
       "    </tr>\n",
       "    <tr>\n",
       "      <th>4</th>\n",
       "      <td>1.0</td>\n",
       "      <td>0.0</td>\n",
       "      <td>4.0</td>\n",
       "      <td>0.0</td>\n",
       "      <td>0.0</td>\n",
       "      <td>1.0</td>\n",
       "      <td>1.758619</td>\n",
       "    </tr>\n",
       "  </tbody>\n",
       "</table>\n",
       "</div>"
      ],
      "text/plain": [
       "   copp_rank  mang_rank  sgr_rank01  cor_rank01  pine_rank  cf_rank  \\\n",
       "0        1.0        0.0         4.0         0.0        0.0      1.0   \n",
       "1        1.0        0.0         4.0         0.0        0.0      1.0   \n",
       "2        1.0        0.0         4.0         0.0        0.0      1.0   \n",
       "3        1.0        0.0         4.0         0.0        0.0      1.0   \n",
       "4        1.0        0.0         4.0         0.0        0.0      1.0   \n",
       "\n",
       "   natural_habitats  \n",
       "0          1.758619  \n",
       "1          1.758619  \n",
       "2          1.758619  \n",
       "3          1.758619  \n",
       "4          1.758619  "
      ]
     },
     "execution_count": 42,
     "metadata": {},
     "output_type": "execute_result"
    }
   ],
   "source": [
    "mpa_habitat_ranks.head()"
   ]
  },
  {
   "cell_type": "code",
   "execution_count": 60,
   "metadata": {
    "collapsed": true
   },
   "outputs": [],
   "source": [
    "national = national_shp[basevars]"
   ]
  },
  {
   "cell_type": "code",
   "execution_count": 61,
   "metadata": {
    "collapsed": false
   },
   "outputs": [
    {
     "name": "stderr",
     "output_type": "stream",
     "text": [
      "/usr/local/lib/python2.7/dist-packages/ipykernel/__main__.py:1: SettingWithCopyWarning: \n",
      "A value is trying to be set on a copy of a slice from a DataFrame.\n",
      "Try using .loc[row_indexer,col_indexer] = value instead\n",
      "\n",
      "See the caveats in the documentation: http://pandas.pydata.org/pandas-docs/stable/indexing.html#indexing-view-versus-copy\n",
      "  if __name__ == '__main__':\n"
     ]
    }
   ],
   "source": [
    "national['mpa_hab_rank'] = mpa_habitat_ranks['natural_habitats']"
   ]
  },
  {
   "cell_type": "code",
   "execution_count": 62,
   "metadata": {
    "collapsed": false
   },
   "outputs": [
    {
     "data": {
      "text/plain": [
       "[u'geomorph', u'elev_01', u'wexp_01', u'surge', u'slr_01', 'mpa_hab_rank']"
      ]
     },
     "execution_count": 62,
     "metadata": {},
     "output_type": "execute_result"
    }
   ],
   "source": [
    "list(national)"
   ]
  },
  {
   "cell_type": "code",
   "execution_count": 64,
   "metadata": {
    "collapsed": false
   },
   "outputs": [
    {
     "name": "stderr",
     "output_type": "stream",
     "text": [
      "/usr/local/lib/python2.7/dist-packages/ipykernel/__main__.py:2: SettingWithCopyWarning: \n",
      "A value is trying to be set on a copy of a slice from a DataFrame.\n",
      "Try using .loc[row_indexer,col_indexer] = value instead\n",
      "\n",
      "See the caveats in the documentation: http://pandas.pydata.org/pandas-docs/stable/indexing.html#indexing-view-versus-copy\n",
      "  from ipykernel import kernelapp as app\n"
     ]
    }
   ],
   "source": [
    "indexvars = basevars + ['mpa_hab_rank']\n",
    "national['nompa_coast_exp'] = recalculate_exposure(indexvars, national)"
   ]
  },
  {
   "cell_type": "code",
   "execution_count": 74,
   "metadata": {
    "collapsed": false
   },
   "outputs": [],
   "source": [
    "## put all three scenarios in a table with xy\n",
    "scenarios = pd.DataFrame()\n",
    "scenarios['ce_all_habitats'] = national_shp['coast_exp']\n",
    "scenarios['ce_no_habitats'] = national_shp['coast_exp_nohabs']\n",
    "scenarios['ce_nompa_habitats'] = national['nompa_coast_exp']\n",
    "# scenarios['geometry'] = national_shp['geometry']\n",
    "# scenarios['x'] = national_shp['x']\n",
    "# scenarios['y'] = national_shp['y']"
   ]
  },
  {
   "cell_type": "code",
   "execution_count": 71,
   "metadata": {
    "collapsed": false
   },
   "outputs": [
    {
     "data": {
      "text/plain": [
       "<matplotlib.axes.AxesSubplot at 0x7f09248bac90>"
      ]
     },
     "execution_count": 71,
     "metadata": {},
     "output_type": "execute_result"
    },
    {
     "data": {
      "image/png": "[encoded data removed]",
      "text/plain": [
       "<matplotlib.figure.Figure at 0x7f0927a4c110>"
      ]
     },
     "metadata": {},
     "output_type": "display_data"
    }
   ],
   "source": [
    "sns.distplot(scenarios['ce_all_habitats'], kde=False, color='green')\n",
    "sns.distplot(scenarios['ce_no_habitats'], kde=False, color='orange')\n",
    "sns.distplot(scenarios['ce_nompa_habitats'], kde=False, color='blue')\n"
   ]
  },
  {
   "cell_type": "code",
   "execution_count": 73,
   "metadata": {
    "collapsed": false
   },
   "outputs": [
    {
     "data": {
      "text/plain": [
       "<matplotlib.axes.AxesSubplot at 0x7f0926432e50>"
      ]
     },
     "execution_count": 73,
     "metadata": {},
     "output_type": "execute_result"
    },
    {
     "data": {
      "image/png": "[encoded data removed]",
      "text/plain": [
       "<matplotlib.figure.Figure at 0x7f09225ca990>"
      ]
     },
     "metadata": {},
     "output_type": "display_data"
    }
   ],
   "source": [
    "sns.boxplot(scenarios, orient='h')"
   ]
  },
  {
   "cell_type": "markdown",
   "metadata": {},
   "source": [
    "### assign subregions to points:"
   ]
  },
  {
   "cell_type": "code",
   "execution_count": 120,
   "metadata": {
    "collapsed": true
   },
   "outputs": [],
   "source": [
    "subregions = gpd.read_file('/home/dmf/bahamas-mpa/cv/cv-fromjess/Bahamas_regionalCV_Inputs/LandPoly_Bahamas_subregions.shp')"
   ]
  },
  {
   "cell_type": "code",
   "execution_count": 121,
   "metadata": {
    "collapsed": true
   },
   "outputs": [],
   "source": [
    "# buffer ensures the land polygons enclose the coastal points, which are a bit offshore\n",
    "subregions['geometry'] = subregions.buffer(400)"
   ]
  },
  {
   "cell_type": "code",
   "execution_count": 137,
   "metadata": {
    "collapsed": false
   },
   "outputs": [
    {
     "data": {
      "text/plain": [
       "[u'CROSS_SHLF',\n",
       " u'Name',\n",
       " u'ORIG_FID',\n",
       " u'Subregion',\n",
       " 'geometry',\n",
       " u'sq_meter',\n",
       " u'sqmeter_2']"
      ]
     },
     "execution_count": 137,
     "metadata": {},
     "output_type": "execute_result"
    }
   ],
   "source": [
    "list(subregions)"
   ]
  },
  {
   "cell_type": "code",
   "execution_count": 138,
   "metadata": {
    "collapsed": true
   },
   "outputs": [],
   "source": [
    "subregions.drop(axis=1, labels=['CROSS_SHLF', 'ORIG_FID', 'Subregion', 'sq_meter', 'sqmeter_2'], inplace=True)"
   ]
  },
  {
   "cell_type": "code",
   "execution_count": 125,
   "metadata": {
    "collapsed": false
   },
   "outputs": [],
   "source": [
    "scenarios['fid'] = scenarios.index"
   ]
  },
  {
   "cell_type": "code",
   "execution_count": 130,
   "metadata": {
    "collapsed": false
   },
   "outputs": [],
   "source": [
    "scenarios_shp = gpd.GeoDataFrame(scenarios, crs=national_shp.crs, geometry=national_shp.geometry)"
   ]
  },
  {
   "cell_type": "code",
   "execution_count": 139,
   "metadata": {
    "collapsed": true
   },
   "outputs": [],
   "source": [
    "pts_in_region = gpd.sjoin(scenarios_shp, subregions, how='inner', op='intersects')"
   ]
  },
  {
   "cell_type": "code",
   "execution_count": 143,
   "metadata": {
    "collapsed": false
   },
   "outputs": [],
   "source": [
    "pts_in_region.drop(axis=1, labels='index_right', inplace=True)"
   ]
  },
  {
   "cell_type": "code",
   "execution_count": 215,
   "metadata": {
    "collapsed": false
   },
   "outputs": [
    {
     "data": {
      "text/plain": [
       "geopandas.geodataframe.GeoDataFrame"
      ]
     },
     "execution_count": 215,
     "metadata": {},
     "output_type": "execute_result"
    }
   ],
   "source": [
    "type(pts_in_region)"
   ]
  },
  {
   "cell_type": "code",
   "execution_count": null,
   "metadata": {
    "collapsed": true
   },
   "outputs": [],
   "source": [
    "pts_in_region['habrole'] = pts_in_region.ce_nompa_h - pts_in_region.ce_all_hab"
   ]
  },
  {
   "cell_type": "code",
   "execution_count": 149,
   "metadata": {
    "collapsed": true
   },
   "outputs": [],
   "source": [
    "pts_in_region.to_file('../mpa-removeall-habitat/scenario_data/cv_3scenarios_byisland.shp')"
   ]
  },
  {
   "cell_type": "markdown",
   "metadata": {},
   "source": [
    "### Categorize exposure indices into high-med-low\n",
    "using distribution of combined exposure values from multiple scenarios"
   ]
  },
  {
   "cell_type": "code",
   "execution_count": 3,
   "metadata": {
    "collapsed": false
   },
   "outputs": [],
   "source": [
    "pts_in_region = gpd.read_file('../mpa-removeall-habitat/scenario_data/cv_3scenarios_byisland.shp')"
   ]
  },
  {
   "cell_type": "code",
   "execution_count": 4,
   "metadata": {
    "collapsed": false
   },
   "outputs": [
    {
     "data": {
      "text/html": [
       "<div>\n",
       "<table border=\"1\" class=\"dataframe\">\n",
       "  <thead>\n",
       "    <tr style=\"text-align: right;\">\n",
       "      <th></th>\n",
       "      <th>Name</th>\n",
       "      <th>ce_all_hab</th>\n",
       "      <th>ce_no_habi</th>\n",
       "      <th>ce_nompa_h</th>\n",
       "      <th>fid</th>\n",
       "      <th>geometry</th>\n",
       "      <th>habrole</th>\n",
       "    </tr>\n",
       "  </thead>\n",
       "  <tbody>\n",
       "    <tr>\n",
       "      <th>0</th>\n",
       "      <td>Abaco</td>\n",
       "      <td>2.435669</td>\n",
       "      <td>3.107233</td>\n",
       "      <td>2.610602</td>\n",
       "      <td>0</td>\n",
       "      <td>POINT (162928.413004 3019466.78567)</td>\n",
       "      <td>0.174933</td>\n",
       "    </tr>\n",
       "    <tr>\n",
       "      <th>1</th>\n",
       "      <td>Abaco</td>\n",
       "      <td>2.435669</td>\n",
       "      <td>3.107233</td>\n",
       "      <td>2.610602</td>\n",
       "      <td>1</td>\n",
       "      <td>POINT (162853.713287 3019270.52392)</td>\n",
       "      <td>0.174933</td>\n",
       "    </tr>\n",
       "    <tr>\n",
       "      <th>2</th>\n",
       "      <td>Abaco</td>\n",
       "      <td>2.435669</td>\n",
       "      <td>3.107233</td>\n",
       "      <td>2.610602</td>\n",
       "      <td>2</td>\n",
       "      <td>POINT (163216.047947 3019346.4071)</td>\n",
       "      <td>0.174933</td>\n",
       "    </tr>\n",
       "    <tr>\n",
       "      <th>3</th>\n",
       "      <td>Abaco</td>\n",
       "      <td>2.435669</td>\n",
       "      <td>3.107233</td>\n",
       "      <td>2.610602</td>\n",
       "      <td>3</td>\n",
       "      <td>POINT (163431.129412 3019247.9762)</td>\n",
       "      <td>0.174933</td>\n",
       "    </tr>\n",
       "    <tr>\n",
       "      <th>4</th>\n",
       "      <td>Abaco</td>\n",
       "      <td>2.435669</td>\n",
       "      <td>3.107233</td>\n",
       "      <td>2.610602</td>\n",
       "      <td>4</td>\n",
       "      <td>POINT (162849.749416 3019245.02939)</td>\n",
       "      <td>0.174933</td>\n",
       "    </tr>\n",
       "  </tbody>\n",
       "</table>\n",
       "</div>"
      ],
      "text/plain": [
       "    Name  ce_all_hab  ce_no_habi  ce_nompa_h  fid  \\\n",
       "0  Abaco    2.435669    3.107233    2.610602    0   \n",
       "1  Abaco    2.435669    3.107233    2.610602    1   \n",
       "2  Abaco    2.435669    3.107233    2.610602    2   \n",
       "3  Abaco    2.435669    3.107233    2.610602    3   \n",
       "4  Abaco    2.435669    3.107233    2.610602    4   \n",
       "\n",
       "                              geometry   habrole  \n",
       "0  POINT (162928.413004 3019466.78567)  0.174933  \n",
       "1  POINT (162853.713287 3019270.52392)  0.174933  \n",
       "2   POINT (163216.047947 3019346.4071)  0.174933  \n",
       "3   POINT (163431.129412 3019247.9762)  0.174933  \n",
       "4  POINT (162849.749416 3019245.02939)  0.174933  "
      ]
     },
     "execution_count": 4,
     "metadata": {},
     "output_type": "execute_result"
    }
   ],
   "source": [
    "pts_in_region.head()"
   ]
  },
  {
   "cell_type": "code",
   "execution_count": 148,
   "metadata": {
    "collapsed": true
   },
   "outputs": [],
   "source": []
  },
  {
   "cell_type": "code",
   "execution_count": 158,
   "metadata": {
    "collapsed": false
   },
   "outputs": [],
   "source": [
    "# drop habrole because we don't want it's values in the distribution of exposure values\n",
    "longdf = pd.melt(frame=pts_in_region.drop(axis=1, labels='habrole'), id_vars=['geometry', 'fid', 'Name'])"
   ]
  },
  {
   "cell_type": "code",
   "execution_count": 163,
   "metadata": {
    "collapsed": false
   },
   "outputs": [
    {
     "data": {
      "text/html": [
       "<div>\n",
       "<table border=\"1\" class=\"dataframe\">\n",
       "  <thead>\n",
       "    <tr style=\"text-align: right;\">\n",
       "      <th></th>\n",
       "      <th>geometry</th>\n",
       "      <th>fid</th>\n",
       "      <th>Name</th>\n",
       "      <th>variable</th>\n",
       "      <th>value</th>\n",
       "    </tr>\n",
       "  </thead>\n",
       "  <tbody>\n",
       "    <tr>\n",
       "      <th>0</th>\n",
       "      <td>POINT (162928.413004 3019466.78567)</td>\n",
       "      <td>0</td>\n",
       "      <td>Abaco</td>\n",
       "      <td>ce_all_hab</td>\n",
       "      <td>2.435669</td>\n",
       "    </tr>\n",
       "    <tr>\n",
       "      <th>1</th>\n",
       "      <td>POINT (162853.713287 3019270.52392)</td>\n",
       "      <td>1</td>\n",
       "      <td>Abaco</td>\n",
       "      <td>ce_all_hab</td>\n",
       "      <td>2.435669</td>\n",
       "    </tr>\n",
       "    <tr>\n",
       "      <th>2</th>\n",
       "      <td>POINT (163216.047947 3019346.4071)</td>\n",
       "      <td>2</td>\n",
       "      <td>Abaco</td>\n",
       "      <td>ce_all_hab</td>\n",
       "      <td>2.435669</td>\n",
       "    </tr>\n",
       "    <tr>\n",
       "      <th>3</th>\n",
       "      <td>POINT (163431.129412 3019247.9762)</td>\n",
       "      <td>3</td>\n",
       "      <td>Abaco</td>\n",
       "      <td>ce_all_hab</td>\n",
       "      <td>2.435669</td>\n",
       "    </tr>\n",
       "    <tr>\n",
       "      <th>4</th>\n",
       "      <td>POINT (162849.749416 3019245.02939)</td>\n",
       "      <td>4</td>\n",
       "      <td>Abaco</td>\n",
       "      <td>ce_all_hab</td>\n",
       "      <td>2.435669</td>\n",
       "    </tr>\n",
       "  </tbody>\n",
       "</table>\n",
       "</div>"
      ],
      "text/plain": [
       "                              geometry  fid   Name    variable     value\n",
       "0  POINT (162928.413004 3019466.78567)    0  Abaco  ce_all_hab  2.435669\n",
       "1  POINT (162853.713287 3019270.52392)    1  Abaco  ce_all_hab  2.435669\n",
       "2   POINT (163216.047947 3019346.4071)    2  Abaco  ce_all_hab  2.435669\n",
       "3   POINT (163431.129412 3019247.9762)    3  Abaco  ce_all_hab  2.435669\n",
       "4  POINT (162849.749416 3019245.02939)    4  Abaco  ce_all_hab  2.435669"
      ]
     },
     "execution_count": 163,
     "metadata": {},
     "output_type": "execute_result"
    }
   ],
   "source": [
    "longdf.head()"
   ]
  },
  {
   "cell_type": "code",
   "execution_count": 164,
   "metadata": {
    "collapsed": false
   },
   "outputs": [
    {
     "data": {
      "text/plain": [
       "<matplotlib.axes.AxesSubplot at 0x7fa66d35a390>"
      ]
     },
     "execution_count": 164,
     "metadata": {},
     "output_type": "execute_result"
    },
    {
     "data": {
      "image/png": "[encoded data removed]",
      "text/plain": [
       "<matplotlib.figure.Figure at 0x7fa66c445f10>"
      ]
     },
     "metadata": {},
     "output_type": "display_data"
    }
   ],
   "source": [
    "sns.distplot(longdf.value)"
   ]
  },
  {
   "cell_type": "code",
   "execution_count": 165,
   "metadata": {
    "collapsed": false
   },
   "outputs": [
    {
     "name": "stdout",
     "output_type": "stream",
     "text": [
      "0.25    2.173805\n",
      "0.75    2.842598\n",
      "Name: value, dtype: float64\n"
     ]
    }
   ],
   "source": [
    "quants = longdf.value.quantile([.25, .75])\n",
    "print(quants)"
   ]
  },
  {
   "cell_type": "code",
   "execution_count": 166,
   "metadata": {
    "collapsed": true
   },
   "outputs": [],
   "source": [
    "def categorize_exposure(x):\n",
    "    if x <= quants.iloc[0]:\n",
    "        return 'low'\n",
    "    if quants.iloc[0] < x < quants.iloc[1]:\n",
    "        return 'med'\n",
    "    if x >= quants.iloc[1]:\n",
    "        return 'high'"
   ]
  },
  {
   "cell_type": "code",
   "execution_count": 167,
   "metadata": {
    "collapsed": false
   },
   "outputs": [],
   "source": [
    "longdf['category'] = longdf['value'].apply(func=categorize_exposure)"
   ]
  },
  {
   "cell_type": "code",
   "execution_count": 168,
   "metadata": {
    "collapsed": false
   },
   "outputs": [
    {
     "data": {
      "text/html": [
       "<div>\n",
       "<table border=\"1\" class=\"dataframe\">\n",
       "  <thead>\n",
       "    <tr style=\"text-align: right;\">\n",
       "      <th></th>\n",
       "      <th>geometry</th>\n",
       "      <th>fid</th>\n",
       "      <th>Name</th>\n",
       "      <th>variable</th>\n",
       "      <th>value</th>\n",
       "      <th>category</th>\n",
       "    </tr>\n",
       "  </thead>\n",
       "  <tbody>\n",
       "    <tr>\n",
       "      <th>0</th>\n",
       "      <td>POINT (162928.413004 3019466.78567)</td>\n",
       "      <td>0</td>\n",
       "      <td>Abaco</td>\n",
       "      <td>ce_all_hab</td>\n",
       "      <td>2.435669</td>\n",
       "      <td>med</td>\n",
       "    </tr>\n",
       "    <tr>\n",
       "      <th>1</th>\n",
       "      <td>POINT (162853.713287 3019270.52392)</td>\n",
       "      <td>1</td>\n",
       "      <td>Abaco</td>\n",
       "      <td>ce_all_hab</td>\n",
       "      <td>2.435669</td>\n",
       "      <td>med</td>\n",
       "    </tr>\n",
       "    <tr>\n",
       "      <th>2</th>\n",
       "      <td>POINT (163216.047947 3019346.4071)</td>\n",
       "      <td>2</td>\n",
       "      <td>Abaco</td>\n",
       "      <td>ce_all_hab</td>\n",
       "      <td>2.435669</td>\n",
       "      <td>med</td>\n",
       "    </tr>\n",
       "    <tr>\n",
       "      <th>3</th>\n",
       "      <td>POINT (163431.129412 3019247.9762)</td>\n",
       "      <td>3</td>\n",
       "      <td>Abaco</td>\n",
       "      <td>ce_all_hab</td>\n",
       "      <td>2.435669</td>\n",
       "      <td>med</td>\n",
       "    </tr>\n",
       "    <tr>\n",
       "      <th>4</th>\n",
       "      <td>POINT (162849.749416 3019245.02939)</td>\n",
       "      <td>4</td>\n",
       "      <td>Abaco</td>\n",
       "      <td>ce_all_hab</td>\n",
       "      <td>2.435669</td>\n",
       "      <td>med</td>\n",
       "    </tr>\n",
       "  </tbody>\n",
       "</table>\n",
       "</div>"
      ],
      "text/plain": [
       "                              geometry  fid   Name    variable     value  \\\n",
       "0  POINT (162928.413004 3019466.78567)    0  Abaco  ce_all_hab  2.435669   \n",
       "1  POINT (162853.713287 3019270.52392)    1  Abaco  ce_all_hab  2.435669   \n",
       "2   POINT (163216.047947 3019346.4071)    2  Abaco  ce_all_hab  2.435669   \n",
       "3   POINT (163431.129412 3019247.9762)    3  Abaco  ce_all_hab  2.435669   \n",
       "4  POINT (162849.749416 3019245.02939)    4  Abaco  ce_all_hab  2.435669   \n",
       "\n",
       "  category  \n",
       "0      med  \n",
       "1      med  \n",
       "2      med  \n",
       "3      med  \n",
       "4      med  "
      ]
     },
     "execution_count": 168,
     "metadata": {},
     "output_type": "execute_result"
    }
   ],
   "source": [
    "longdf.head()"
   ]
  },
  {
   "cell_type": "code",
   "execution_count": 169,
   "metadata": {
    "collapsed": false
   },
   "outputs": [
    {
     "data": {
      "image/png": "[encoded data removed]",
      "text/plain": [
       "<matplotlib.figure.Figure at 0x7fa66d90f4d0>"
      ]
     },
     "metadata": {},
     "output_type": "display_data"
    }
   ],
   "source": [
    "sns.set_style('ticks')\n",
    "fig, ax = plt.subplots()\n",
    "fig.set_size_inches(8, 10)\n",
    "sns.boxplot(x=\"value\", y=\"Name\", hue='variable', data=longdf)\n",
    "fig.savefig('../figs/cv_scenarios_boxplot_exposure.png')\n",
    "fig.savefig('../figs/cv_scenarios_boxplot_exposure.svg')"
   ]
  },
  {
   "cell_type": "code",
   "execution_count": 146,
   "metadata": {
    "collapsed": false
   },
   "outputs": [
    {
     "data": {
      "text/html": [
       "<div>\n",
       "<table border=\"1\" class=\"dataframe\">\n",
       "  <thead>\n",
       "    <tr style=\"text-align: right;\">\n",
       "      <th></th>\n",
       "      <th>geometry</th>\n",
       "      <th>fid</th>\n",
       "      <th>Name</th>\n",
       "      <th>variable</th>\n",
       "      <th>value</th>\n",
       "      <th>category</th>\n",
       "    </tr>\n",
       "  </thead>\n",
       "  <tbody>\n",
       "    <tr>\n",
       "      <th>0</th>\n",
       "      <td>POINT (162928.413004 3019466.78567)</td>\n",
       "      <td>0</td>\n",
       "      <td>Abaco</td>\n",
       "      <td>ce_all_hab</td>\n",
       "      <td>2.435669</td>\n",
       "      <td>med</td>\n",
       "    </tr>\n",
       "    <tr>\n",
       "      <th>1</th>\n",
       "      <td>POINT (162853.713287 3019270.52392)</td>\n",
       "      <td>1</td>\n",
       "      <td>Abaco</td>\n",
       "      <td>ce_all_hab</td>\n",
       "      <td>2.435669</td>\n",
       "      <td>med</td>\n",
       "    </tr>\n",
       "    <tr>\n",
       "      <th>2</th>\n",
       "      <td>POINT (163216.047947 3019346.4071)</td>\n",
       "      <td>2</td>\n",
       "      <td>Abaco</td>\n",
       "      <td>ce_all_hab</td>\n",
       "      <td>2.435669</td>\n",
       "      <td>med</td>\n",
       "    </tr>\n",
       "    <tr>\n",
       "      <th>3</th>\n",
       "      <td>POINT (163431.129412 3019247.9762)</td>\n",
       "      <td>3</td>\n",
       "      <td>Abaco</td>\n",
       "      <td>ce_all_hab</td>\n",
       "      <td>2.435669</td>\n",
       "      <td>med</td>\n",
       "    </tr>\n",
       "    <tr>\n",
       "      <th>4</th>\n",
       "      <td>POINT (162849.749416 3019245.02939)</td>\n",
       "      <td>4</td>\n",
       "      <td>Abaco</td>\n",
       "      <td>ce_all_hab</td>\n",
       "      <td>2.435669</td>\n",
       "      <td>med</td>\n",
       "    </tr>\n",
       "  </tbody>\n",
       "</table>\n",
       "</div>"
      ],
      "text/plain": [
       "                              geometry  fid   Name    variable     value  \\\n",
       "0  POINT (162928.413004 3019466.78567)    0  Abaco  ce_all_hab  2.435669   \n",
       "1  POINT (162853.713287 3019270.52392)    1  Abaco  ce_all_hab  2.435669   \n",
       "2   POINT (163216.047947 3019346.4071)    2  Abaco  ce_all_hab  2.435669   \n",
       "3   POINT (163431.129412 3019247.9762)    3  Abaco  ce_all_hab  2.435669   \n",
       "4  POINT (162849.749416 3019245.02939)    4  Abaco  ce_all_hab  2.435669   \n",
       "\n",
       "  category  \n",
       "0      med  \n",
       "1      med  \n",
       "2      med  \n",
       "3      med  \n",
       "4      med  "
      ]
     },
     "execution_count": 146,
     "metadata": {},
     "output_type": "execute_result"
    }
   ],
   "source": [
    "longdf.head()"
   ]
  },
  {
   "cell_type": "code",
   "execution_count": 241,
   "metadata": {
    "collapsed": true
   },
   "outputs": [],
   "source": [
    "longdf.to_csv('../mpa-removeall-habitat/scenario_data/cv_3scenarios_byisland_category.csv', index=False)"
   ]
  },
  {
   "cell_type": "code",
   "execution_count": 242,
   "metadata": {
    "collapsed": true
   },
   "outputs": [],
   "source": [
    "scenario_geo = gpd.GeoDataFrame(longdf, crs=national_shp.crs, geometry=longdf['geometry'])"
   ]
  },
  {
   "cell_type": "code",
   "execution_count": 243,
   "metadata": {
    "collapsed": true
   },
   "outputs": [],
   "source": [
    "scenario_geo.to_file('../mpa-removeall-habitat/scenario_data/cv_3scenarios_byisland_category.shp')"
   ]
  },
  {
   "cell_type": "markdown",
   "metadata": {},
   "source": [
    "### Metric 1: Length of coastline in each category, for each island  "
   ]
  },
  {
   "cell_type": "code",
   "execution_count": 4,
   "metadata": {
    "collapsed": false
   },
   "outputs": [],
   "source": [
    "scen_geo = gpd.read_file('../mpa-removeall-habitat/scenario_data/cv_3scenarios_byisland_category.shp')"
   ]
  },
  {
   "cell_type": "code",
   "execution_count": 6,
   "metadata": {
    "collapsed": false
   },
   "outputs": [
    {
     "data": {
      "text/html": [
       "<div>\n",
       "<table border=\"1\" class=\"dataframe\">\n",
       "  <thead>\n",
       "    <tr style=\"text-align: right;\">\n",
       "      <th></th>\n",
       "      <th>Name</th>\n",
       "      <th>category</th>\n",
       "      <th>fid</th>\n",
       "      <th>geometry</th>\n",
       "      <th>value</th>\n",
       "      <th>variable</th>\n",
       "    </tr>\n",
       "  </thead>\n",
       "  <tbody>\n",
       "    <tr>\n",
       "      <th>0</th>\n",
       "      <td>Abaco</td>\n",
       "      <td>med</td>\n",
       "      <td>0</td>\n",
       "      <td>POINT (162928.413004 3019466.78567)</td>\n",
       "      <td>2.435669</td>\n",
       "      <td>ce_all_hab</td>\n",
       "    </tr>\n",
       "    <tr>\n",
       "      <th>1</th>\n",
       "      <td>Abaco</td>\n",
       "      <td>med</td>\n",
       "      <td>1</td>\n",
       "      <td>POINT (162853.713287 3019270.52392)</td>\n",
       "      <td>2.435669</td>\n",
       "      <td>ce_all_hab</td>\n",
       "    </tr>\n",
       "    <tr>\n",
       "      <th>2</th>\n",
       "      <td>Abaco</td>\n",
       "      <td>med</td>\n",
       "      <td>2</td>\n",
       "      <td>POINT (163216.047947 3019346.4071)</td>\n",
       "      <td>2.435669</td>\n",
       "      <td>ce_all_hab</td>\n",
       "    </tr>\n",
       "    <tr>\n",
       "      <th>3</th>\n",
       "      <td>Abaco</td>\n",
       "      <td>med</td>\n",
       "      <td>3</td>\n",
       "      <td>POINT (163431.129412 3019247.9762)</td>\n",
       "      <td>2.435669</td>\n",
       "      <td>ce_all_hab</td>\n",
       "    </tr>\n",
       "    <tr>\n",
       "      <th>4</th>\n",
       "      <td>Abaco</td>\n",
       "      <td>med</td>\n",
       "      <td>4</td>\n",
       "      <td>POINT (162849.749416 3019245.02939)</td>\n",
       "      <td>2.435669</td>\n",
       "      <td>ce_all_hab</td>\n",
       "    </tr>\n",
       "  </tbody>\n",
       "</table>\n",
       "</div>"
      ],
      "text/plain": [
       "    Name category  fid                             geometry     value  \\\n",
       "0  Abaco      med    0  POINT (162928.413004 3019466.78567)  2.435669   \n",
       "1  Abaco      med    1  POINT (162853.713287 3019270.52392)  2.435669   \n",
       "2  Abaco      med    2   POINT (163216.047947 3019346.4071)  2.435669   \n",
       "3  Abaco      med    3   POINT (163431.129412 3019247.9762)  2.435669   \n",
       "4  Abaco      med    4  POINT (162849.749416 3019245.02939)  2.435669   \n",
       "\n",
       "     variable  \n",
       "0  ce_all_hab  \n",
       "1  ce_all_hab  \n",
       "2  ce_all_hab  \n",
       "3  ce_all_hab  \n",
       "4  ce_all_hab  "
      ]
     },
     "execution_count": 6,
     "metadata": {},
     "output_type": "execute_result"
    }
   ],
   "source": [
    "scen_geo.head()"
   ]
  },
  {
   "cell_type": "code",
   "execution_count": 7,
   "metadata": {
    "collapsed": false
   },
   "outputs": [],
   "source": [
    "grouped_df = pd.DataFrame(scen_geo.groupby(['Name', 'category', 'variable']).size().rename('npoints'))"
   ]
  },
  {
   "cell_type": "code",
   "execution_count": 8,
   "metadata": {
    "collapsed": true
   },
   "outputs": [],
   "source": [
    "coastlength = pd.DataFrame(grouped_df.to_records())"
   ]
  },
  {
   "cell_type": "code",
   "execution_count": 9,
   "metadata": {
    "collapsed": false
   },
   "outputs": [],
   "source": [
    "coastlength['km_shore'] = coastlength['npoints']*(0.25)"
   ]
  },
  {
   "cell_type": "code",
   "execution_count": 249,
   "metadata": {
    "collapsed": false
   },
   "outputs": [
    {
     "data": {
      "text/html": [
       "<div>\n",
       "<table border=\"1\" class=\"dataframe\">\n",
       "  <thead>\n",
       "    <tr style=\"text-align: right;\">\n",
       "      <th></th>\n",
       "      <th>Name</th>\n",
       "      <th>category</th>\n",
       "      <th>variable</th>\n",
       "      <th>npoints</th>\n",
       "      <th>km_shore</th>\n",
       "    </tr>\n",
       "  </thead>\n",
       "  <tbody>\n",
       "    <tr>\n",
       "      <th>0</th>\n",
       "      <td>Abaco</td>\n",
       "      <td>high</td>\n",
       "      <td>ce_all_hab</td>\n",
       "      <td>1377</td>\n",
       "      <td>344.25</td>\n",
       "    </tr>\n",
       "    <tr>\n",
       "      <th>1</th>\n",
       "      <td>Abaco</td>\n",
       "      <td>high</td>\n",
       "      <td>ce_no_habi</td>\n",
       "      <td>3397</td>\n",
       "      <td>849.25</td>\n",
       "    </tr>\n",
       "    <tr>\n",
       "      <th>2</th>\n",
       "      <td>Abaco</td>\n",
       "      <td>high</td>\n",
       "      <td>ce_nompa_h</td>\n",
       "      <td>1617</td>\n",
       "      <td>404.25</td>\n",
       "    </tr>\n",
       "    <tr>\n",
       "      <th>3</th>\n",
       "      <td>Abaco</td>\n",
       "      <td>low</td>\n",
       "      <td>ce_all_hab</td>\n",
       "      <td>792</td>\n",
       "      <td>198.00</td>\n",
       "    </tr>\n",
       "    <tr>\n",
       "      <th>4</th>\n",
       "      <td>Abaco</td>\n",
       "      <td>low</td>\n",
       "      <td>ce_no_habi</td>\n",
       "      <td>61</td>\n",
       "      <td>15.25</td>\n",
       "    </tr>\n",
       "  </tbody>\n",
       "</table>\n",
       "</div>"
      ],
      "text/plain": [
       "    Name category    variable  npoints  km_shore\n",
       "0  Abaco     high  ce_all_hab     1377    344.25\n",
       "1  Abaco     high  ce_no_habi     3397    849.25\n",
       "2  Abaco     high  ce_nompa_h     1617    404.25\n",
       "3  Abaco      low  ce_all_hab      792    198.00\n",
       "4  Abaco      low  ce_no_habi       61     15.25"
      ]
     },
     "execution_count": 249,
     "metadata": {},
     "output_type": "execute_result"
    }
   ],
   "source": [
    "coastlength.head()"
   ]
  },
  {
   "cell_type": "code",
   "execution_count": 250,
   "metadata": {
    "collapsed": true
   },
   "outputs": [],
   "source": [
    "coastlength.to_csv('../mpa-removeall-habitat/scenario_data/cv_3scenarios_byisland_category_kmshore.csv', index=False)"
   ]
  },
  {
   "cell_type": "code",
   "execution_count": 253,
   "metadata": {
    "collapsed": true
   },
   "outputs": [
    {
     "data": {
      "image/png": "[encoded data removed]",
      "text/plain": [
       "<matplotlib.figure.Figure at 0x7f09129d4310>"
      ]
     },
     "metadata": {},
     "output_type": "display_data"
    }
   ],
   "source": [
    "sns.set_style('ticks')\n",
    "fig, ax = plt.subplots()\n",
    "fig.set_size_inches(8, 8)\n",
    "cmap = sns.color_palette(['#f44141', '#f4ee41', '#4286f4'])\n",
    "\n",
    "sns.barplot(y='Name', x='km_shore', \n",
    "            hue='category', palette=cmap, hue_order=['high', 'med', 'low'], \n",
    "            data=coastlength[coastlength.variable == 'ce_all_hab'])\n",
    "fig.savefig('../figs/cv_shorelength_all_habitats.png')\n",
    "fig.savefig('../figs/cv_shorelength_all_habitats.svg')"
   ]
  },
  {
   "cell_type": "code",
   "execution_count": 255,
   "metadata": {
    "collapsed": true
   },
   "outputs": [
    {
     "data": {
      "image/png": "[encoded data removed]",
      "text/plain": [
       "<matplotlib.figure.Figure at 0x7f091b1ad690>"
      ]
     },
     "metadata": {},
     "output_type": "display_data"
    }
   ],
   "source": [
    "sns.set_style('ticks')\n",
    "fig, ax = plt.subplots()\n",
    "fig.set_size_inches(8, 8)\n",
    "cmap = sns.color_palette(['#f44141', '#f4ee41', '#4286f4'])\n",
    "\n",
    "sns.barplot(y='Name', x='km_shore', \n",
    "            hue='category', palette=cmap, hue_order=['high', 'med', 'low'], \n",
    "            data=coastlength[coastlength.variable == 'ce_no_habi'])\n",
    "fig.savefig('../figs/cv_shorelength_no_habitats.png')\n",
    "fig.savefig('../figs/cv_shorelength_no_habitats.svg')"
   ]
  },
  {
   "cell_type": "code",
   "execution_count": 256,
   "metadata": {
    "collapsed": true
   },
   "outputs": [
    {
     "data": {
      "image/png": "[encoded data removed]",
      "text/plain": [
       "<matplotlib.figure.Figure at 0x7f091b16b9d0>"
      ]
     },
     "metadata": {},
     "output_type": "display_data"
    }
   ],
   "source": [
    "sns.set_style('ticks')\n",
    "fig, ax = plt.subplots()\n",
    "fig.set_size_inches(8, 8)\n",
    "cmap = sns.color_palette(['#f44141', '#f4ee41', '#4286f4'])\n",
    "\n",
    "sns.barplot(y='Name', x='km_shore', \n",
    "            hue='category', palette=cmap, hue_order=['high', 'med', 'low'], \n",
    "            data=coastlength[coastlength.variable == 'ce_nompa_h'])\n",
    "fig.savefig('../figs/cv_shorelength_nompa_habitats.png')\n",
    "fig.savefig('../figs/cv_shorelength_nompa_habitats.svg')"
   ]
  },
  {
   "cell_type": "markdown",
   "metadata": {},
   "source": [
    "#### difference in km_shore between allhab and nompa scenarios"
   ]
  },
  {
   "cell_type": "code",
   "execution_count": 172,
   "metadata": {
    "collapsed": false
   },
   "outputs": [],
   "source": [
    "coastlength = pd.read_csv('../mpa-removeall-habitat/scenario_data/cv_3scenarios_byisland_category_kmshore.csv')"
   ]
  },
  {
   "cell_type": "code",
   "execution_count": 173,
   "metadata": {
    "collapsed": false
   },
   "outputs": [
    {
     "data": {
      "text/html": [
       "<div>\n",
       "<table border=\"1\" class=\"dataframe\">\n",
       "  <thead>\n",
       "    <tr style=\"text-align: right;\">\n",
       "      <th></th>\n",
       "      <th>Name</th>\n",
       "      <th>category</th>\n",
       "      <th>variable</th>\n",
       "      <th>npoints</th>\n",
       "      <th>km_shore</th>\n",
       "    </tr>\n",
       "  </thead>\n",
       "  <tbody>\n",
       "    <tr>\n",
       "      <th>0</th>\n",
       "      <td>Abaco</td>\n",
       "      <td>high</td>\n",
       "      <td>ce_all_hab</td>\n",
       "      <td>1377</td>\n",
       "      <td>344.25</td>\n",
       "    </tr>\n",
       "    <tr>\n",
       "      <th>2</th>\n",
       "      <td>Abaco</td>\n",
       "      <td>high</td>\n",
       "      <td>ce_nompa_h</td>\n",
       "      <td>1617</td>\n",
       "      <td>404.25</td>\n",
       "    </tr>\n",
       "    <tr>\n",
       "      <th>3</th>\n",
       "      <td>Abaco</td>\n",
       "      <td>low</td>\n",
       "      <td>ce_all_hab</td>\n",
       "      <td>792</td>\n",
       "      <td>198.00</td>\n",
       "    </tr>\n",
       "    <tr>\n",
       "      <th>5</th>\n",
       "      <td>Abaco</td>\n",
       "      <td>low</td>\n",
       "      <td>ce_nompa_h</td>\n",
       "      <td>691</td>\n",
       "      <td>172.75</td>\n",
       "    </tr>\n",
       "    <tr>\n",
       "      <th>6</th>\n",
       "      <td>Abaco</td>\n",
       "      <td>med</td>\n",
       "      <td>ce_all_hab</td>\n",
       "      <td>3309</td>\n",
       "      <td>827.25</td>\n",
       "    </tr>\n",
       "  </tbody>\n",
       "</table>\n",
       "</div>"
      ],
      "text/plain": [
       "    Name category    variable  npoints  km_shore\n",
       "0  Abaco     high  ce_all_hab     1377    344.25\n",
       "2  Abaco     high  ce_nompa_h     1617    404.25\n",
       "3  Abaco      low  ce_all_hab      792    198.00\n",
       "5  Abaco      low  ce_nompa_h      691    172.75\n",
       "6  Abaco      med  ce_all_hab     3309    827.25"
      ]
     },
     "execution_count": 173,
     "metadata": {},
     "output_type": "execute_result"
    }
   ],
   "source": [
    "coastlength[coastlength.variable != 'ce_no_habi'].head()"
   ]
  },
  {
   "cell_type": "code",
   "execution_count": 174,
   "metadata": {
    "collapsed": true
   },
   "outputs": [],
   "source": [
    "coastlength.drop(axis=1, labels='npoints', inplace=True)"
   ]
  },
  {
   "cell_type": "code",
   "execution_count": 8,
   "metadata": {
    "collapsed": false
   },
   "outputs": [],
   "source": [
    "widecoast = coastlength[coastlength.variable != 'ce_no_habi'].pivot_table(index=['Name', 'category'], columns='variable', values='km_shore')"
   ]
  },
  {
   "cell_type": "code",
   "execution_count": 179,
   "metadata": {
    "collapsed": false
   },
   "outputs": [],
   "source": [
    "widecoast['diff_km'] = widecoast.ce_nompa_h - widecoast.ce_all_hab"
   ]
  },
  {
   "cell_type": "code",
   "execution_count": 180,
   "metadata": {
    "collapsed": false
   },
   "outputs": [],
   "source": [
    "widecoast.reset_index(inplace=True)"
   ]
  },
  {
   "cell_type": "code",
   "execution_count": 30,
   "metadata": {
    "collapsed": true
   },
   "outputs": [],
   "source": [
    "widecoast.to_csv('../mpa-removeall-habitat/scenario_data/cv_2scenarios_byisland_category_diffkmshore.csv')"
   ]
  },
  {
   "cell_type": "code",
   "execution_count": 37,
   "metadata": {
    "collapsed": false
   },
   "outputs": [],
   "source": [
    "widecoast[['Name', 'category', 'diff_km']].loc[widecoast.category == 'high'].to_html('../figs/cv_shorelength_diff_nompa-allhab_table.html', index=False)"
   ]
  },
  {
   "cell_type": "code",
   "execution_count": 12,
   "metadata": {
    "collapsed": false
   },
   "outputs": [
    {
     "data": {
      "text/html": [
       "<div>\n",
       "<table border=\"1\" class=\"dataframe\">\n",
       "  <thead>\n",
       "    <tr style=\"text-align: right;\">\n",
       "      <th>variable</th>\n",
       "      <th>Name</th>\n",
       "      <th>category</th>\n",
       "      <th>diff_km</th>\n",
       "    </tr>\n",
       "  </thead>\n",
       "  <tbody>\n",
       "    <tr>\n",
       "      <th>0</th>\n",
       "      <td>Abaco</td>\n",
       "      <td>high</td>\n",
       "      <td>60.00</td>\n",
       "    </tr>\n",
       "    <tr>\n",
       "      <th>3</th>\n",
       "      <td>Acklins/Crooked</td>\n",
       "      <td>high</td>\n",
       "      <td>3.75</td>\n",
       "    </tr>\n",
       "    <tr>\n",
       "      <th>6</th>\n",
       "      <td>Andros</td>\n",
       "      <td>high</td>\n",
       "      <td>257.25</td>\n",
       "    </tr>\n",
       "    <tr>\n",
       "      <th>9</th>\n",
       "      <td>Berry Islands</td>\n",
       "      <td>high</td>\n",
       "      <td>7.50</td>\n",
       "    </tr>\n",
       "    <tr>\n",
       "      <th>12</th>\n",
       "      <td>Bimini</td>\n",
       "      <td>high</td>\n",
       "      <td>0.00</td>\n",
       "    </tr>\n",
       "    <tr>\n",
       "      <th>15</th>\n",
       "      <td>Cat Island</td>\n",
       "      <td>high</td>\n",
       "      <td>-0.50</td>\n",
       "    </tr>\n",
       "    <tr>\n",
       "      <th>18</th>\n",
       "      <td>Eleuthera</td>\n",
       "      <td>high</td>\n",
       "      <td>0.00</td>\n",
       "    </tr>\n",
       "    <tr>\n",
       "      <th>21</th>\n",
       "      <td>Exumas</td>\n",
       "      <td>high</td>\n",
       "      <td>37.75</td>\n",
       "    </tr>\n",
       "    <tr>\n",
       "      <th>24</th>\n",
       "      <td>Grand Bahama</td>\n",
       "      <td>high</td>\n",
       "      <td>44.75</td>\n",
       "    </tr>\n",
       "    <tr>\n",
       "      <th>27</th>\n",
       "      <td>Great Inagua</td>\n",
       "      <td>high</td>\n",
       "      <td>NaN</td>\n",
       "    </tr>\n",
       "    <tr>\n",
       "      <th>32</th>\n",
       "      <td>Long Island</td>\n",
       "      <td>high</td>\n",
       "      <td>-0.50</td>\n",
       "    </tr>\n",
       "    <tr>\n",
       "      <th>37</th>\n",
       "      <td>New Providence</td>\n",
       "      <td>high</td>\n",
       "      <td>1.25</td>\n",
       "    </tr>\n",
       "  </tbody>\n",
       "</table>\n",
       "</div>"
      ],
      "text/plain": [
       "variable             Name category  diff_km\n",
       "0                   Abaco     high    60.00\n",
       "3         Acklins/Crooked     high     3.75\n",
       "6                  Andros     high   257.25\n",
       "9           Berry Islands     high     7.50\n",
       "12                 Bimini     high     0.00\n",
       "15             Cat Island     high    -0.50\n",
       "18              Eleuthera     high     0.00\n",
       "21                 Exumas     high    37.75\n",
       "24           Grand Bahama     high    44.75\n",
       "27           Great Inagua     high      NaN\n",
       "32            Long Island     high    -0.50\n",
       "37         New Providence     high     1.25"
      ]
     },
     "execution_count": 12,
     "metadata": {},
     "output_type": "execute_result"
    }
   ],
   "source": [
    "widecoast[['Name', 'category', 'diff_km']].loc[widecoast.category == 'high']"
   ]
  },
  {
   "cell_type": "code",
   "execution_count": 133,
   "metadata": {
    "collapsed": false
   },
   "outputs": [
    {
     "data": {
      "image/png": "[encoded data removed]",
      "text/plain": [
       "<matplotlib.figure.Figure at 0x7fa66dc58c10>"
      ]
     },
     "metadata": {},
     "output_type": "display_data"
    }
   ],
   "source": [
    "sns.set_style('ticks')\n",
    "fig, ax = plt.subplots()\n",
    "fig.set_size_inches(8, 8)\n",
    "# cmap = sns.color_palette(['#f44141', '#f4ee41', '#4286f4'])\n",
    "\n",
    "sns.barplot(y='Name', x='diff_km', color='red',\n",
    "#             hue='category', palette=cmap, hue_order=['high', 'med', 'low'], \n",
    "            data=widecoast[['Name', 'category', 'diff_km']].loc[widecoast.category == 'high'])\n",
    "\n",
    "ax.set(xlabel='change in km of shore at high exposure', \n",
    "       ylabel='', xlim=(0, 300))\n",
    "\n",
    "\n",
    "fig.savefig('../figs/cv_shorelength_diff-high_nompa-allhab.png', dpi=150)\n",
    "fig.savefig('../figs/cv_shorelength_diff-high_nompa-allhab.svg)"
   ]
  },
  {
   "cell_type": "code",
   "execution_count": 322,
   "metadata": {
    "collapsed": false
   },
   "outputs": [],
   "source": [
    "# def diff_km_shore(x):\n",
    "#     try:\n",
    "# #         print(len(x['km_shore']))\n",
    "#         km_all = x['km_shore'][:1]\n",
    "#         km_nompa = x['km_shore'][1:2]\n",
    "#         print(km_all)\n",
    "#         print(km_nompa)\n",
    "#         return {x['Name'][:1]:km_all - km_nompa}\n",
    "#     except(KeyError):\n",
    "#         print('keyerr')"
   ]
  },
  {
   "cell_type": "code",
   "execution_count": 22,
   "metadata": {
    "collapsed": false
   },
   "outputs": [],
   "source": [
    "# test = coastlength[coastlength.variable != 'ce_no_habi'].groupby(['Name', 'category']).apply(diff_km_shore)"
   ]
  },
  {
   "cell_type": "markdown",
   "metadata": {},
   "source": [
    "### Metric 2: zonal stats for population metrics  "
   ]
  },
  {
   "cell_type": "code",
   "execution_count": 17,
   "metadata": {
    "collapsed": true
   },
   "outputs": [],
   "source": [
    "scen_geo = gpd.read_file('../mpa-removeall-habitat/scenario_data/cv_3scenarios_byisland_category.shp')"
   ]
  },
  {
   "cell_type": "code",
   "execution_count": 18,
   "metadata": {
    "collapsed": false
   },
   "outputs": [
    {
     "data": {
      "text/html": [
       "<div>\n",
       "<table border=\"1\" class=\"dataframe\">\n",
       "  <thead>\n",
       "    <tr style=\"text-align: right;\">\n",
       "      <th></th>\n",
       "      <th>Name</th>\n",
       "      <th>category</th>\n",
       "      <th>fid</th>\n",
       "      <th>geometry</th>\n",
       "      <th>value</th>\n",
       "      <th>variable</th>\n",
       "    </tr>\n",
       "  </thead>\n",
       "  <tbody>\n",
       "    <tr>\n",
       "      <th>0</th>\n",
       "      <td>Abaco</td>\n",
       "      <td>med</td>\n",
       "      <td>0</td>\n",
       "      <td>POINT (162928.413004 3019466.78567)</td>\n",
       "      <td>2.435669</td>\n",
       "      <td>ce_all_hab</td>\n",
       "    </tr>\n",
       "    <tr>\n",
       "      <th>1</th>\n",
       "      <td>Abaco</td>\n",
       "      <td>med</td>\n",
       "      <td>1</td>\n",
       "      <td>POINT (162853.713287 3019270.52392)</td>\n",
       "      <td>2.435669</td>\n",
       "      <td>ce_all_hab</td>\n",
       "    </tr>\n",
       "    <tr>\n",
       "      <th>2</th>\n",
       "      <td>Abaco</td>\n",
       "      <td>med</td>\n",
       "      <td>2</td>\n",
       "      <td>POINT (163216.047947 3019346.4071)</td>\n",
       "      <td>2.435669</td>\n",
       "      <td>ce_all_hab</td>\n",
       "    </tr>\n",
       "    <tr>\n",
       "      <th>3</th>\n",
       "      <td>Abaco</td>\n",
       "      <td>med</td>\n",
       "      <td>3</td>\n",
       "      <td>POINT (163431.129412 3019247.9762)</td>\n",
       "      <td>2.435669</td>\n",
       "      <td>ce_all_hab</td>\n",
       "    </tr>\n",
       "    <tr>\n",
       "      <th>4</th>\n",
       "      <td>Abaco</td>\n",
       "      <td>med</td>\n",
       "      <td>4</td>\n",
       "      <td>POINT (162849.749416 3019245.02939)</td>\n",
       "      <td>2.435669</td>\n",
       "      <td>ce_all_hab</td>\n",
       "    </tr>\n",
       "  </tbody>\n",
       "</table>\n",
       "</div>"
      ],
      "text/plain": [
       "    Name category  fid                             geometry     value  \\\n",
       "0  Abaco      med    0  POINT (162928.413004 3019466.78567)  2.435669   \n",
       "1  Abaco      med    1  POINT (162853.713287 3019270.52392)  2.435669   \n",
       "2  Abaco      med    2   POINT (163216.047947 3019346.4071)  2.435669   \n",
       "3  Abaco      med    3   POINT (163431.129412 3019247.9762)  2.435669   \n",
       "4  Abaco      med    4  POINT (162849.749416 3019245.02939)  2.435669   \n",
       "\n",
       "     variable  \n",
       "0  ce_all_hab  \n",
       "1  ce_all_hab  \n",
       "2  ce_all_hab  \n",
       "3  ce_all_hab  \n",
       "4  ce_all_hab  "
      ]
     },
     "execution_count": 18,
     "metadata": {},
     "output_type": "execute_result"
    }
   ],
   "source": [
    "scen_geo.head()"
   ]
  },
  {
   "cell_type": "code",
   "execution_count": 265,
   "metadata": {
    "collapsed": true
   },
   "outputs": [],
   "source": [
    "scen_geo['geometry'] = scen_geo.buffer(1000)"
   ]
  },
  {
   "cell_type": "code",
   "execution_count": 266,
   "metadata": {
    "collapsed": false
   },
   "outputs": [],
   "source": [
    "island_cats_geo = scen_geo.dissolve(by=['Name', 'category', 'variable'], as_index=False)"
   ]
  },
  {
   "cell_type": "code",
   "execution_count": 269,
   "metadata": {
    "collapsed": false
   },
   "outputs": [],
   "source": [
    "island_cats_geo.crs = scen_geo.crs"
   ]
  },
  {
   "cell_type": "code",
   "execution_count": 270,
   "metadata": {
    "collapsed": false
   },
   "outputs": [],
   "source": [
    "island_cats_geo.to_file('../mpa-removeall-habitat/scenario_data/cv_3scenarios_isl_cat_1kmbuf.shp', )"
   ]
  },
  {
   "cell_type": "markdown",
   "metadata": {},
   "source": [
    "#### now do the zonalstats"
   ]
  },
  {
   "cell_type": "code",
   "execution_count": 19,
   "metadata": {
    "collapsed": false
   },
   "outputs": [],
   "source": [
    "import rasterstats as rs"
   ]
  },
  {
   "cell_type": "code",
   "execution_count": 20,
   "metadata": {
    "collapsed": true
   },
   "outputs": [],
   "source": [
    "island_cats_geo = gpd.read_file('../mpa-removeall-habitat/scenario_data/cv_3scenarios_isl_cat_1kmbuf.shp', )"
   ]
  },
  {
   "cell_type": "code",
   "execution_count": 60,
   "metadata": {
    "collapsed": true
   },
   "outputs": [],
   "source": [
    "def zonal_pop_stats(geodf, raster_path, prefix):\n",
    "    pop_stats = rs.zonal_stats(geodf, raster_path, \n",
    "                           geojson_out=True, prefix=prefix,\n",
    "                          stats=['sum'],\n",
    "                          all_touched=True)\n",
    "    pop_stats_gdf = gpd.GeoDataFrame.from_features(pop_stats)\n",
    "    return pop_stats_gdf"
   ]
  },
  {
   "cell_type": "code",
   "execution_count": 61,
   "metadata": {
    "collapsed": true
   },
   "outputs": [],
   "source": [
    "popdf = zonal_pop_stats(island_cats_geo, '../cv-fromjess/SocialMetrics_GV/pop_int2.tif', 'pop_')\n",
    "more65df = zonal_pop_stats(island_cats_geo, '../cv-fromjess/SocialMetrics_GV/more65.tif', 'more65_')\n",
    "incdf = zonal_pop_stats(island_cats_geo, '../cv-fromjess/SocialMetrics_GV/totinc.tif', 'inc_')"
   ]
  },
  {
   "cell_type": "code",
   "execution_count": null,
   "metadata": {
    "collapsed": true
   },
   "outputs": [],
   "source": [
    "popdf.drop(axis=1, labels='value', inplace=True)"
   ]
  },
  {
   "cell_type": "code",
   "execution_count": 64,
   "metadata": {
    "collapsed": false
   },
   "outputs": [
    {
     "data": {
      "text/html": [
       "<div>\n",
       "<table border=\"1\" class=\"dataframe\">\n",
       "  <thead>\n",
       "    <tr style=\"text-align: right;\">\n",
       "      <th></th>\n",
       "      <th>Name</th>\n",
       "      <th>category</th>\n",
       "      <th>fid</th>\n",
       "      <th>geometry</th>\n",
       "      <th>inc_sum</th>\n",
       "      <th>value</th>\n",
       "      <th>variable</th>\n",
       "    </tr>\n",
       "  </thead>\n",
       "  <tbody>\n",
       "    <tr>\n",
       "      <th>0</th>\n",
       "      <td>Abaco</td>\n",
       "      <td>high</td>\n",
       "      <td>5</td>\n",
       "      <td>(POLYGON ((481248.659205 2435894.45251, 481243...</td>\n",
       "      <td>13616264.00</td>\n",
       "      <td>2.842598</td>\n",
       "      <td>ce_all_hab</td>\n",
       "    </tr>\n",
       "    <tr>\n",
       "      <th>1</th>\n",
       "      <td>Abaco</td>\n",
       "      <td>high</td>\n",
       "      <td>0</td>\n",
       "      <td>(POLYGON ((622429.8413296185 2395884.63459429,...</td>\n",
       "      <td>82664200.00</td>\n",
       "      <td>3.107233</td>\n",
       "      <td>ce_no_habi</td>\n",
       "    </tr>\n",
       "    <tr>\n",
       "      <th>2</th>\n",
       "      <td>Abaco</td>\n",
       "      <td>high</td>\n",
       "      <td>18</td>\n",
       "      <td>(POLYGON ((622429.8413296185 2395884.63459429,...</td>\n",
       "      <td>14797805.00</td>\n",
       "      <td>2.901948</td>\n",
       "      <td>ce_nompa_h</td>\n",
       "    </tr>\n",
       "    <tr>\n",
       "      <th>3</th>\n",
       "      <td>Abaco</td>\n",
       "      <td>low</td>\n",
       "      <td>398</td>\n",
       "      <td>(POLYGON ((482164.523032 2434808.39993, 482159...</td>\n",
       "      <td>58146688.00</td>\n",
       "      <td>2.169935</td>\n",
       "      <td>ce_all_hab</td>\n",
       "    </tr>\n",
       "    <tr>\n",
       "      <th>4</th>\n",
       "      <td>Abaco</td>\n",
       "      <td>low</td>\n",
       "      <td>5229</td>\n",
       "      <td>(POLYGON ((488498.455355 2578157.45413, 488493...</td>\n",
       "      <td>1061186.75</td>\n",
       "      <td>2.154435</td>\n",
       "      <td>ce_no_habi</td>\n",
       "    </tr>\n",
       "  </tbody>\n",
       "</table>\n",
       "</div>"
      ],
      "text/plain": [
       "    Name category   fid                                           geometry  \\\n",
       "0  Abaco     high     5  (POLYGON ((481248.659205 2435894.45251, 481243...   \n",
       "1  Abaco     high     0  (POLYGON ((622429.8413296185 2395884.63459429,...   \n",
       "2  Abaco     high    18  (POLYGON ((622429.8413296185 2395884.63459429,...   \n",
       "3  Abaco      low   398  (POLYGON ((482164.523032 2434808.39993, 482159...   \n",
       "4  Abaco      low  5229  (POLYGON ((488498.455355 2578157.45413, 488493...   \n",
       "\n",
       "       inc_sum     value    variable  \n",
       "0  13616264.00  2.842598  ce_all_hab  \n",
       "1  82664200.00  3.107233  ce_no_habi  \n",
       "2  14797805.00  2.901948  ce_nompa_h  \n",
       "3  58146688.00  2.169935  ce_all_hab  \n",
       "4   1061186.75  2.154435  ce_no_habi  "
      ]
     },
     "execution_count": 64,
     "metadata": {},
     "output_type": "execute_result"
    }
   ],
   "source": [
    "incdf.head()"
   ]
  },
  {
   "cell_type": "code",
   "execution_count": 67,
   "metadata": {
    "collapsed": false
   },
   "outputs": [],
   "source": [
    "popmetrics = pd.concat([popdf, more65df.more65_sum, incdf.inc_sum], axis=1)"
   ]
  },
  {
   "cell_type": "code",
   "execution_count": 68,
   "metadata": {
    "collapsed": true
   },
   "outputs": [
    {
     "data": {
      "text/html": [
       "<div>\n",
       "<table border=\"1\" class=\"dataframe\">\n",
       "  <thead>\n",
       "    <tr style=\"text-align: right;\">\n",
       "      <th></th>\n",
       "      <th>Name</th>\n",
       "      <th>category</th>\n",
       "      <th>fid</th>\n",
       "      <th>geometry</th>\n",
       "      <th>pop_sum</th>\n",
       "      <th>variable</th>\n",
       "      <th>more65_sum</th>\n",
       "      <th>inc_sum</th>\n",
       "    </tr>\n",
       "  </thead>\n",
       "  <tbody>\n",
       "    <tr>\n",
       "      <th>0</th>\n",
       "      <td>Abaco</td>\n",
       "      <td>high</td>\n",
       "      <td>5</td>\n",
       "      <td>(POLYGON ((481248.659205 2435894.45251, 481243...</td>\n",
       "      <td>1486.0</td>\n",
       "      <td>ce_all_hab</td>\n",
       "      <td>80.380608</td>\n",
       "      <td>13616264.00</td>\n",
       "    </tr>\n",
       "    <tr>\n",
       "      <th>1</th>\n",
       "      <td>Abaco</td>\n",
       "      <td>high</td>\n",
       "      <td>0</td>\n",
       "      <td>(POLYGON ((622429.8413296185 2395884.63459429,...</td>\n",
       "      <td>9020.0</td>\n",
       "      <td>ce_no_habi</td>\n",
       "      <td>498.262451</td>\n",
       "      <td>82664200.00</td>\n",
       "    </tr>\n",
       "    <tr>\n",
       "      <th>2</th>\n",
       "      <td>Abaco</td>\n",
       "      <td>high</td>\n",
       "      <td>18</td>\n",
       "      <td>(POLYGON ((622429.8413296185 2395884.63459429,...</td>\n",
       "      <td>1619.0</td>\n",
       "      <td>ce_nompa_h</td>\n",
       "      <td>88.448120</td>\n",
       "      <td>14797805.00</td>\n",
       "    </tr>\n",
       "    <tr>\n",
       "      <th>3</th>\n",
       "      <td>Abaco</td>\n",
       "      <td>low</td>\n",
       "      <td>398</td>\n",
       "      <td>(POLYGON ((482164.523032 2434808.39993, 482159...</td>\n",
       "      <td>6383.0</td>\n",
       "      <td>ce_all_hab</td>\n",
       "      <td>363.251740</td>\n",
       "      <td>58146688.00</td>\n",
       "    </tr>\n",
       "    <tr>\n",
       "      <th>4</th>\n",
       "      <td>Abaco</td>\n",
       "      <td>low</td>\n",
       "      <td>5229</td>\n",
       "      <td>(POLYGON ((488498.455355 2578157.45413, 488493...</td>\n",
       "      <td>115.0</td>\n",
       "      <td>ce_no_habi</td>\n",
       "      <td>9.353016</td>\n",
       "      <td>1061186.75</td>\n",
       "    </tr>\n",
       "  </tbody>\n",
       "</table>\n",
       "</div>"
      ],
      "text/plain": [
       "    Name category   fid                                           geometry  \\\n",
       "0  Abaco     high     5  (POLYGON ((481248.659205 2435894.45251, 481243...   \n",
       "1  Abaco     high     0  (POLYGON ((622429.8413296185 2395884.63459429,...   \n",
       "2  Abaco     high    18  (POLYGON ((622429.8413296185 2395884.63459429,...   \n",
       "3  Abaco      low   398  (POLYGON ((482164.523032 2434808.39993, 482159...   \n",
       "4  Abaco      low  5229  (POLYGON ((488498.455355 2578157.45413, 488493...   \n",
       "\n",
       "   pop_sum    variable  more65_sum      inc_sum  \n",
       "0   1486.0  ce_all_hab   80.380608  13616264.00  \n",
       "1   9020.0  ce_no_habi  498.262451  82664200.00  \n",
       "2   1619.0  ce_nompa_h   88.448120  14797805.00  \n",
       "3   6383.0  ce_all_hab  363.251740  58146688.00  \n",
       "4    115.0  ce_no_habi    9.353016   1061186.75  "
      ]
     },
     "execution_count": 68,
     "metadata": {},
     "output_type": "execute_result"
    }
   ],
   "source": [
    "popmetrics.head()"
   ]
  },
  {
   "cell_type": "code",
   "execution_count": 45,
   "metadata": {
    "collapsed": false
   },
   "outputs": [],
   "source": [
    "# pop_stats = rs.zonal_stats(island_cats_geo, '../cv-fromjess/SocialMetrics_GV/pop_int2.tif', \n",
    "#                            geojson_out=True, prefix='pop_',\n",
    "#                           stats=['min', 'max', 'mean', 'sum', 'count'],\n",
    "#                           all_touched=True)"
   ]
  },
  {
   "cell_type": "code",
   "execution_count": 46,
   "metadata": {
    "collapsed": false
   },
   "outputs": [],
   "source": [
    "# pop_stats_gdf = gpd.GeoDataFrame.from_features(pop_stats)"
   ]
  },
  {
   "cell_type": "code",
   "execution_count": 69,
   "metadata": {
    "collapsed": false
   },
   "outputs": [],
   "source": [
    "# pop_stats_gdf.head()"
   ]
  },
  {
   "cell_type": "code",
   "execution_count": 92,
   "metadata": {
    "collapsed": true
   },
   "outputs": [],
   "source": [
    "def pivot_and_diff(x, valuestring):\n",
    "    df = x[x.variable != 'ce_no_habi']\n",
    "    wide = df.pivot_table(index=['Name', 'category'], columns='variable', values=valuestring)\n",
    "    diffstr = 'diff' + valuestring\n",
    "    wide[diffstr] = wide.ce_nompa_h - wide.ce_all_hab\n",
    "    per_ch_str = 'per_ch_' + valuestring\n",
    "    wide[per_ch_str] = (wide[diffstr]/wide.ce_all_hab)*100\n",
    "    wide.reset_index(inplace=True)\n",
    "#     print(wide.head())\n",
    "    widehigh = wide[wide.category == 'high']\n",
    "    return widehigh"
   ]
  },
  {
   "cell_type": "code",
   "execution_count": 93,
   "metadata": {
    "collapsed": false
   },
   "outputs": [],
   "source": [
    "widepop = pivot_and_diff(popdf, 'pop_sum')\n",
    "widemore65 = pivot_and_diff(more65df, 'more65_sum')\n",
    "wideinc = pivot_and_diff(incdf, 'inc_sum')"
   ]
  },
  {
   "cell_type": "code",
   "execution_count": 94,
   "metadata": {
    "collapsed": false
   },
   "outputs": [
    {
     "data": {
      "text/html": [
       "<div>\n",
       "<table border=\"1\" class=\"dataframe\">\n",
       "  <thead>\n",
       "    <tr style=\"text-align: right;\">\n",
       "      <th>variable</th>\n",
       "      <th>Name</th>\n",
       "      <th>category</th>\n",
       "      <th>ce_all_hab</th>\n",
       "      <th>ce_nompa_h</th>\n",
       "      <th>diffpop_sum</th>\n",
       "      <th>per_ch_pop_sum</th>\n",
       "    </tr>\n",
       "  </thead>\n",
       "  <tbody>\n",
       "    <tr>\n",
       "      <th>0</th>\n",
       "      <td>Abaco</td>\n",
       "      <td>high</td>\n",
       "      <td>1486.0</td>\n",
       "      <td>1619.0</td>\n",
       "      <td>133.0</td>\n",
       "      <td>8.950202</td>\n",
       "    </tr>\n",
       "    <tr>\n",
       "      <th>3</th>\n",
       "      <td>Acklins/Crooked</td>\n",
       "      <td>high</td>\n",
       "      <td>42.0</td>\n",
       "      <td>42.0</td>\n",
       "      <td>0.0</td>\n",
       "      <td>0.000000</td>\n",
       "    </tr>\n",
       "    <tr>\n",
       "      <th>6</th>\n",
       "      <td>Andros</td>\n",
       "      <td>high</td>\n",
       "      <td>44.0</td>\n",
       "      <td>62.0</td>\n",
       "      <td>18.0</td>\n",
       "      <td>40.909091</td>\n",
       "    </tr>\n",
       "    <tr>\n",
       "      <th>9</th>\n",
       "      <td>Berry Islands</td>\n",
       "      <td>high</td>\n",
       "      <td>0.0</td>\n",
       "      <td>42.0</td>\n",
       "      <td>42.0</td>\n",
       "      <td>inf</td>\n",
       "    </tr>\n",
       "    <tr>\n",
       "      <th>12</th>\n",
       "      <td>Bimini</td>\n",
       "      <td>high</td>\n",
       "      <td>NaN</td>\n",
       "      <td>NaN</td>\n",
       "      <td>NaN</td>\n",
       "      <td>NaN</td>\n",
       "    </tr>\n",
       "  </tbody>\n",
       "</table>\n",
       "</div>"
      ],
      "text/plain": [
       "variable             Name category  ce_all_hab  ce_nompa_h  diffpop_sum  \\\n",
       "0                   Abaco     high      1486.0      1619.0        133.0   \n",
       "3         Acklins/Crooked     high        42.0        42.0          0.0   \n",
       "6                  Andros     high        44.0        62.0         18.0   \n",
       "9           Berry Islands     high         0.0        42.0         42.0   \n",
       "12                 Bimini     high         NaN         NaN          NaN   \n",
       "\n",
       "variable  per_ch_pop_sum  \n",
       "0               8.950202  \n",
       "3               0.000000  \n",
       "6              40.909091  \n",
       "9                    inf  \n",
       "12                   NaN  "
      ]
     },
     "execution_count": 94,
     "metadata": {},
     "output_type": "execute_result"
    }
   ],
   "source": [
    "widepop.head()"
   ]
  },
  {
   "cell_type": "code",
   "execution_count": 48,
   "metadata": {
    "collapsed": false
   },
   "outputs": [],
   "source": [
    "# widepop = popdf[popdf.variable != 'ce_no_habi'].pivot_table(index=['Name', 'category'], columns='variable', values='pop_sum')"
   ]
  },
  {
   "cell_type": "code",
   "execution_count": 70,
   "metadata": {
    "collapsed": true
   },
   "outputs": [],
   "source": [
    "# widepop = popmetrics[popmetrics.variable != 'ce_no_habi'].pivot_table(index=['Name', 'category'], \n",
    "#                                                                       columns='variable', \n",
    "#                                                                       values=['pop_sum', 'more65_sum', 'inc_sum'])"
   ]
  },
  {
   "cell_type": "code",
   "execution_count": 79,
   "metadata": {
    "collapsed": false
   },
   "outputs": [],
   "source": [
    "# widepop.head()"
   ]
  },
  {
   "cell_type": "code",
   "execution_count": 49,
   "metadata": {
    "collapsed": false
   },
   "outputs": [],
   "source": [
    "# widepop['diff_pop'] = widepop.ce_nompa_h - widepop.ce_all_hab\n",
    "# widepop['perch_pop'] = (widepop.diff_pop/widepop.ce_all_hab)*100"
   ]
  },
  {
   "cell_type": "code",
   "execution_count": 50,
   "metadata": {
    "collapsed": true
   },
   "outputs": [],
   "source": [
    "# widepop.reset_index(inplace=True)"
   ]
  },
  {
   "cell_type": "code",
   "execution_count": 51,
   "metadata": {
    "collapsed": false
   },
   "outputs": [],
   "source": [
    "# widepophigh = widepop[widepop.category == 'high']"
   ]
  },
  {
   "cell_type": "code",
   "execution_count": 100,
   "metadata": {
    "collapsed": false
   },
   "outputs": [
    {
     "data": {
      "text/html": [
       "<div>\n",
       "<table border=\"1\" class=\"dataframe\">\n",
       "  <thead>\n",
       "    <tr style=\"text-align: right;\">\n",
       "      <th>variable</th>\n",
       "      <th>Name</th>\n",
       "      <th>category</th>\n",
       "      <th>ce_all_hab</th>\n",
       "      <th>ce_nompa_h</th>\n",
       "      <th>diffpop_sum</th>\n",
       "      <th>per_ch_pop_sum</th>\n",
       "    </tr>\n",
       "  </thead>\n",
       "  <tbody>\n",
       "    <tr>\n",
       "      <th>0</th>\n",
       "      <td>Abaco</td>\n",
       "      <td>high</td>\n",
       "      <td>1486.0</td>\n",
       "      <td>1619.0</td>\n",
       "      <td>133.0</td>\n",
       "      <td>8.950202</td>\n",
       "    </tr>\n",
       "    <tr>\n",
       "      <th>3</th>\n",
       "      <td>Acklins/Crooked</td>\n",
       "      <td>high</td>\n",
       "      <td>42.0</td>\n",
       "      <td>42.0</td>\n",
       "      <td>0.0</td>\n",
       "      <td>0.000000</td>\n",
       "    </tr>\n",
       "    <tr>\n",
       "      <th>6</th>\n",
       "      <td>Andros</td>\n",
       "      <td>high</td>\n",
       "      <td>44.0</td>\n",
       "      <td>62.0</td>\n",
       "      <td>18.0</td>\n",
       "      <td>40.909091</td>\n",
       "    </tr>\n",
       "    <tr>\n",
       "      <th>9</th>\n",
       "      <td>Berry Islands</td>\n",
       "      <td>high</td>\n",
       "      <td>0.0</td>\n",
       "      <td>42.0</td>\n",
       "      <td>42.0</td>\n",
       "      <td>inf</td>\n",
       "    </tr>\n",
       "    <tr>\n",
       "      <th>12</th>\n",
       "      <td>Bimini</td>\n",
       "      <td>high</td>\n",
       "      <td>NaN</td>\n",
       "      <td>NaN</td>\n",
       "      <td>NaN</td>\n",
       "      <td>NaN</td>\n",
       "    </tr>\n",
       "    <tr>\n",
       "      <th>15</th>\n",
       "      <td>Cat Island</td>\n",
       "      <td>high</td>\n",
       "      <td>46.0</td>\n",
       "      <td>46.0</td>\n",
       "      <td>0.0</td>\n",
       "      <td>0.000000</td>\n",
       "    </tr>\n",
       "    <tr>\n",
       "      <th>18</th>\n",
       "      <td>Eleuthera</td>\n",
       "      <td>high</td>\n",
       "      <td>64.0</td>\n",
       "      <td>64.0</td>\n",
       "      <td>0.0</td>\n",
       "      <td>0.000000</td>\n",
       "    </tr>\n",
       "    <tr>\n",
       "      <th>21</th>\n",
       "      <td>Exumas</td>\n",
       "      <td>high</td>\n",
       "      <td>375.0</td>\n",
       "      <td>584.0</td>\n",
       "      <td>209.0</td>\n",
       "      <td>55.733333</td>\n",
       "    </tr>\n",
       "    <tr>\n",
       "      <th>24</th>\n",
       "      <td>Grand Bahama</td>\n",
       "      <td>high</td>\n",
       "      <td>1831.0</td>\n",
       "      <td>1999.0</td>\n",
       "      <td>168.0</td>\n",
       "      <td>9.175314</td>\n",
       "    </tr>\n",
       "    <tr>\n",
       "      <th>27</th>\n",
       "      <td>Great Inagua</td>\n",
       "      <td>high</td>\n",
       "      <td>NaN</td>\n",
       "      <td>0.0</td>\n",
       "      <td>NaN</td>\n",
       "      <td>NaN</td>\n",
       "    </tr>\n",
       "    <tr>\n",
       "      <th>32</th>\n",
       "      <td>Long Island</td>\n",
       "      <td>high</td>\n",
       "      <td>59.0</td>\n",
       "      <td>59.0</td>\n",
       "      <td>0.0</td>\n",
       "      <td>0.000000</td>\n",
       "    </tr>\n",
       "    <tr>\n",
       "      <th>37</th>\n",
       "      <td>New Providence</td>\n",
       "      <td>high</td>\n",
       "      <td>7151.0</td>\n",
       "      <td>7151.0</td>\n",
       "      <td>0.0</td>\n",
       "      <td>0.000000</td>\n",
       "    </tr>\n",
       "  </tbody>\n",
       "</table>\n",
       "</div>"
      ],
      "text/plain": [
       "variable             Name category  ce_all_hab  ce_nompa_h  diffpop_sum  \\\n",
       "0                   Abaco     high      1486.0      1619.0        133.0   \n",
       "3         Acklins/Crooked     high        42.0        42.0          0.0   \n",
       "6                  Andros     high        44.0        62.0         18.0   \n",
       "9           Berry Islands     high         0.0        42.0         42.0   \n",
       "12                 Bimini     high         NaN         NaN          NaN   \n",
       "15             Cat Island     high        46.0        46.0          0.0   \n",
       "18              Eleuthera     high        64.0        64.0          0.0   \n",
       "21                 Exumas     high       375.0       584.0        209.0   \n",
       "24           Grand Bahama     high      1831.0      1999.0        168.0   \n",
       "27           Great Inagua     high         NaN         0.0          NaN   \n",
       "32            Long Island     high        59.0        59.0          0.0   \n",
       "37         New Providence     high      7151.0      7151.0          0.0   \n",
       "\n",
       "variable  per_ch_pop_sum  \n",
       "0               8.950202  \n",
       "3               0.000000  \n",
       "6              40.909091  \n",
       "9                    inf  \n",
       "12                   NaN  \n",
       "15              0.000000  \n",
       "18              0.000000  \n",
       "21             55.733333  \n",
       "24              9.175314  \n",
       "27                   NaN  \n",
       "32              0.000000  \n",
       "37              0.000000  "
      ]
     },
     "execution_count": 100,
     "metadata": {},
     "output_type": "execute_result"
    }
   ],
   "source": [
    "widepop"
   ]
  },
  {
   "cell_type": "code",
   "execution_count": 190,
   "metadata": {
    "collapsed": false
   },
   "outputs": [
    {
     "data": {
      "image/png": "[encoded data removed]",
      "text/plain": [
       "<matplotlib.figure.Figure at 0x7fa66da1d490>"
      ]
     },
     "metadata": {},
     "output_type": "display_data"
    }
   ],
   "source": [
    "sns.set_style('ticks')\n",
    "fig, ax = plt.subplots()\n",
    "fig.set_size_inches(8, 8)\n",
    "# cmap = sns.color_palette(['#f44141', '#f4ee41', '#4286f4'])\n",
    "sns.despine()\n",
    "\n",
    "sns.barplot(y='Name', x='diffpop_sum', color='red',\n",
    "#             hue='category', palette=cmap, hue_order=['high', 'med', 'low'], \n",
    "            data=widepop)\n",
    "\n",
    "ax.set(xlabel='change in population within 1km of high exposure coast', ylabel='')\n",
    "# ,\n",
    "#       xlim=(-300, 300))\n",
    "\n",
    "fig.savefig('../figs/cv_population_diff_nompa-allhab.png', dpi=150)\n",
    "fig.savefig('../figs/cv_population_diff_nompa-allhab.svg)"
   ]
  },
  {
   "cell_type": "code",
   "execution_count": 135,
   "metadata": {
    "collapsed": false
   },
   "outputs": [
    {
     "data": {
      "image/png": "[encoded data removed]",
      "text/plain": [
       "<matplotlib.figure.Figure at 0x7fa66dc32ed0>"
      ]
     },
     "metadata": {},
     "output_type": "display_data"
    }
   ],
   "source": [
    "sns.set_style('ticks')\n",
    "fig, ax = plt.subplots()\n",
    "fig.set_size_inches(8, 8)\n",
    "cmap = sns.color_palette(['#f44141', '#f4ee41', '#4286f4'])\n",
    "\n",
    "sns.barplot(y='Name', x='diffmore65_sum', color='red',\n",
    "#             hue='category', palette=cmap, hue_order=['high', 'med', 'low'], \n",
    "            data=widemore65)\n",
    "\n",
    "ax.set(xlabel='change in pop (age > 65) within 1km of high exposure coast', ylabel='')\n",
    "# ,\n",
    "#       xlim=(-300, 300))\n",
    "\n",
    "fig.savefig('../figs/cv_popover65_diff_nompa-allhab.png', dpi=150)\n",
    "fig.savefig('../figs/cv_popover65_diff_nompa-allhab.svg', dpi=150)"
   ]
  },
  {
   "cell_type": "code",
   "execution_count": 136,
   "metadata": {
    "collapsed": false
   },
   "outputs": [
    {
     "data": {
      "image/png": "[encoded data removed]",
      "text/plain": [
       "<matplotlib.figure.Figure at 0x7fa66b3853d0>"
      ]
     },
     "metadata": {},
     "output_type": "display_data"
    }
   ],
   "source": [
    "sns.set_style('ticks')\n",
    "fig, ax = plt.subplots()\n",
    "fig.set_size_inches(8, 8)\n",
    "cmap = sns.color_palette(['#f44141', '#f4ee41', '#4286f4'])\n",
    "\n",
    "sns.barplot(y='Name', x='diffinc_sum', color='red',\n",
    "#             hue='category', palette=cmap, hue_order=['high', 'med', 'low'], \n",
    "            data=wideinc)\n",
    "\n",
    "ax.set(xlabel='change in income within 1km of high exposure coast', ylabel='')\n",
    "# ,\n",
    "#       xlim=(-300, 300))\n",
    "\n",
    "fig.savefig('../figs/cv_income_diff_nompa-allhab.png', dpi=150)\n",
    "fig.savefig('../figs/cv_income_diff_nompa-allhab.svg)"
   ]
  },
  {
   "cell_type": "code",
   "execution_count": null,
   "metadata": {
    "collapsed": true
   },
   "outputs": [],
   "source": []
  },
  {
   "cell_type": "code",
   "execution_count": null,
   "metadata": {
    "collapsed": true
   },
   "outputs": [],
   "source": []
  },
  {
   "cell_type": "code",
   "execution_count": null,
   "metadata": {
    "collapsed": true
   },
   "outputs": [],
   "source": []
  },
  {
   "cell_type": "code",
   "execution_count": null,
   "metadata": {
    "collapsed": true
   },
   "outputs": [],
   "source": []
  },
  {
   "cell_type": "code",
   "execution_count": null,
   "metadata": {
    "collapsed": true
   },
   "outputs": [],
   "source": []
  },
  {
   "cell_type": "code",
   "execution_count": null,
   "metadata": {
    "collapsed": true
   },
   "outputs": [],
   "source": []
  },
  {
   "cell_type": "code",
   "execution_count": null,
   "metadata": {
    "collapsed": true
   },
   "outputs": [],
   "source": []
  },
  {
   "cell_type": "code",
   "execution_count": null,
   "metadata": {
    "collapsed": true
   },
   "outputs": [],
   "source": []
  },
  {
   "cell_type": "code",
   "execution_count": null,
   "metadata": {
    "collapsed": true
   },
   "outputs": [],
   "source": [
    "sns.set_style('ticks')\n",
    "fig, ax = plt.subplots()\n",
    "fig.set_size_inches(8, 8)\n",
    "cmap = sns.color_palette(['#f44141', '#f4ee41', '#4286f4'])\n",
    "\n",
    "sns.barplot(y='Name', x='diff_km', \n",
    "            hue='category', palette=cmap, hue_order=['high', 'med', 'low'], \n",
    "            data=pop_stats_gdf)\n",
    "\n",
    "ax.set(xlabel='change in km of shore', ylabel='',\n",
    "      xlim=(-300, 300))\n",
    "\n",
    "fig.savefig('../figs/cv_shorelength_diff_nompa-allhab.png')\n",
    "fig.savefig('../figs/cv_shorelength_diff_nompa-allhab.svg')"
   ]
  },
  {
   "cell_type": "code",
   "execution_count": null,
   "metadata": {
    "collapsed": true
   },
   "outputs": [],
   "source": [
    "# put island levels on points\n",
    "# put categories on points\n",
    "# slice by island, then by category and\n",
    "# buffer and dissolve points, calc zonal stats on the population rasters\n",
    "# also want km of coastline (aka number of points) in each category, for each island\n"
   ]
  },
  {
   "cell_type": "code",
   "execution_count": 75,
   "metadata": {
    "collapsed": true
   },
   "outputs": [],
   "source": [
    "scenarios.to_csv('../mpa-removeall-habitat/scenario_data/national_cv_3scenarios.csv')"
   ]
  },
  {
   "cell_type": "code",
   "execution_count": 77,
   "metadata": {
    "collapsed": false
   },
   "outputs": [],
   "source": [
    "geo_df = gpd.GeoDataFrame(scenarios, crs=national_shp.crs, geometry=national_shp.geometry)"
   ]
  },
  {
   "cell_type": "code",
   "execution_count": 78,
   "metadata": {
    "collapsed": true
   },
   "outputs": [],
   "source": [
    "geo_df.to_file('../mpa-removeall-habitat/scenario_data/national_cv_3scenarios.shp')"
   ]
  },
  {
   "cell_type": "code",
   "execution_count": 79,
   "metadata": {
    "collapsed": false
   },
   "outputs": [],
   "source": [
    "# put the above code into a function that can work on each habitat,\n",
    "# re-compute the coastal forest score after that\n",
    "# re-compute habitat rank\n",
    "# re-compute exposure index\n",
    "# summarize change in EI by island\n",
    "# summarize change in # of people by island"
   ]
  }
 ],
 "metadata": {
  "kernelspec": {
   "display_name": "Python 2",
   "language": "python",
   "name": "python2"
  },
  "language_info": {
   "codemirror_mode": {
    "name": "ipython",
    "version": 2
   },
   "file_extension": ".py",
   "mimetype": "text/x-python",
   "name": "python",
   "nbconvert_exporter": "python",
   "pygments_lexer": "ipython2",
   "version": "2.7.6"
  }
 },
 "nbformat": 4,
 "nbformat_minor": 0
}
