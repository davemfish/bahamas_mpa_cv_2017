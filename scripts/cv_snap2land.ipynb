{
 "cells": [
  {
   "cell_type": "markdown",
   "metadata": {},
   "source": [
    "Summarize Coastal Vulnerability results by subregions.\n",
    "For example, plot the average 'coastal_exposure' or 'habitat_role' value for all points within an area.\n",
    "\n",
    "Intersect points with subregion polygons, make boxplots."
   ]
  },
  {
   "cell_type": "code",
   "execution_count": 90,
   "metadata": {
    "collapsed": false
   },
   "outputs": [],
   "source": [
    "import pandas as pd\n",
    "import os\n",
    "import geopandas as gpd\n",
    "import fiona\n",
    "from shapely.geometry import MultiPoint, MultiPolygon, mapping\n",
    "from shapely.ops import snap\n",
    "%matplotlib inline"
   ]
  },
  {
   "cell_type": "code",
   "execution_count": 2,
   "metadata": {
    "collapsed": false
   },
   "outputs": [
    {
     "data": {
      "text/plain": [
       "'1.5.17.post1'"
      ]
     },
     "execution_count": 2,
     "metadata": {},
     "output_type": "execute_result"
    }
   ],
   "source": [
    "shapely.__version__"
   ]
  },
  {
   "cell_type": "code",
   "execution_count": 3,
   "metadata": {
    "collapsed": true
   },
   "outputs": [],
   "source": [
    "workspace = '../mpa-removeall-habitat/cv-output-invest3.3.0/'"
   ]
  },
  {
   "cell_type": "code",
   "execution_count": 4,
   "metadata": {
    "collapsed": false
   },
   "outputs": [],
   "source": [
    "ce_pts = gpd.read_file(os.path.join(workspace, 'outputs/coastal_exposure/coastal_exposure.shp'))"
   ]
  },
  {
   "cell_type": "code",
   "execution_count": 46,
   "metadata": {
    "collapsed": true
   },
   "outputs": [],
   "source": [
    "subregions = gpd.read_file('/home/dmf/bahamas-mpa/cv/cv-fromjess/Bahamas_regionalCV_Inputs/LandPoly_Bahamas_subregions.shp')"
   ]
  },
  {
   "cell_type": "code",
   "execution_count": 47,
   "metadata": {
    "collapsed": false
   },
   "outputs": [],
   "source": [
    "geom_pts = MultiPoint(ce_pts.geometry)"
   ]
  },
  {
   "cell_type": "code",
   "execution_count": 102,
   "metadata": {
    "collapsed": true
   },
   "outputs": [],
   "source": [
    "regions_union = subregions.geometry.unary_union"
   ]
  },
  {
   "cell_type": "code",
   "execution_count": 118,
   "metadata": {
    "collapsed": false
   },
   "outputs": [
    {
     "data": {
      "text/plain": [
       "shapely.geometry.multipolygon.MultiPolygon"
      ]
     },
     "execution_count": 118,
     "metadata": {},
     "output_type": "execute_result"
    }
   ],
   "source": [
    "type(regions_union)"
   ]
  },
  {
   "cell_type": "code",
   "execution_count": 52,
   "metadata": {
    "collapsed": false
   },
   "outputs": [],
   "source": [
    "geom_regions = MultiPolygon(subregions.geometry.unary_union)"
   ]
  },
  {
   "cell_type": "code",
   "execution_count": 101,
   "metadata": {
    "collapsed": false
   },
   "outputs": [
    {
     "ename": "NotImplementedError",
     "evalue": "Multi-part geometries do not provide a coordinate sequence",
     "output_type": "error",
     "traceback": [
      "\u001b[1;31m---------------------------------------------------------------------------\u001b[0m",
      "\u001b[1;31mNotImplementedError\u001b[0m                       Traceback (most recent call last)",
      "\u001b[1;32m<ipython-input-101-728903b2ab63>\u001b[0m in \u001b[0;36m<module>\u001b[1;34m()\u001b[0m\n\u001b[1;32m----> 1\u001b[1;33m \u001b[0mtype\u001b[0m\u001b[1;33m(\u001b[0m\u001b[0mgeom_regions\u001b[0m\u001b[1;33m.\u001b[0m\u001b[0mboundary\u001b[0m\u001b[1;33m.\u001b[0m\u001b[0mcoords\u001b[0m\u001b[1;33m)\u001b[0m\u001b[1;33m\u001b[0m\u001b[0m\n\u001b[0m",
      "\u001b[1;32m/usr/local/lib/python2.7/dist-packages/shapely/geometry/base.pyc\u001b[0m in \u001b[0;36mcoords\u001b[1;34m(self)\u001b[0m\n\u001b[0;32m    740\u001b[0m     \u001b[1;32mdef\u001b[0m \u001b[0mcoords\u001b[0m\u001b[1;33m(\u001b[0m\u001b[0mself\u001b[0m\u001b[1;33m)\u001b[0m\u001b[1;33m:\u001b[0m\u001b[1;33m\u001b[0m\u001b[0m\n\u001b[0;32m    741\u001b[0m         raise NotImplementedError(\n\u001b[1;32m--> 742\u001b[1;33m             \"Multi-part geometries do not provide a coordinate sequence\")\n\u001b[0m\u001b[0;32m    743\u001b[0m \u001b[1;33m\u001b[0m\u001b[0m\n\u001b[0;32m    744\u001b[0m     \u001b[1;33m@\u001b[0m\u001b[0mproperty\u001b[0m\u001b[1;33m\u001b[0m\u001b[0m\n",
      "\u001b[1;31mNotImplementedError\u001b[0m: Multi-part geometries do not provide a coordinate sequence"
     ]
    }
   ],
   "source": [
    "type(geom_regions.boundary.coords)"
   ]
  },
  {
   "cell_type": "code",
   "execution_count": 78,
   "metadata": {
    "collapsed": false
   },
   "outputs": [],
   "source": [
    "# snap the points to the subregions so that offshore points get included.\n",
    "# and save snapped output\n",
    "# snapped_pts = snap(geom_pts[0:1000], geom_regions, 0.10)\n",
    "snapped_pts = ce_pts.geometry.apply(lambda x: snap(x, geom_regions, 600))"
   ]
  },
  {
   "cell_type": "code",
   "execution_count": 116,
   "metadata": {
    "collapsed": true
   },
   "outputs": [],
   "source": [
    "snapped_pts = ce_pts[0:20].geometry.apply(lambda x: snap(x, regions_union, 100))"
   ]
  },
  {
   "cell_type": "code",
   "execution_count": 92,
   "metadata": {
    "collapsed": false
   },
   "outputs": [
    {
     "data": {
      "text/plain": [
       "<matplotlib.axes.AxesSubplot at 0x7f90054db4d0>"
      ]
     },
     "execution_count": 92,
     "metadata": {},
     "output_type": "execute_result"
    },
    {
     "data": {
      "image/png": "[encoded data removed]",
      "text/plain": [
       "<matplotlib.figure.Figure at 0x7f90054dbd90>"
      ]
     },
     "metadata": {},
     "output_type": "display_data"
    }
   ],
   "source": [
    "snaptest.plot()"
   ]
  },
  {
   "cell_type": "code",
   "execution_count": 79,
   "metadata": {
    "collapsed": false
   },
   "outputs": [
    {
     "data": {
      "text/plain": [
       "True"
      ]
     },
     "execution_count": 79,
     "metadata": {},
     "output_type": "execute_result"
    }
   ],
   "source": [
    "len(snapped_pts) == len(ce_pts['FID'])"
   ]
  },
  {
   "cell_type": "code",
   "execution_count": 117,
   "metadata": {
    "collapsed": false
   },
   "outputs": [],
   "source": [
    "schema = {\n",
    "    'geometry': 'Point',\n",
    "    'properties': {'FID': 'int'},\n",
    "}\n",
    "\n",
    "with fiona.open(os.path.join(workspace, 'coastal_exposure_snapped2test_100.shp'), \n",
    "                'w', 'ESRI Shapefile', \n",
    "                schema, crs=ce_pts.crs) as c:\n",
    "    for p, f in zip(snapped_pts, ce_pts[0:20]['FID']):\n",
    "        c.write({\n",
    "            'geometry': mapping(p),\n",
    "            'properties': {'FID': f},\n",
    "        })"
   ]
  },
  {
   "cell_type": "code",
   "execution_count": 67,
   "metadata": {
    "collapsed": true
   },
   "outputs": [],
   "source": [
    "pt = snapped_pts[0]"
   ]
  },
  {
   "cell_type": "code",
   "execution_count": 73,
   "metadata": {
    "collapsed": false
   },
   "outputs": [
    {
     "data": {
      "text/plain": [
       "{'coordinates': (162996.410662489, 3019659.2443845663), 'type': 'Point'}"
      ]
     },
     "execution_count": 73,
     "metadata": {},
     "output_type": "execute_result"
    }
   ],
   "source": [
    "pt.coords.xy\n",
    "mapping(pt)"
   ]
  },
  {
   "cell_type": "code",
   "execution_count": 72,
   "metadata": {
    "collapsed": false
   },
   "outputs": [
    {
     "name": "stdout",
     "output_type": "stream",
     "text": [
      "((array('d', [162996.410662489]), array('d', [3019659.2443845663])), 0.0)\n",
      "((array('d', [162746.410662489]), array('d', [3019409.2443845663])), 1.0)\n",
      "((array('d', [163246.410662489]), array('d', [3019409.2443845663])), 2.0)\n",
      "((array('d', [163496.410662489]), array('d', [3019409.2443845663])), 3.0)\n",
      "((array('d', [162746.410662489]), array('d', [3019159.2443845663])), 4.0)\n",
      "((array('d', [163246.410662489]), array('d', [3019159.2443845663])), 5.0)\n",
      "((array('d', [163746.410662489]), array('d', [3019159.2443845663])), 6.0)\n",
      "((array('d', [163996.410662489]), array('d', [3019159.2443845663])), 7.0)\n",
      "((array('d', [162996.410662489]), array('d', [3018909.2443845663])), 8.0)\n",
      "((array('d', [163496.410662489]), array('d', [3018909.2443845663])), 9.0)\n",
      "((array('d', [163746.410662489]), array('d', [3018909.2443845663])), 10.0)\n",
      "((array('d', [164246.410662489]), array('d', [3018909.2443845663])), 11.0)\n",
      "((array('d', [163996.410662489]), array('d', [3018659.2443845663])), 12.0)\n",
      "((array('d', [169746.410662489]), array('d', [3016659.2443845663])), 13.0)\n",
      "((array('d', [169996.410662489]), array('d', [3016659.2443845663])), 14.0)\n",
      "((array('d', [169496.410662489]), array('d', [3016409.2443845663])), 15.0)\n",
      "((array('d', [170246.410662489]), array('d', [3016409.2443845663])), 16.0)\n",
      "((array('d', [170496.410662489]), array('d', [3016409.2443845663])), 17.0)\n",
      "((array('d', [170746.410662489]), array('d', [3016409.2443845663])), 18.0)\n",
      "((array('d', [169496.410662489]), array('d', [3016159.2443845663])), 19.0)\n",
      "((array('d', [170996.410662489]), array('d', [3016159.2443845663])), 20.0)\n",
      "((array('d', [169246.410662489]), array('d', [3015909.2443845663])), 21.0)\n",
      "((array('d', [170996.410662489]), array('d', [3015909.2443845663])), 22.0)\n",
      "((array('d', [168996.410662489]), array('d', [3015659.2443845663])), 23.0)\n",
      "((array('d', [170746.410662489]), array('d', [3015659.2443845663])), 24.0)\n",
      "((array('d', [171246.410662489]), array('d', [3015659.2443845663])), 25.0)\n",
      "((array('d', [171496.410662489]), array('d', [3015659.2443845663])), 26.0)\n",
      "((array('d', [171746.410662489]), array('d', [3015659.2443845663])), 27.0)\n",
      "((array('d', [168746.410662489]), array('d', [3015409.2443845663])), 28.0)\n",
      "((array('d', [168996.410662489]), array('d', [3015409.2443845663])), 29.0)\n",
      "((array('d', [169746.410662489]), array('d', [3015409.2443845663])), 30.0)\n",
      "((array('d', [170496.410662489]), array('d', [3015409.2443845663])), 31.0)\n",
      "((array('d', [170996.410662489]), array('d', [3015409.2443845663])), 32.0)\n",
      "((array('d', [171996.410662489]), array('d', [3015409.2443845663])), 33.0)\n",
      "((array('d', [168496.410662489]), array('d', [3015159.2443845663])), 34.0)\n",
      "((array('d', [169996.410662489]), array('d', [3015159.2443845663])), 35.0)\n",
      "((array('d', [170246.410662489]), array('d', [3015159.2443845663])), 36.0)\n",
      "((array('d', [170746.410662489]), array('d', [3015159.2443845663])), 37.0)\n",
      "((array('d', [170996.410662489]), array('d', [3015159.2443845663])), 38.0)\n",
      "((array('d', [171996.410662489]), array('d', [3015159.2443845663])), 39.0)\n",
      "((array('d', [168746.410662489]), array('d', [3014909.2443845663])), 40.0)\n",
      "((array('d', [168996.410662489]), array('d', [3014909.2443845663])), 41.0)\n",
      "((array('d', [169246.410662489]), array('d', [3014909.2443845663])), 42.0)\n",
      "((array('d', [169996.410662489]), array('d', [3014909.2443845663])), 43.0)\n",
      "((array('d', [170496.410662489]), array('d', [3014909.2443845663])), 44.0)\n",
      "((array('d', [171246.410662489]), array('d', [3014909.2443845663])), 45.0)\n",
      "((array('d', [171996.410662489]), array('d', [3014909.2443845663])), 46.0)\n",
      "((array('d', [172246.410662489]), array('d', [3014909.2443845663])), 47.0)\n",
      "((array('d', [172496.410662489]), array('d', [3014909.2443845663])), 48.0)\n",
      "((array('d', [169496.410662489]), array('d', [3014659.2443845663])), 49.0)\n"
     ]
    }
   ],
   "source": [
    "for p, f in zip(snapped_pts[0:50], ce_pts['FID'][0:50]):\n",
    "    print(p.coords.xy, f)"
   ]
  },
  {
   "cell_type": "code",
   "execution_count": 36,
   "metadata": {
    "collapsed": false
   },
   "outputs": [
    {
     "ename": "TypeError",
     "evalue": "float() argument must be a string or a number",
     "output_type": "error",
     "traceback": [
      "\u001b[1;31m---------------------------------------------------------------------------\u001b[0m",
      "\u001b[1;31mTypeError\u001b[0m                                 Traceback (most recent call last)",
      "\u001b[1;32m<ipython-input-36-5cd159cc929b>\u001b[0m in \u001b[0;36m<module>\u001b[1;34m()\u001b[0m\n\u001b[1;32m----> 1\u001b[1;33m \u001b[0mce_pts_snapped\u001b[0m\u001b[1;33m[\u001b[0m\u001b[1;34m'snapped_geom'\u001b[0m\u001b[1;33m]\u001b[0m \u001b[1;33m=\u001b[0m \u001b[0msnapped_pts\u001b[0m\u001b[1;33m\u001b[0m\u001b[0m\n\u001b[0m",
      "\u001b[1;32m/usr/local/lib/python2.7/dist-packages/pandas/core/frame.pyc\u001b[0m in \u001b[0;36m__setitem__\u001b[1;34m(self, key, value)\u001b[0m\n\u001b[0;32m   2346\u001b[0m         \u001b[1;32melse\u001b[0m\u001b[1;33m:\u001b[0m\u001b[1;33m\u001b[0m\u001b[0m\n\u001b[0;32m   2347\u001b[0m             \u001b[1;31m# set column\u001b[0m\u001b[1;33m\u001b[0m\u001b[1;33m\u001b[0m\u001b[0m\n\u001b[1;32m-> 2348\u001b[1;33m             \u001b[0mself\u001b[0m\u001b[1;33m.\u001b[0m\u001b[0m_set_item\u001b[0m\u001b[1;33m(\u001b[0m\u001b[0mkey\u001b[0m\u001b[1;33m,\u001b[0m \u001b[0mvalue\u001b[0m\u001b[1;33m)\u001b[0m\u001b[1;33m\u001b[0m\u001b[0m\n\u001b[0m\u001b[0;32m   2349\u001b[0m \u001b[1;33m\u001b[0m\u001b[0m\n\u001b[0;32m   2350\u001b[0m     \u001b[1;32mdef\u001b[0m \u001b[0m_setitem_slice\u001b[0m\u001b[1;33m(\u001b[0m\u001b[0mself\u001b[0m\u001b[1;33m,\u001b[0m \u001b[0mkey\u001b[0m\u001b[1;33m,\u001b[0m \u001b[0mvalue\u001b[0m\u001b[1;33m)\u001b[0m\u001b[1;33m:\u001b[0m\u001b[1;33m\u001b[0m\u001b[0m\n",
      "\u001b[1;32m/usr/local/lib/python2.7/dist-packages/pandas/core/frame.pyc\u001b[0m in \u001b[0;36m_set_item\u001b[1;34m(self, key, value)\u001b[0m\n\u001b[0;32m   2412\u001b[0m \u001b[1;33m\u001b[0m\u001b[0m\n\u001b[0;32m   2413\u001b[0m         \u001b[0mself\u001b[0m\u001b[1;33m.\u001b[0m\u001b[0m_ensure_valid_index\u001b[0m\u001b[1;33m(\u001b[0m\u001b[0mvalue\u001b[0m\u001b[1;33m)\u001b[0m\u001b[1;33m\u001b[0m\u001b[0m\n\u001b[1;32m-> 2414\u001b[1;33m         \u001b[0mvalue\u001b[0m \u001b[1;33m=\u001b[0m \u001b[0mself\u001b[0m\u001b[1;33m.\u001b[0m\u001b[0m_sanitize_column\u001b[0m\u001b[1;33m(\u001b[0m\u001b[0mkey\u001b[0m\u001b[1;33m,\u001b[0m \u001b[0mvalue\u001b[0m\u001b[1;33m)\u001b[0m\u001b[1;33m\u001b[0m\u001b[0m\n\u001b[0m\u001b[0;32m   2415\u001b[0m         \u001b[0mNDFrame\u001b[0m\u001b[1;33m.\u001b[0m\u001b[0m_set_item\u001b[0m\u001b[1;33m(\u001b[0m\u001b[0mself\u001b[0m\u001b[1;33m,\u001b[0m \u001b[0mkey\u001b[0m\u001b[1;33m,\u001b[0m \u001b[0mvalue\u001b[0m\u001b[1;33m)\u001b[0m\u001b[1;33m\u001b[0m\u001b[0m\n\u001b[0;32m   2416\u001b[0m \u001b[1;33m\u001b[0m\u001b[0m\n",
      "\u001b[1;32m/usr/local/lib/python2.7/dist-packages/pandas/core/frame.pyc\u001b[0m in \u001b[0;36m_sanitize_column\u001b[1;34m(self, key, value)\u001b[0m\n\u001b[0;32m   2575\u001b[0m                     \u001b[0mvalue\u001b[0m \u001b[1;33m=\u001b[0m \u001b[0mcom\u001b[0m\u001b[1;33m.\u001b[0m\u001b[0m_possibly_convert_platform\u001b[0m\u001b[1;33m(\u001b[0m\u001b[0mvalue\u001b[0m\u001b[1;33m)\u001b[0m\u001b[1;33m\u001b[0m\u001b[0m\n\u001b[0;32m   2576\u001b[0m                 \u001b[1;32melse\u001b[0m\u001b[1;33m:\u001b[0m\u001b[1;33m\u001b[0m\u001b[0m\n\u001b[1;32m-> 2577\u001b[1;33m                     \u001b[0mvalue\u001b[0m \u001b[1;33m=\u001b[0m \u001b[0mcom\u001b[0m\u001b[1;33m.\u001b[0m\u001b[0m_asarray_tuplesafe\u001b[0m\u001b[1;33m(\u001b[0m\u001b[0mvalue\u001b[0m\u001b[1;33m)\u001b[0m\u001b[1;33m\u001b[0m\u001b[0m\n\u001b[0m\u001b[0;32m   2578\u001b[0m             \u001b[1;32melif\u001b[0m \u001b[0mvalue\u001b[0m\u001b[1;33m.\u001b[0m\u001b[0mndim\u001b[0m \u001b[1;33m==\u001b[0m \u001b[1;36m2\u001b[0m\u001b[1;33m:\u001b[0m\u001b[1;33m\u001b[0m\u001b[0m\n\u001b[0;32m   2579\u001b[0m                 \u001b[0mvalue\u001b[0m \u001b[1;33m=\u001b[0m \u001b[0mvalue\u001b[0m\u001b[1;33m.\u001b[0m\u001b[0mcopy\u001b[0m\u001b[1;33m(\u001b[0m\u001b[1;33m)\u001b[0m\u001b[1;33m.\u001b[0m\u001b[0mT\u001b[0m\u001b[1;33m\u001b[0m\u001b[0m\n",
      "\u001b[1;32m/usr/local/lib/python2.7/dist-packages/pandas/core/common.pyc\u001b[0m in \u001b[0;36m_asarray_tuplesafe\u001b[1;34m(values, dtype)\u001b[0m\n\u001b[0;32m   2101\u001b[0m         \u001b[1;32mreturn\u001b[0m \u001b[0mlib\u001b[0m\u001b[1;33m.\u001b[0m\u001b[0mlist_to_object_array\u001b[0m\u001b[1;33m(\u001b[0m\u001b[0mvalues\u001b[0m\u001b[1;33m)\u001b[0m\u001b[1;33m\u001b[0m\u001b[0m\n\u001b[0;32m   2102\u001b[0m \u001b[1;33m\u001b[0m\u001b[0m\n\u001b[1;32m-> 2103\u001b[1;33m     \u001b[0mresult\u001b[0m \u001b[1;33m=\u001b[0m \u001b[0mnp\u001b[0m\u001b[1;33m.\u001b[0m\u001b[0masarray\u001b[0m\u001b[1;33m(\u001b[0m\u001b[0mvalues\u001b[0m\u001b[1;33m,\u001b[0m \u001b[0mdtype\u001b[0m\u001b[1;33m=\u001b[0m\u001b[0mdtype\u001b[0m\u001b[1;33m)\u001b[0m\u001b[1;33m\u001b[0m\u001b[0m\n\u001b[0m\u001b[0;32m   2104\u001b[0m \u001b[1;33m\u001b[0m\u001b[0m\n\u001b[0;32m   2105\u001b[0m     \u001b[1;32mif\u001b[0m \u001b[0missubclass\u001b[0m\u001b[1;33m(\u001b[0m\u001b[0mresult\u001b[0m\u001b[1;33m.\u001b[0m\u001b[0mdtype\u001b[0m\u001b[1;33m.\u001b[0m\u001b[0mtype\u001b[0m\u001b[1;33m,\u001b[0m \u001b[0mcompat\u001b[0m\u001b[1;33m.\u001b[0m\u001b[0mstring_types\u001b[0m\u001b[1;33m)\u001b[0m\u001b[1;33m:\u001b[0m\u001b[1;33m\u001b[0m\u001b[0m\n",
      "\u001b[1;32m/usr/lib/python2.7/dist-packages/numpy/core/numeric.pyc\u001b[0m in \u001b[0;36masarray\u001b[1;34m(a, dtype, order)\u001b[0m\n\u001b[0;32m    458\u001b[0m \u001b[1;33m\u001b[0m\u001b[0m\n\u001b[0;32m    459\u001b[0m     \"\"\"\n\u001b[1;32m--> 460\u001b[1;33m     \u001b[1;32mreturn\u001b[0m \u001b[0marray\u001b[0m\u001b[1;33m(\u001b[0m\u001b[0ma\u001b[0m\u001b[1;33m,\u001b[0m \u001b[0mdtype\u001b[0m\u001b[1;33m,\u001b[0m \u001b[0mcopy\u001b[0m\u001b[1;33m=\u001b[0m\u001b[0mFalse\u001b[0m\u001b[1;33m,\u001b[0m \u001b[0morder\u001b[0m\u001b[1;33m=\u001b[0m\u001b[0morder\u001b[0m\u001b[1;33m)\u001b[0m\u001b[1;33m\u001b[0m\u001b[0m\n\u001b[0m\u001b[0;32m    461\u001b[0m \u001b[1;33m\u001b[0m\u001b[0m\n\u001b[0;32m    462\u001b[0m \u001b[1;32mdef\u001b[0m \u001b[0masanyarray\u001b[0m\u001b[1;33m(\u001b[0m\u001b[0ma\u001b[0m\u001b[1;33m,\u001b[0m \u001b[0mdtype\u001b[0m\u001b[1;33m=\u001b[0m\u001b[0mNone\u001b[0m\u001b[1;33m,\u001b[0m \u001b[0morder\u001b[0m\u001b[1;33m=\u001b[0m\u001b[0mNone\u001b[0m\u001b[1;33m)\u001b[0m\u001b[1;33m:\u001b[0m\u001b[1;33m\u001b[0m\u001b[0m\n",
      "\u001b[1;31mTypeError\u001b[0m: float() argument must be a string or a number"
     ]
    }
   ],
   "source": [
    "ce_pts_snapped['snapped_geom'] = snapped_pts"
   ]
  },
  {
   "cell_type": "code",
   "execution_count": 32,
   "metadata": {
    "collapsed": false
   },
   "outputs": [],
   "source": [
    "# intsect = ce_pts['geometry'].intersects(subregions['geometry'])"
   ]
  },
  {
   "cell_type": "code",
   "execution_count": 33,
   "metadata": {
    "collapsed": false
   },
   "outputs": [
    {
     "data": {
      "text/plain": [
       "False    27263\n",
       "dtype: int64"
      ]
     },
     "execution_count": 33,
     "metadata": {},
     "output_type": "execute_result"
    }
   ],
   "source": [
    "# intsect.value_counts()"
   ]
  },
  {
   "cell_type": "code",
   "execution_count": 36,
   "metadata": {
    "collapsed": false
   },
   "outputs": [],
   "source": [
    "# pts_in_region = gpd.sjoin(ce_pts, subregions, how='inner', op='intersects')"
   ]
  },
  {
   "cell_type": "code",
   "execution_count": 37,
   "metadata": {
    "collapsed": false
   },
   "outputs": [
    {
     "data": {
      "text/html": [
       "<div>\n",
       "<table border=\"1\" class=\"dataframe\">\n",
       "  <thead>\n",
       "    <tr style=\"text-align: right;\">\n",
       "      <th></th>\n",
       "      <th>FID</th>\n",
       "      <th>geometry</th>\n",
       "      <th>index_right</th>\n",
       "      <th>CCA_1</th>\n",
       "      <th>CCN_1</th>\n",
       "      <th>ENGTYPE_1</th>\n",
       "      <th>HASC_1</th>\n",
       "      <th>ID_0</th>\n",
       "      <th>ID_1</th>\n",
       "      <th>ISO</th>\n",
       "      <th>NAME_0</th>\n",
       "      <th>NAME_1</th>\n",
       "      <th>NL_NAME_1</th>\n",
       "      <th>TYPE_1</th>\n",
       "      <th>VARNAME_1</th>\n",
       "    </tr>\n",
       "  </thead>\n",
       "  <tbody>\n",
       "    <tr>\n",
       "      <th>0</th>\n",
       "      <td>0.0</td>\n",
       "      <td>POINT (162996.410662489 3019659.244384566)</td>\n",
       "      <td>12</td>\n",
       "      <td>None</td>\n",
       "      <td>0</td>\n",
       "      <td>District</td>\n",
       "      <td>BS.GC</td>\n",
       "      <td>18</td>\n",
       "      <td>13</td>\n",
       "      <td>BHS</td>\n",
       "      <td>Bahamas</td>\n",
       "      <td>Grand Cay</td>\n",
       "      <td>None</td>\n",
       "      <td>District</td>\n",
       "      <td>None</td>\n",
       "    </tr>\n",
       "    <tr>\n",
       "      <th>13</th>\n",
       "      <td>13.0</td>\n",
       "      <td>POINT (169746.410662489 3016659.244384566)</td>\n",
       "      <td>12</td>\n",
       "      <td>None</td>\n",
       "      <td>0</td>\n",
       "      <td>District</td>\n",
       "      <td>BS.GC</td>\n",
       "      <td>18</td>\n",
       "      <td>13</td>\n",
       "      <td>BHS</td>\n",
       "      <td>Bahamas</td>\n",
       "      <td>Grand Cay</td>\n",
       "      <td>None</td>\n",
       "      <td>District</td>\n",
       "      <td>None</td>\n",
       "    </tr>\n",
       "    <tr>\n",
       "      <th>14</th>\n",
       "      <td>14.0</td>\n",
       "      <td>POINT (169996.410662489 3016659.244384566)</td>\n",
       "      <td>12</td>\n",
       "      <td>None</td>\n",
       "      <td>0</td>\n",
       "      <td>District</td>\n",
       "      <td>BS.GC</td>\n",
       "      <td>18</td>\n",
       "      <td>13</td>\n",
       "      <td>BHS</td>\n",
       "      <td>Bahamas</td>\n",
       "      <td>Grand Cay</td>\n",
       "      <td>None</td>\n",
       "      <td>District</td>\n",
       "      <td>None</td>\n",
       "    </tr>\n",
       "    <tr>\n",
       "      <th>15</th>\n",
       "      <td>15.0</td>\n",
       "      <td>POINT (169496.410662489 3016409.244384566)</td>\n",
       "      <td>12</td>\n",
       "      <td>None</td>\n",
       "      <td>0</td>\n",
       "      <td>District</td>\n",
       "      <td>BS.GC</td>\n",
       "      <td>18</td>\n",
       "      <td>13</td>\n",
       "      <td>BHS</td>\n",
       "      <td>Bahamas</td>\n",
       "      <td>Grand Cay</td>\n",
       "      <td>None</td>\n",
       "      <td>District</td>\n",
       "      <td>None</td>\n",
       "    </tr>\n",
       "    <tr>\n",
       "      <th>16</th>\n",
       "      <td>16.0</td>\n",
       "      <td>POINT (170246.410662489 3016409.244384566)</td>\n",
       "      <td>12</td>\n",
       "      <td>None</td>\n",
       "      <td>0</td>\n",
       "      <td>District</td>\n",
       "      <td>BS.GC</td>\n",
       "      <td>18</td>\n",
       "      <td>13</td>\n",
       "      <td>BHS</td>\n",
       "      <td>Bahamas</td>\n",
       "      <td>Grand Cay</td>\n",
       "      <td>None</td>\n",
       "      <td>District</td>\n",
       "      <td>None</td>\n",
       "    </tr>\n",
       "  </tbody>\n",
       "</table>\n",
       "</div>"
      ],
      "text/plain": [
       "     FID                                    geometry  index_right CCA_1  \\\n",
       "0    0.0  POINT (162996.410662489 3019659.244384566)           12  None   \n",
       "13  13.0  POINT (169746.410662489 3016659.244384566)           12  None   \n",
       "14  14.0  POINT (169996.410662489 3016659.244384566)           12  None   \n",
       "15  15.0  POINT (169496.410662489 3016409.244384566)           12  None   \n",
       "16  16.0  POINT (170246.410662489 3016409.244384566)           12  None   \n",
       "\n",
       "    CCN_1 ENGTYPE_1 HASC_1  ID_0  ID_1  ISO   NAME_0     NAME_1 NL_NAME_1  \\\n",
       "0       0  District  BS.GC    18    13  BHS  Bahamas  Grand Cay      None   \n",
       "13      0  District  BS.GC    18    13  BHS  Bahamas  Grand Cay      None   \n",
       "14      0  District  BS.GC    18    13  BHS  Bahamas  Grand Cay      None   \n",
       "15      0  District  BS.GC    18    13  BHS  Bahamas  Grand Cay      None   \n",
       "16      0  District  BS.GC    18    13  BHS  Bahamas  Grand Cay      None   \n",
       "\n",
       "      TYPE_1 VARNAME_1  \n",
       "0   District      None  \n",
       "13  District      None  \n",
       "14  District      None  \n",
       "15  District      None  \n",
       "16  District      None  "
      ]
     },
     "execution_count": 37,
     "metadata": {},
     "output_type": "execute_result"
    }
   ],
   "source": [
    "# pts_in_region.head()"
   ]
  },
  {
   "cell_type": "code",
   "execution_count": 38,
   "metadata": {
    "collapsed": false
   },
   "outputs": [
    {
     "data": {
      "text/plain": [
       "87720"
      ]
     },
     "execution_count": 38,
     "metadata": {},
     "output_type": "execute_result"
    }
   ],
   "source": [
    "# pts_in_region.size"
   ]
  }
 ],
 "metadata": {
  "kernelspec": {
   "display_name": "Python 2",
   "language": "python",
   "name": "python2"
  },
  "language_info": {
   "codemirror_mode": {
    "name": "ipython",
    "version": 2
   },
   "file_extension": ".py",
   "mimetype": "text/x-python",
   "name": "python",
   "nbconvert_exporter": "python",
   "pygments_lexer": "ipython2",
   "version": "2.7.6"
  }
 },
 "nbformat": 4,
 "nbformat_minor": 0
}
